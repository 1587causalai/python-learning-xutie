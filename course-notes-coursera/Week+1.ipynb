{
 "cells": [
  {
   "cell_type": "markdown",
   "metadata": {},
   "source": [
    "---\n",
    "\n",
    "_You are currently looking at **version 1.1** of this notebook. To download notebooks and datafiles, as well as get help on Jupyter notebooks in the Coursera platform, visit the [Jupyter Notebook FAQ](https://www.coursera.org/learn/python-data-analysis/resources/0dhYG) course resource._\n",
    "\n",
    "---"
   ]
  },
  {
   "cell_type": "markdown",
   "metadata": {},
   "source": [
    "# The Python Programming Language: Functions"
   ]
  },
  {
   "cell_type": "code",
   "execution_count": 1,
   "metadata": {
    "collapsed": false
   },
   "outputs": [
    {
     "data": {
      "text/plain": [
       "3"
      ]
     },
     "execution_count": 1,
     "metadata": {},
     "output_type": "execute_result"
    }
   ],
   "source": [
    "x = 1\n",
    "y = 2\n",
    "x + y"
   ]
  },
  {
   "cell_type": "code",
   "execution_count": 2,
   "metadata": {
    "collapsed": false
   },
   "outputs": [
    {
     "data": {
      "text/plain": [
       "1"
      ]
     },
     "execution_count": 2,
     "metadata": {},
     "output_type": "execute_result"
    }
   ],
   "source": [
    "x"
   ]
  },
  {
   "cell_type": "markdown",
   "metadata": {},
   "source": [
    "<br>\n",
    "`add_numbers` is a function that takes two numbers and adds them together."
   ]
  },
  {
   "cell_type": "code",
   "execution_count": 3,
   "metadata": {
    "collapsed": false
   },
   "outputs": [
    {
     "data": {
      "text/plain": [
       "3"
      ]
     },
     "execution_count": 3,
     "metadata": {},
     "output_type": "execute_result"
    }
   ],
   "source": [
    "def add_numbers(x, y):\n",
    "    return x + y\n",
    "\n",
    "add_numbers(1, 2)"
   ]
  },
  {
   "cell_type": "markdown",
   "metadata": {},
   "source": [
    "<br>\n",
    "`add_numbers` updated to take an optional 3rd parameter. Using `print` allows printing of multiple expressions within a single cell."
   ]
  },
  {
   "cell_type": "code",
   "execution_count": 4,
   "metadata": {
    "collapsed": false
   },
   "outputs": [
    {
     "name": "stdout",
     "output_type": "stream",
     "text": [
      "3\n",
      "6\n"
     ]
    }
   ],
   "source": [
    "def add_numbers(x,y,z=None):\n",
    "    if (z==None):\n",
    "        return x+y\n",
    "    else:\n",
    "        return x+y+z\n",
    "\n",
    "print(add_numbers(1, 2))\n",
    "print(add_numbers(1, 2, 3))"
   ]
  },
  {
   "cell_type": "markdown",
   "metadata": {},
   "source": [
    "<br>\n",
    "`add_numbers` updated to take an optional flag parameter."
   ]
  },
  {
   "cell_type": "code",
   "execution_count": 5,
   "metadata": {
    "collapsed": false
   },
   "outputs": [
    {
     "name": "stdout",
     "output_type": "stream",
     "text": [
      "Flag is true!\n",
      "3\n"
     ]
    }
   ],
   "source": [
    "def add_numbers(x, y, z=None, flag=False):\n",
    "    if (flag):\n",
    "        print('Flag is true!')\n",
    "    if (z==None):\n",
    "        return x + y\n",
    "    else:\n",
    "        return x + y + z\n",
    "    \n",
    "print(add_numbers(1, 2, flag=True))"
   ]
  },
  {
   "cell_type": "markdown",
   "metadata": {},
   "source": [
    "<br>\n",
    "Assign function `add_numbers` to variable `a`."
   ]
  },
  {
   "cell_type": "code",
   "execution_count": 6,
   "metadata": {
    "collapsed": false
   },
   "outputs": [
    {
     "data": {
      "text/plain": [
       "3"
      ]
     },
     "execution_count": 6,
     "metadata": {},
     "output_type": "execute_result"
    }
   ],
   "source": [
    "def add_numbers(x,y):\n",
    "    return x+y\n",
    "\n",
    "a = add_numbers\n",
    "a(1,2)"
   ]
  },
  {
   "cell_type": "markdown",
   "metadata": {},
   "source": [
    "<br>\n",
    "# The Python Programming Language: Types and Sequences"
   ]
  },
  {
   "cell_type": "markdown",
   "metadata": {},
   "source": [
    "<br>\n",
    "Use `type` to return the object's type."
   ]
  },
  {
   "cell_type": "code",
   "execution_count": 7,
   "metadata": {
    "collapsed": false
   },
   "outputs": [
    {
     "data": {
      "text/plain": [
       "str"
      ]
     },
     "execution_count": 7,
     "metadata": {},
     "output_type": "execute_result"
    }
   ],
   "source": [
    "type('This is a string')"
   ]
  },
  {
   "cell_type": "code",
   "execution_count": 8,
   "metadata": {
    "collapsed": false
   },
   "outputs": [
    {
     "data": {
      "text/plain": [
       "NoneType"
      ]
     },
     "execution_count": 8,
     "metadata": {},
     "output_type": "execute_result"
    }
   ],
   "source": [
    "type(None)"
   ]
  },
  {
   "cell_type": "code",
   "execution_count": 9,
   "metadata": {
    "collapsed": false
   },
   "outputs": [
    {
     "data": {
      "text/plain": [
       "int"
      ]
     },
     "execution_count": 9,
     "metadata": {},
     "output_type": "execute_result"
    }
   ],
   "source": [
    "type(1)"
   ]
  },
  {
   "cell_type": "code",
   "execution_count": 10,
   "metadata": {
    "collapsed": false
   },
   "outputs": [
    {
     "data": {
      "text/plain": [
       "float"
      ]
     },
     "execution_count": 10,
     "metadata": {},
     "output_type": "execute_result"
    }
   ],
   "source": [
    "type(1.0)"
   ]
  },
  {
   "cell_type": "code",
   "execution_count": 11,
   "metadata": {
    "collapsed": false
   },
   "outputs": [
    {
     "data": {
      "text/plain": [
       "function"
      ]
     },
     "execution_count": 11,
     "metadata": {},
     "output_type": "execute_result"
    }
   ],
   "source": [
    "type(add_numbers)"
   ]
  },
  {
   "cell_type": "markdown",
   "metadata": {},
   "source": [
    "<br>\n",
    "Tuples are an immutable data structure (cannot be altered)."
   ]
  },
  {
   "cell_type": "code",
   "execution_count": 12,
   "metadata": {
    "collapsed": false
   },
   "outputs": [
    {
     "data": {
      "text/plain": [
       "tuple"
      ]
     },
     "execution_count": 12,
     "metadata": {},
     "output_type": "execute_result"
    }
   ],
   "source": [
    "x = (1, 'a', 2, 'b')\n",
    "type(x)"
   ]
  },
  {
   "cell_type": "markdown",
   "metadata": {},
   "source": [
    "<br>\n",
    "Lists are a mutable data structure."
   ]
  },
  {
   "cell_type": "code",
   "execution_count": 13,
   "metadata": {
    "collapsed": false
   },
   "outputs": [
    {
     "data": {
      "text/plain": [
       "list"
      ]
     },
     "execution_count": 13,
     "metadata": {},
     "output_type": "execute_result"
    }
   ],
   "source": [
    "x = [1, 'a', 2, 'b']\n",
    "type(x)"
   ]
  },
  {
   "cell_type": "markdown",
   "metadata": {},
   "source": [
    "<br>\n",
    "Use `append` to append an object to a list."
   ]
  },
  {
   "cell_type": "code",
   "execution_count": 14,
   "metadata": {
    "collapsed": false
   },
   "outputs": [
    {
     "name": "stdout",
     "output_type": "stream",
     "text": [
      "[1, 'a', 2, 'b', 3.3]\n"
     ]
    }
   ],
   "source": [
    "x.append(3.3)\n",
    "print(x)"
   ]
  },
  {
   "cell_type": "markdown",
   "metadata": {},
   "source": [
    "<br>\n",
    "This is an example of how to loop through each item in the list."
   ]
  },
  {
   "cell_type": "code",
   "execution_count": 15,
   "metadata": {
    "collapsed": false
   },
   "outputs": [
    {
     "name": "stdout",
     "output_type": "stream",
     "text": [
      "1\n",
      "a\n",
      "2\n",
      "b\n",
      "3.3\n"
     ]
    }
   ],
   "source": [
    "for item in x:\n",
    "    print(item)"
   ]
  },
  {
   "cell_type": "markdown",
   "metadata": {},
   "source": [
    "<br>\n",
    "Or using the indexing operator:"
   ]
  },
  {
   "cell_type": "code",
   "execution_count": 16,
   "metadata": {
    "collapsed": false
   },
   "outputs": [
    {
     "name": "stdout",
     "output_type": "stream",
     "text": [
      "1\n",
      "a\n",
      "2\n",
      "b\n",
      "3.3\n"
     ]
    }
   ],
   "source": [
    "i=0\n",
    "while( i != len(x) ):\n",
    "    print(x[i])\n",
    "    i = i + 1"
   ]
  },
  {
   "cell_type": "markdown",
   "metadata": {},
   "source": [
    "<br>\n",
    "Use `+` to concatenate lists."
   ]
  },
  {
   "cell_type": "code",
   "execution_count": 17,
   "metadata": {
    "collapsed": false
   },
   "outputs": [
    {
     "data": {
      "text/plain": [
       "[1, 2, 3, 4]"
      ]
     },
     "execution_count": 17,
     "metadata": {},
     "output_type": "execute_result"
    }
   ],
   "source": [
    "[1,2] + [3,4]"
   ]
  },
  {
   "cell_type": "markdown",
   "metadata": {},
   "source": [
    "<br>\n",
    "Use `*` to repeat lists."
   ]
  },
  {
   "cell_type": "code",
   "execution_count": 18,
   "metadata": {
    "collapsed": false
   },
   "outputs": [
    {
     "data": {
      "text/plain": [
       "[1, 1, 1]"
      ]
     },
     "execution_count": 18,
     "metadata": {},
     "output_type": "execute_result"
    }
   ],
   "source": [
    "[1]*3"
   ]
  },
  {
   "cell_type": "markdown",
   "metadata": {},
   "source": [
    "<br>\n",
    "Use the `in` operator to check if something is inside a list."
   ]
  },
  {
   "cell_type": "code",
   "execution_count": 19,
   "metadata": {
    "collapsed": false
   },
   "outputs": [
    {
     "data": {
      "text/plain": [
       "True"
      ]
     },
     "execution_count": 19,
     "metadata": {},
     "output_type": "execute_result"
    }
   ],
   "source": [
    "1 in [1, 2, 3]"
   ]
  },
  {
   "cell_type": "markdown",
   "metadata": {},
   "source": [
    "<br>\n",
    "Now let's look at strings. Use bracket notation to slice a string."
   ]
  },
  {
   "cell_type": "code",
   "execution_count": 20,
   "metadata": {
    "collapsed": false
   },
   "outputs": [
    {
     "name": "stdout",
     "output_type": "stream",
     "text": [
      "T\n",
      "T\n",
      "Th\n"
     ]
    }
   ],
   "source": [
    "x = 'This is a string'\n",
    "print(x[0]) #first character\n",
    "print(x[0:1]) #first character, but we have explicitly set the end character\n",
    "print(x[0:2]) #first two characters\n"
   ]
  },
  {
   "cell_type": "markdown",
   "metadata": {},
   "source": [
    "<br>\n",
    "This will return the last element of the string."
   ]
  },
  {
   "cell_type": "code",
   "execution_count": 21,
   "metadata": {
    "collapsed": false
   },
   "outputs": [
    {
     "data": {
      "text/plain": [
       "'g'"
      ]
     },
     "execution_count": 21,
     "metadata": {},
     "output_type": "execute_result"
    }
   ],
   "source": [
    "x[-1]"
   ]
  },
  {
   "cell_type": "markdown",
   "metadata": {},
   "source": [
    "<br>\n",
    "This will return the slice starting from the 4th element from the end and stopping before the 2nd element from the end."
   ]
  },
  {
   "cell_type": "code",
   "execution_count": 22,
   "metadata": {
    "collapsed": false
   },
   "outputs": [
    {
     "data": {
      "text/plain": [
       "'ri'"
      ]
     },
     "execution_count": 22,
     "metadata": {},
     "output_type": "execute_result"
    }
   ],
   "source": [
    "x[-4:-2]"
   ]
  },
  {
   "cell_type": "markdown",
   "metadata": {},
   "source": [
    "<br>\n",
    "This is a slice from the beginning of the string and stopping before the 3rd element."
   ]
  },
  {
   "cell_type": "code",
   "execution_count": 23,
   "metadata": {
    "collapsed": false
   },
   "outputs": [
    {
     "data": {
      "text/plain": [
       "'Thi'"
      ]
     },
     "execution_count": 23,
     "metadata": {},
     "output_type": "execute_result"
    }
   ],
   "source": [
    "x[:3]"
   ]
  },
  {
   "cell_type": "markdown",
   "metadata": {},
   "source": [
    "<br>\n",
    "And this is a slice starting from the 3rd element of the string and going all the way to the end."
   ]
  },
  {
   "cell_type": "code",
   "execution_count": 24,
   "metadata": {
    "collapsed": false
   },
   "outputs": [
    {
     "data": {
      "text/plain": [
       "'s is a string'"
      ]
     },
     "execution_count": 24,
     "metadata": {},
     "output_type": "execute_result"
    }
   ],
   "source": [
    "x[3:]"
   ]
  },
  {
   "cell_type": "code",
   "execution_count": 25,
   "metadata": {
    "collapsed": false
   },
   "outputs": [
    {
     "name": "stdout",
     "output_type": "stream",
     "text": [
      "Christopher Brooks\n",
      "ChristopherChristopherChristopher\n",
      "True\n"
     ]
    }
   ],
   "source": [
    "firstname = 'Christopher'\n",
    "lastname = 'Brooks'\n",
    "\n",
    "print(firstname + ' ' + lastname)\n",
    "print(firstname*3)\n",
    "print('Chris' in firstname)\n"
   ]
  },
  {
   "cell_type": "markdown",
   "metadata": {},
   "source": [
    "<br>\n",
    "`split` returns a list of all the words in a string, or a list split on a specific character."
   ]
  },
  {
   "cell_type": "code",
   "execution_count": 26,
   "metadata": {
    "collapsed": false
   },
   "outputs": [
    {
     "name": "stdout",
     "output_type": "stream",
     "text": [
      "Christopher\n",
      "Brooks\n"
     ]
    }
   ],
   "source": [
    "firstname = 'Christopher Arthur Hansen Brooks'.split(' ')[0] # [0] selects the first element of the list\n",
    "lastname = 'Christopher Arthur Hansen Brooks'.split(' ')[-1] # [-1] selects the last element of the list\n",
    "print(firstname)\n",
    "print(lastname)"
   ]
  },
  {
   "cell_type": "markdown",
   "metadata": {},
   "source": [
    "<br>\n",
    "Make sure you convert objects to strings before concatenating."
   ]
  },
  {
   "cell_type": "code",
   "execution_count": 27,
   "metadata": {
    "collapsed": false
   },
   "outputs": [
    {
     "ename": "TypeError",
     "evalue": "Can't convert 'int' object to str implicitly",
     "output_type": "error",
     "traceback": [
      "\u001b[0;31m---------------------------------------------------------------------------\u001b[0m",
      "\u001b[0;31mTypeError\u001b[0m                                 Traceback (most recent call last)",
      "\u001b[0;32m<ipython-input-27-1623ac76de6e>\u001b[0m in \u001b[0;36m<module>\u001b[0;34m()\u001b[0m\n\u001b[0;32m----> 1\u001b[0;31m \u001b[0;34m'Chris'\u001b[0m \u001b[0;34m+\u001b[0m \u001b[0;36m2\u001b[0m\u001b[0;34m\u001b[0m\u001b[0m\n\u001b[0m",
      "\u001b[0;31mTypeError\u001b[0m: Can't convert 'int' object to str implicitly"
     ]
    }
   ],
   "source": [
    "'Chris' + 2"
   ]
  },
  {
   "cell_type": "code",
   "execution_count": 28,
   "metadata": {
    "collapsed": false
   },
   "outputs": [
    {
     "data": {
      "text/plain": [
       "'Chris2'"
      ]
     },
     "execution_count": 28,
     "metadata": {},
     "output_type": "execute_result"
    }
   ],
   "source": [
    "'Chris' + str(2)"
   ]
  },
  {
   "cell_type": "markdown",
   "metadata": {},
   "source": [
    "<br>\n",
    "Dictionaries associate keys with values."
   ]
  },
  {
   "cell_type": "code",
   "execution_count": 32,
   "metadata": {
    "collapsed": false
   },
   "outputs": [
    {
     "data": {
      "text/plain": [
       "'brooksch@umich.edu'"
      ]
     },
     "execution_count": 32,
     "metadata": {},
     "output_type": "execute_result"
    }
   ],
   "source": [
    "x = {'Christopher Brooks': 'brooksch@umich.edu', 'Bill Gates': 'billg@microsoft.com'}\n",
    "x['Christopher Brooks'] # Retrieve a value by using the indexing operator\n"
   ]
  },
  {
   "cell_type": "code",
   "execution_count": 33,
   "metadata": {
    "collapsed": true
   },
   "outputs": [],
   "source": [
    "x['Kevyn Collins-Thompson'] = None\n",
    "x['Kevyn Collins-Thompson']"
   ]
  },
  {
   "cell_type": "markdown",
   "metadata": {},
   "source": [
    "<br>\n",
    "Iterate over all of the keys:"
   ]
  },
  {
   "cell_type": "code",
   "execution_count": 34,
   "metadata": {
    "collapsed": false,
    "scrolled": true
   },
   "outputs": [
    {
     "name": "stdout",
     "output_type": "stream",
     "text": [
      "brooksch@umich.edu\n",
      "billg@microsoft.com\n",
      "None\n"
     ]
    }
   ],
   "source": [
    "\n",
    "\n",
    "for name in x:\n",
    "    print(x[name])"
   ]
  },
  {
   "cell_type": "markdown",
   "metadata": {},
   "source": [
    "<br>\n",
    "Iterate over all of the values:"
   ]
  },
  {
   "cell_type": "code",
   "execution_count": 35,
   "metadata": {
    "collapsed": false
   },
   "outputs": [
    {
     "name": "stdout",
     "output_type": "stream",
     "text": [
      "brooksch@umich.edu\n",
      "billg@microsoft.com\n",
      "None\n"
     ]
    }
   ],
   "source": [
    "for email in x.values():\n",
    "    print(email)"
   ]
  },
  {
   "cell_type": "markdown",
   "metadata": {},
   "source": [
    "<br>\n",
    "Iterate over all of the items in the list:"
   ]
  },
  {
   "cell_type": "code",
   "execution_count": 36,
   "metadata": {
    "collapsed": false
   },
   "outputs": [
    {
     "name": "stdout",
     "output_type": "stream",
     "text": [
      "Christopher Brooks\n",
      "brooksch@umich.edu\n",
      "Bill Gates\n",
      "billg@microsoft.com\n",
      "Kevyn Collins-Thompson\n",
      "None\n"
     ]
    }
   ],
   "source": [
    "for name, email in x.items():\n",
    "    print(name)\n",
    "    print(email)"
   ]
  },
  {
   "cell_type": "markdown",
   "metadata": {},
   "source": [
    "<br>\n",
    "You can unpack a sequence into different variables:"
   ]
  },
  {
   "cell_type": "code",
   "execution_count": 37,
   "metadata": {
    "collapsed": true
   },
   "outputs": [],
   "source": [
    "x = ('Christopher', 'Brooks', 'brooksch@umich.edu')\n",
    "fname, lname, email = x"
   ]
  },
  {
   "cell_type": "code",
   "execution_count": 38,
   "metadata": {
    "collapsed": false
   },
   "outputs": [
    {
     "data": {
      "text/plain": [
       "tuple"
      ]
     },
     "execution_count": 38,
     "metadata": {},
     "output_type": "execute_result"
    }
   ],
   "source": [
    "fname\n",
    "type(x)"
   ]
  },
  {
   "cell_type": "code",
   "execution_count": 39,
   "metadata": {
    "collapsed": false
   },
   "outputs": [
    {
     "data": {
      "text/plain": [
       "'Brooks'"
      ]
     },
     "execution_count": 39,
     "metadata": {},
     "output_type": "execute_result"
    }
   ],
   "source": [
    "lname"
   ]
  },
  {
   "cell_type": "markdown",
   "metadata": {},
   "source": [
    "<br>\n",
    "Make sure the number of values you are unpacking matches the number of variables being assigned."
   ]
  },
  {
   "cell_type": "code",
   "execution_count": 40,
   "metadata": {
    "collapsed": false
   },
   "outputs": [
    {
     "ename": "ValueError",
     "evalue": "too many values to unpack (expected 3)",
     "output_type": "error",
     "traceback": [
      "\u001b[0;31m---------------------------------------------------------------------------\u001b[0m",
      "\u001b[0;31mValueError\u001b[0m                                Traceback (most recent call last)",
      "\u001b[0;32m<ipython-input-40-9ce70064f53e>\u001b[0m in \u001b[0;36m<module>\u001b[0;34m()\u001b[0m\n\u001b[1;32m      1\u001b[0m \u001b[0mx\u001b[0m \u001b[0;34m=\u001b[0m \u001b[0;34m(\u001b[0m\u001b[0;34m'Christopher'\u001b[0m\u001b[0;34m,\u001b[0m \u001b[0;34m'Brooks'\u001b[0m\u001b[0;34m,\u001b[0m \u001b[0;34m'brooksch@umich.edu'\u001b[0m\u001b[0;34m,\u001b[0m \u001b[0;34m'Ann Arbor'\u001b[0m\u001b[0;34m)\u001b[0m\u001b[0;34m\u001b[0m\u001b[0m\n\u001b[0;32m----> 2\u001b[0;31m \u001b[0mfname\u001b[0m\u001b[0;34m,\u001b[0m \u001b[0mlname\u001b[0m\u001b[0;34m,\u001b[0m \u001b[0memail\u001b[0m \u001b[0;34m=\u001b[0m \u001b[0mx\u001b[0m\u001b[0;34m\u001b[0m\u001b[0m\n\u001b[0m",
      "\u001b[0;31mValueError\u001b[0m: too many values to unpack (expected 3)"
     ]
    }
   ],
   "source": [
    "x = ('Christopher', 'Brooks', 'brooksch@umich.edu', 'Ann Arbor')\n",
    "fname, lname, email = x"
   ]
  },
  {
   "cell_type": "markdown",
   "metadata": {},
   "source": [
    "<br>\n",
    "# The Python Programming Language: More on Strings"
   ]
  },
  {
   "cell_type": "code",
   "execution_count": 41,
   "metadata": {
    "collapsed": false
   },
   "outputs": [
    {
     "ename": "TypeError",
     "evalue": "Can't convert 'int' object to str implicitly",
     "output_type": "error",
     "traceback": [
      "\u001b[0;31m---------------------------------------------------------------------------\u001b[0m",
      "\u001b[0;31mTypeError\u001b[0m                                 Traceback (most recent call last)",
      "\u001b[0;32m<ipython-input-41-82ccfdd3d5d3>\u001b[0m in \u001b[0;36m<module>\u001b[0;34m()\u001b[0m\n\u001b[0;32m----> 1\u001b[0;31m \u001b[0mprint\u001b[0m\u001b[0;34m(\u001b[0m\u001b[0;34m'Chris'\u001b[0m \u001b[0;34m+\u001b[0m \u001b[0;36m2\u001b[0m\u001b[0;34m)\u001b[0m\u001b[0;34m\u001b[0m\u001b[0m\n\u001b[0m",
      "\u001b[0;31mTypeError\u001b[0m: Can't convert 'int' object to str implicitly"
     ]
    }
   ],
   "source": [
    "print('Chris' + 2)"
   ]
  },
  {
   "cell_type": "code",
   "execution_count": 42,
   "metadata": {
    "collapsed": false
   },
   "outputs": [
    {
     "name": "stdout",
     "output_type": "stream",
     "text": [
      "Chris2\n"
     ]
    }
   ],
   "source": [
    "print('Chris' + str(2))"
   ]
  },
  {
   "cell_type": "markdown",
   "metadata": {},
   "source": [
    "<br>\n",
    "Python has a built in method for convenient string formatting."
   ]
  },
  {
   "cell_type": "code",
   "execution_count": 43,
   "metadata": {
    "collapsed": false
   },
   "outputs": [
    {
     "name": "stdout",
     "output_type": "stream",
     "text": [
      "Chris bought 4 item(s) at a price of 3.24 each for a total of 12.96\n"
     ]
    }
   ],
   "source": [
    "sales_record = {\n",
    "'price': 3.24,\n",
    "'num_items': 4,\n",
    "'person': 'Chris'}\n",
    "\n",
    "sales_statement = '{} bought {} item(s) at a price of {} each for a total of {}'\n",
    "\n",
    "print(sales_statement.format(sales_record['person'],\n",
    "                             sales_record['num_items'],\n",
    "                             sales_record['price'],\n",
    "                             sales_record['num_items']*sales_record['price']))\n"
   ]
  },
  {
   "cell_type": "markdown",
   "metadata": {},
   "source": [
    "<br>\n",
    "# Reading and Writing CSV files"
   ]
  },
  {
   "cell_type": "markdown",
   "metadata": {},
   "source": [
    "<br>\n",
    "Let's import our datafile mpg.csv, which contains fuel economy data for 234 cars.\n",
    "\n",
    "* mpg : miles per gallon\n",
    "* class : car classification\n",
    "* cty : city mpg\n",
    "* cyl : # of cylinders\n",
    "* displ : engine displacement in liters\n",
    "* drv : f = front-wheel drive, r = rear wheel drive, 4 = 4wd\n",
    "* fl : fuel (e = ethanol E85, d = diesel, r = regular, p = premium, c = CNG)\n",
    "* hwy : highway mpg\n",
    "* manufacturer : automobile manufacturer\n",
    "* model : model of car\n",
    "* trans : type of transmission\n",
    "* year : model year"
   ]
  },
  {
   "cell_type": "code",
   "execution_count": 2,
   "metadata": {
    "collapsed": false,
    "scrolled": true
   },
   "outputs": [
    {
     "data": {
      "text/plain": [
       "[{'': '1',\n",
       "  'class': 'compact',\n",
       "  'cty': '18',\n",
       "  'cyl': '4',\n",
       "  'displ': '1.8',\n",
       "  'drv': 'f',\n",
       "  'fl': 'p',\n",
       "  'hwy': '29',\n",
       "  'manufacturer': 'audi',\n",
       "  'model': 'a4',\n",
       "  'trans': 'auto(l5)',\n",
       "  'year': '1999'},\n",
       " {'': '2',\n",
       "  'class': 'compact',\n",
       "  'cty': '21',\n",
       "  'cyl': '4',\n",
       "  'displ': '1.8',\n",
       "  'drv': 'f',\n",
       "  'fl': 'p',\n",
       "  'hwy': '29',\n",
       "  'manufacturer': 'audi',\n",
       "  'model': 'a4',\n",
       "  'trans': 'manual(m5)',\n",
       "  'year': '1999'},\n",
       " {'': '3',\n",
       "  'class': 'compact',\n",
       "  'cty': '20',\n",
       "  'cyl': '4',\n",
       "  'displ': '2',\n",
       "  'drv': 'f',\n",
       "  'fl': 'p',\n",
       "  'hwy': '31',\n",
       "  'manufacturer': 'audi',\n",
       "  'model': 'a4',\n",
       "  'trans': 'manual(m6)',\n",
       "  'year': '2008'},\n",
       " {'': '4',\n",
       "  'class': 'compact',\n",
       "  'cty': '21',\n",
       "  'cyl': '4',\n",
       "  'displ': '2',\n",
       "  'drv': 'f',\n",
       "  'fl': 'p',\n",
       "  'hwy': '30',\n",
       "  'manufacturer': 'audi',\n",
       "  'model': 'a4',\n",
       "  'trans': 'auto(av)',\n",
       "  'year': '2008'},\n",
       " {'': '5',\n",
       "  'class': 'compact',\n",
       "  'cty': '16',\n",
       "  'cyl': '6',\n",
       "  'displ': '2.8',\n",
       "  'drv': 'f',\n",
       "  'fl': 'p',\n",
       "  'hwy': '26',\n",
       "  'manufacturer': 'audi',\n",
       "  'model': 'a4',\n",
       "  'trans': 'auto(l5)',\n",
       "  'year': '1999'},\n",
       " {'': '6',\n",
       "  'class': 'compact',\n",
       "  'cty': '18',\n",
       "  'cyl': '6',\n",
       "  'displ': '2.8',\n",
       "  'drv': 'f',\n",
       "  'fl': 'p',\n",
       "  'hwy': '26',\n",
       "  'manufacturer': 'audi',\n",
       "  'model': 'a4',\n",
       "  'trans': 'manual(m5)',\n",
       "  'year': '1999'},\n",
       " {'': '7',\n",
       "  'class': 'compact',\n",
       "  'cty': '18',\n",
       "  'cyl': '6',\n",
       "  'displ': '3.1',\n",
       "  'drv': 'f',\n",
       "  'fl': 'p',\n",
       "  'hwy': '27',\n",
       "  'manufacturer': 'audi',\n",
       "  'model': 'a4',\n",
       "  'trans': 'auto(av)',\n",
       "  'year': '2008'},\n",
       " {'': '8',\n",
       "  'class': 'compact',\n",
       "  'cty': '18',\n",
       "  'cyl': '4',\n",
       "  'displ': '1.8',\n",
       "  'drv': '4',\n",
       "  'fl': 'p',\n",
       "  'hwy': '26',\n",
       "  'manufacturer': 'audi',\n",
       "  'model': 'a4 quattro',\n",
       "  'trans': 'manual(m5)',\n",
       "  'year': '1999'},\n",
       " {'': '9',\n",
       "  'class': 'compact',\n",
       "  'cty': '16',\n",
       "  'cyl': '4',\n",
       "  'displ': '1.8',\n",
       "  'drv': '4',\n",
       "  'fl': 'p',\n",
       "  'hwy': '25',\n",
       "  'manufacturer': 'audi',\n",
       "  'model': 'a4 quattro',\n",
       "  'trans': 'auto(l5)',\n",
       "  'year': '1999'},\n",
       " {'': '10',\n",
       "  'class': 'compact',\n",
       "  'cty': '20',\n",
       "  'cyl': '4',\n",
       "  'displ': '2',\n",
       "  'drv': '4',\n",
       "  'fl': 'p',\n",
       "  'hwy': '28',\n",
       "  'manufacturer': 'audi',\n",
       "  'model': 'a4 quattro',\n",
       "  'trans': 'manual(m6)',\n",
       "  'year': '2008'},\n",
       " {'': '11',\n",
       "  'class': 'compact',\n",
       "  'cty': '19',\n",
       "  'cyl': '4',\n",
       "  'displ': '2',\n",
       "  'drv': '4',\n",
       "  'fl': 'p',\n",
       "  'hwy': '27',\n",
       "  'manufacturer': 'audi',\n",
       "  'model': 'a4 quattro',\n",
       "  'trans': 'auto(s6)',\n",
       "  'year': '2008'},\n",
       " {'': '12',\n",
       "  'class': 'compact',\n",
       "  'cty': '15',\n",
       "  'cyl': '6',\n",
       "  'displ': '2.8',\n",
       "  'drv': '4',\n",
       "  'fl': 'p',\n",
       "  'hwy': '25',\n",
       "  'manufacturer': 'audi',\n",
       "  'model': 'a4 quattro',\n",
       "  'trans': 'auto(l5)',\n",
       "  'year': '1999'},\n",
       " {'': '13',\n",
       "  'class': 'compact',\n",
       "  'cty': '17',\n",
       "  'cyl': '6',\n",
       "  'displ': '2.8',\n",
       "  'drv': '4',\n",
       "  'fl': 'p',\n",
       "  'hwy': '25',\n",
       "  'manufacturer': 'audi',\n",
       "  'model': 'a4 quattro',\n",
       "  'trans': 'manual(m5)',\n",
       "  'year': '1999'},\n",
       " {'': '14',\n",
       "  'class': 'compact',\n",
       "  'cty': '17',\n",
       "  'cyl': '6',\n",
       "  'displ': '3.1',\n",
       "  'drv': '4',\n",
       "  'fl': 'p',\n",
       "  'hwy': '25',\n",
       "  'manufacturer': 'audi',\n",
       "  'model': 'a4 quattro',\n",
       "  'trans': 'auto(s6)',\n",
       "  'year': '2008'},\n",
       " {'': '15',\n",
       "  'class': 'compact',\n",
       "  'cty': '15',\n",
       "  'cyl': '6',\n",
       "  'displ': '3.1',\n",
       "  'drv': '4',\n",
       "  'fl': 'p',\n",
       "  'hwy': '25',\n",
       "  'manufacturer': 'audi',\n",
       "  'model': 'a4 quattro',\n",
       "  'trans': 'manual(m6)',\n",
       "  'year': '2008'},\n",
       " {'': '16',\n",
       "  'class': 'midsize',\n",
       "  'cty': '15',\n",
       "  'cyl': '6',\n",
       "  'displ': '2.8',\n",
       "  'drv': '4',\n",
       "  'fl': 'p',\n",
       "  'hwy': '24',\n",
       "  'manufacturer': 'audi',\n",
       "  'model': 'a6 quattro',\n",
       "  'trans': 'auto(l5)',\n",
       "  'year': '1999'},\n",
       " {'': '17',\n",
       "  'class': 'midsize',\n",
       "  'cty': '17',\n",
       "  'cyl': '6',\n",
       "  'displ': '3.1',\n",
       "  'drv': '4',\n",
       "  'fl': 'p',\n",
       "  'hwy': '25',\n",
       "  'manufacturer': 'audi',\n",
       "  'model': 'a6 quattro',\n",
       "  'trans': 'auto(s6)',\n",
       "  'year': '2008'},\n",
       " {'': '18',\n",
       "  'class': 'midsize',\n",
       "  'cty': '16',\n",
       "  'cyl': '8',\n",
       "  'displ': '4.2',\n",
       "  'drv': '4',\n",
       "  'fl': 'p',\n",
       "  'hwy': '23',\n",
       "  'manufacturer': 'audi',\n",
       "  'model': 'a6 quattro',\n",
       "  'trans': 'auto(s6)',\n",
       "  'year': '2008'},\n",
       " {'': '19',\n",
       "  'class': 'suv',\n",
       "  'cty': '14',\n",
       "  'cyl': '8',\n",
       "  'displ': '5.3',\n",
       "  'drv': 'r',\n",
       "  'fl': 'r',\n",
       "  'hwy': '20',\n",
       "  'manufacturer': 'chevrolet',\n",
       "  'model': 'c1500 suburban 2wd',\n",
       "  'trans': 'auto(l4)',\n",
       "  'year': '2008'},\n",
       " {'': '20',\n",
       "  'class': 'suv',\n",
       "  'cty': '11',\n",
       "  'cyl': '8',\n",
       "  'displ': '5.3',\n",
       "  'drv': 'r',\n",
       "  'fl': 'e',\n",
       "  'hwy': '15',\n",
       "  'manufacturer': 'chevrolet',\n",
       "  'model': 'c1500 suburban 2wd',\n",
       "  'trans': 'auto(l4)',\n",
       "  'year': '2008'},\n",
       " {'': '21',\n",
       "  'class': 'suv',\n",
       "  'cty': '14',\n",
       "  'cyl': '8',\n",
       "  'displ': '5.3',\n",
       "  'drv': 'r',\n",
       "  'fl': 'r',\n",
       "  'hwy': '20',\n",
       "  'manufacturer': 'chevrolet',\n",
       "  'model': 'c1500 suburban 2wd',\n",
       "  'trans': 'auto(l4)',\n",
       "  'year': '2008'},\n",
       " {'': '22',\n",
       "  'class': 'suv',\n",
       "  'cty': '13',\n",
       "  'cyl': '8',\n",
       "  'displ': '5.7',\n",
       "  'drv': 'r',\n",
       "  'fl': 'r',\n",
       "  'hwy': '17',\n",
       "  'manufacturer': 'chevrolet',\n",
       "  'model': 'c1500 suburban 2wd',\n",
       "  'trans': 'auto(l4)',\n",
       "  'year': '1999'},\n",
       " {'': '23',\n",
       "  'class': 'suv',\n",
       "  'cty': '12',\n",
       "  'cyl': '8',\n",
       "  'displ': '6',\n",
       "  'drv': 'r',\n",
       "  'fl': 'r',\n",
       "  'hwy': '17',\n",
       "  'manufacturer': 'chevrolet',\n",
       "  'model': 'c1500 suburban 2wd',\n",
       "  'trans': 'auto(l4)',\n",
       "  'year': '2008'},\n",
       " {'': '24',\n",
       "  'class': '2seater',\n",
       "  'cty': '16',\n",
       "  'cyl': '8',\n",
       "  'displ': '5.7',\n",
       "  'drv': 'r',\n",
       "  'fl': 'p',\n",
       "  'hwy': '26',\n",
       "  'manufacturer': 'chevrolet',\n",
       "  'model': 'corvette',\n",
       "  'trans': 'manual(m6)',\n",
       "  'year': '1999'},\n",
       " {'': '25',\n",
       "  'class': '2seater',\n",
       "  'cty': '15',\n",
       "  'cyl': '8',\n",
       "  'displ': '5.7',\n",
       "  'drv': 'r',\n",
       "  'fl': 'p',\n",
       "  'hwy': '23',\n",
       "  'manufacturer': 'chevrolet',\n",
       "  'model': 'corvette',\n",
       "  'trans': 'auto(l4)',\n",
       "  'year': '1999'},\n",
       " {'': '26',\n",
       "  'class': '2seater',\n",
       "  'cty': '16',\n",
       "  'cyl': '8',\n",
       "  'displ': '6.2',\n",
       "  'drv': 'r',\n",
       "  'fl': 'p',\n",
       "  'hwy': '26',\n",
       "  'manufacturer': 'chevrolet',\n",
       "  'model': 'corvette',\n",
       "  'trans': 'manual(m6)',\n",
       "  'year': '2008'},\n",
       " {'': '27',\n",
       "  'class': '2seater',\n",
       "  'cty': '15',\n",
       "  'cyl': '8',\n",
       "  'displ': '6.2',\n",
       "  'drv': 'r',\n",
       "  'fl': 'p',\n",
       "  'hwy': '25',\n",
       "  'manufacturer': 'chevrolet',\n",
       "  'model': 'corvette',\n",
       "  'trans': 'auto(s6)',\n",
       "  'year': '2008'},\n",
       " {'': '28',\n",
       "  'class': '2seater',\n",
       "  'cty': '15',\n",
       "  'cyl': '8',\n",
       "  'displ': '7',\n",
       "  'drv': 'r',\n",
       "  'fl': 'p',\n",
       "  'hwy': '24',\n",
       "  'manufacturer': 'chevrolet',\n",
       "  'model': 'corvette',\n",
       "  'trans': 'manual(m6)',\n",
       "  'year': '2008'},\n",
       " {'': '29',\n",
       "  'class': 'suv',\n",
       "  'cty': '14',\n",
       "  'cyl': '8',\n",
       "  'displ': '5.3',\n",
       "  'drv': '4',\n",
       "  'fl': 'r',\n",
       "  'hwy': '19',\n",
       "  'manufacturer': 'chevrolet',\n",
       "  'model': 'k1500 tahoe 4wd',\n",
       "  'trans': 'auto(l4)',\n",
       "  'year': '2008'},\n",
       " {'': '30',\n",
       "  'class': 'suv',\n",
       "  'cty': '11',\n",
       "  'cyl': '8',\n",
       "  'displ': '5.3',\n",
       "  'drv': '4',\n",
       "  'fl': 'e',\n",
       "  'hwy': '14',\n",
       "  'manufacturer': 'chevrolet',\n",
       "  'model': 'k1500 tahoe 4wd',\n",
       "  'trans': 'auto(l4)',\n",
       "  'year': '2008'},\n",
       " {'': '31',\n",
       "  'class': 'suv',\n",
       "  'cty': '11',\n",
       "  'cyl': '8',\n",
       "  'displ': '5.7',\n",
       "  'drv': '4',\n",
       "  'fl': 'r',\n",
       "  'hwy': '15',\n",
       "  'manufacturer': 'chevrolet',\n",
       "  'model': 'k1500 tahoe 4wd',\n",
       "  'trans': 'auto(l4)',\n",
       "  'year': '1999'},\n",
       " {'': '32',\n",
       "  'class': 'suv',\n",
       "  'cty': '14',\n",
       "  'cyl': '8',\n",
       "  'displ': '6.5',\n",
       "  'drv': '4',\n",
       "  'fl': 'd',\n",
       "  'hwy': '17',\n",
       "  'manufacturer': 'chevrolet',\n",
       "  'model': 'k1500 tahoe 4wd',\n",
       "  'trans': 'auto(l4)',\n",
       "  'year': '1999'},\n",
       " {'': '33',\n",
       "  'class': 'midsize',\n",
       "  'cty': '19',\n",
       "  'cyl': '4',\n",
       "  'displ': '2.4',\n",
       "  'drv': 'f',\n",
       "  'fl': 'r',\n",
       "  'hwy': '27',\n",
       "  'manufacturer': 'chevrolet',\n",
       "  'model': 'malibu',\n",
       "  'trans': 'auto(l4)',\n",
       "  'year': '1999'},\n",
       " {'': '34',\n",
       "  'class': 'midsize',\n",
       "  'cty': '22',\n",
       "  'cyl': '4',\n",
       "  'displ': '2.4',\n",
       "  'drv': 'f',\n",
       "  'fl': 'r',\n",
       "  'hwy': '30',\n",
       "  'manufacturer': 'chevrolet',\n",
       "  'model': 'malibu',\n",
       "  'trans': 'auto(l4)',\n",
       "  'year': '2008'},\n",
       " {'': '35',\n",
       "  'class': 'midsize',\n",
       "  'cty': '18',\n",
       "  'cyl': '6',\n",
       "  'displ': '3.1',\n",
       "  'drv': 'f',\n",
       "  'fl': 'r',\n",
       "  'hwy': '26',\n",
       "  'manufacturer': 'chevrolet',\n",
       "  'model': 'malibu',\n",
       "  'trans': 'auto(l4)',\n",
       "  'year': '1999'},\n",
       " {'': '36',\n",
       "  'class': 'midsize',\n",
       "  'cty': '18',\n",
       "  'cyl': '6',\n",
       "  'displ': '3.5',\n",
       "  'drv': 'f',\n",
       "  'fl': 'r',\n",
       "  'hwy': '29',\n",
       "  'manufacturer': 'chevrolet',\n",
       "  'model': 'malibu',\n",
       "  'trans': 'auto(l4)',\n",
       "  'year': '2008'},\n",
       " {'': '37',\n",
       "  'class': 'midsize',\n",
       "  'cty': '17',\n",
       "  'cyl': '6',\n",
       "  'displ': '3.6',\n",
       "  'drv': 'f',\n",
       "  'fl': 'r',\n",
       "  'hwy': '26',\n",
       "  'manufacturer': 'chevrolet',\n",
       "  'model': 'malibu',\n",
       "  'trans': 'auto(s6)',\n",
       "  'year': '2008'},\n",
       " {'': '38',\n",
       "  'class': 'minivan',\n",
       "  'cty': '18',\n",
       "  'cyl': '4',\n",
       "  'displ': '2.4',\n",
       "  'drv': 'f',\n",
       "  'fl': 'r',\n",
       "  'hwy': '24',\n",
       "  'manufacturer': 'dodge',\n",
       "  'model': 'caravan 2wd',\n",
       "  'trans': 'auto(l3)',\n",
       "  'year': '1999'},\n",
       " {'': '39',\n",
       "  'class': 'minivan',\n",
       "  'cty': '17',\n",
       "  'cyl': '6',\n",
       "  'displ': '3',\n",
       "  'drv': 'f',\n",
       "  'fl': 'r',\n",
       "  'hwy': '24',\n",
       "  'manufacturer': 'dodge',\n",
       "  'model': 'caravan 2wd',\n",
       "  'trans': 'auto(l4)',\n",
       "  'year': '1999'},\n",
       " {'': '40',\n",
       "  'class': 'minivan',\n",
       "  'cty': '16',\n",
       "  'cyl': '6',\n",
       "  'displ': '3.3',\n",
       "  'drv': 'f',\n",
       "  'fl': 'r',\n",
       "  'hwy': '22',\n",
       "  'manufacturer': 'dodge',\n",
       "  'model': 'caravan 2wd',\n",
       "  'trans': 'auto(l4)',\n",
       "  'year': '1999'},\n",
       " {'': '41',\n",
       "  'class': 'minivan',\n",
       "  'cty': '16',\n",
       "  'cyl': '6',\n",
       "  'displ': '3.3',\n",
       "  'drv': 'f',\n",
       "  'fl': 'r',\n",
       "  'hwy': '22',\n",
       "  'manufacturer': 'dodge',\n",
       "  'model': 'caravan 2wd',\n",
       "  'trans': 'auto(l4)',\n",
       "  'year': '1999'},\n",
       " {'': '42',\n",
       "  'class': 'minivan',\n",
       "  'cty': '17',\n",
       "  'cyl': '6',\n",
       "  'displ': '3.3',\n",
       "  'drv': 'f',\n",
       "  'fl': 'r',\n",
       "  'hwy': '24',\n",
       "  'manufacturer': 'dodge',\n",
       "  'model': 'caravan 2wd',\n",
       "  'trans': 'auto(l4)',\n",
       "  'year': '2008'},\n",
       " {'': '43',\n",
       "  'class': 'minivan',\n",
       "  'cty': '17',\n",
       "  'cyl': '6',\n",
       "  'displ': '3.3',\n",
       "  'drv': 'f',\n",
       "  'fl': 'r',\n",
       "  'hwy': '24',\n",
       "  'manufacturer': 'dodge',\n",
       "  'model': 'caravan 2wd',\n",
       "  'trans': 'auto(l4)',\n",
       "  'year': '2008'},\n",
       " {'': '44',\n",
       "  'class': 'minivan',\n",
       "  'cty': '11',\n",
       "  'cyl': '6',\n",
       "  'displ': '3.3',\n",
       "  'drv': 'f',\n",
       "  'fl': 'e',\n",
       "  'hwy': '17',\n",
       "  'manufacturer': 'dodge',\n",
       "  'model': 'caravan 2wd',\n",
       "  'trans': 'auto(l4)',\n",
       "  'year': '2008'},\n",
       " {'': '45',\n",
       "  'class': 'minivan',\n",
       "  'cty': '15',\n",
       "  'cyl': '6',\n",
       "  'displ': '3.8',\n",
       "  'drv': 'f',\n",
       "  'fl': 'r',\n",
       "  'hwy': '22',\n",
       "  'manufacturer': 'dodge',\n",
       "  'model': 'caravan 2wd',\n",
       "  'trans': 'auto(l4)',\n",
       "  'year': '1999'},\n",
       " {'': '46',\n",
       "  'class': 'minivan',\n",
       "  'cty': '15',\n",
       "  'cyl': '6',\n",
       "  'displ': '3.8',\n",
       "  'drv': 'f',\n",
       "  'fl': 'r',\n",
       "  'hwy': '21',\n",
       "  'manufacturer': 'dodge',\n",
       "  'model': 'caravan 2wd',\n",
       "  'trans': 'auto(l4)',\n",
       "  'year': '1999'},\n",
       " {'': '47',\n",
       "  'class': 'minivan',\n",
       "  'cty': '16',\n",
       "  'cyl': '6',\n",
       "  'displ': '3.8',\n",
       "  'drv': 'f',\n",
       "  'fl': 'r',\n",
       "  'hwy': '23',\n",
       "  'manufacturer': 'dodge',\n",
       "  'model': 'caravan 2wd',\n",
       "  'trans': 'auto(l6)',\n",
       "  'year': '2008'},\n",
       " {'': '48',\n",
       "  'class': 'minivan',\n",
       "  'cty': '16',\n",
       "  'cyl': '6',\n",
       "  'displ': '4',\n",
       "  'drv': 'f',\n",
       "  'fl': 'r',\n",
       "  'hwy': '23',\n",
       "  'manufacturer': 'dodge',\n",
       "  'model': 'caravan 2wd',\n",
       "  'trans': 'auto(l6)',\n",
       "  'year': '2008'},\n",
       " {'': '49',\n",
       "  'class': 'pickup',\n",
       "  'cty': '15',\n",
       "  'cyl': '6',\n",
       "  'displ': '3.7',\n",
       "  'drv': '4',\n",
       "  'fl': 'r',\n",
       "  'hwy': '19',\n",
       "  'manufacturer': 'dodge',\n",
       "  'model': 'dakota pickup 4wd',\n",
       "  'trans': 'manual(m6)',\n",
       "  'year': '2008'},\n",
       " {'': '50',\n",
       "  'class': 'pickup',\n",
       "  'cty': '14',\n",
       "  'cyl': '6',\n",
       "  'displ': '3.7',\n",
       "  'drv': '4',\n",
       "  'fl': 'r',\n",
       "  'hwy': '18',\n",
       "  'manufacturer': 'dodge',\n",
       "  'model': 'dakota pickup 4wd',\n",
       "  'trans': 'auto(l4)',\n",
       "  'year': '2008'},\n",
       " {'': '51',\n",
       "  'class': 'pickup',\n",
       "  'cty': '13',\n",
       "  'cyl': '6',\n",
       "  'displ': '3.9',\n",
       "  'drv': '4',\n",
       "  'fl': 'r',\n",
       "  'hwy': '17',\n",
       "  'manufacturer': 'dodge',\n",
       "  'model': 'dakota pickup 4wd',\n",
       "  'trans': 'auto(l4)',\n",
       "  'year': '1999'},\n",
       " {'': '52',\n",
       "  'class': 'pickup',\n",
       "  'cty': '14',\n",
       "  'cyl': '6',\n",
       "  'displ': '3.9',\n",
       "  'drv': '4',\n",
       "  'fl': 'r',\n",
       "  'hwy': '17',\n",
       "  'manufacturer': 'dodge',\n",
       "  'model': 'dakota pickup 4wd',\n",
       "  'trans': 'manual(m5)',\n",
       "  'year': '1999'},\n",
       " {'': '53',\n",
       "  'class': 'pickup',\n",
       "  'cty': '14',\n",
       "  'cyl': '8',\n",
       "  'displ': '4.7',\n",
       "  'drv': '4',\n",
       "  'fl': 'r',\n",
       "  'hwy': '19',\n",
       "  'manufacturer': 'dodge',\n",
       "  'model': 'dakota pickup 4wd',\n",
       "  'trans': 'auto(l5)',\n",
       "  'year': '2008'},\n",
       " {'': '54',\n",
       "  'class': 'pickup',\n",
       "  'cty': '14',\n",
       "  'cyl': '8',\n",
       "  'displ': '4.7',\n",
       "  'drv': '4',\n",
       "  'fl': 'r',\n",
       "  'hwy': '19',\n",
       "  'manufacturer': 'dodge',\n",
       "  'model': 'dakota pickup 4wd',\n",
       "  'trans': 'auto(l5)',\n",
       "  'year': '2008'},\n",
       " {'': '55',\n",
       "  'class': 'pickup',\n",
       "  'cty': '9',\n",
       "  'cyl': '8',\n",
       "  'displ': '4.7',\n",
       "  'drv': '4',\n",
       "  'fl': 'e',\n",
       "  'hwy': '12',\n",
       "  'manufacturer': 'dodge',\n",
       "  'model': 'dakota pickup 4wd',\n",
       "  'trans': 'auto(l5)',\n",
       "  'year': '2008'},\n",
       " {'': '56',\n",
       "  'class': 'pickup',\n",
       "  'cty': '11',\n",
       "  'cyl': '8',\n",
       "  'displ': '5.2',\n",
       "  'drv': '4',\n",
       "  'fl': 'r',\n",
       "  'hwy': '17',\n",
       "  'manufacturer': 'dodge',\n",
       "  'model': 'dakota pickup 4wd',\n",
       "  'trans': 'manual(m5)',\n",
       "  'year': '1999'},\n",
       " {'': '57',\n",
       "  'class': 'pickup',\n",
       "  'cty': '11',\n",
       "  'cyl': '8',\n",
       "  'displ': '5.2',\n",
       "  'drv': '4',\n",
       "  'fl': 'r',\n",
       "  'hwy': '15',\n",
       "  'manufacturer': 'dodge',\n",
       "  'model': 'dakota pickup 4wd',\n",
       "  'trans': 'auto(l4)',\n",
       "  'year': '1999'},\n",
       " {'': '58',\n",
       "  'class': 'suv',\n",
       "  'cty': '13',\n",
       "  'cyl': '6',\n",
       "  'displ': '3.9',\n",
       "  'drv': '4',\n",
       "  'fl': 'r',\n",
       "  'hwy': '17',\n",
       "  'manufacturer': 'dodge',\n",
       "  'model': 'durango 4wd',\n",
       "  'trans': 'auto(l4)',\n",
       "  'year': '1999'},\n",
       " {'': '59',\n",
       "  'class': 'suv',\n",
       "  'cty': '13',\n",
       "  'cyl': '8',\n",
       "  'displ': '4.7',\n",
       "  'drv': '4',\n",
       "  'fl': 'r',\n",
       "  'hwy': '17',\n",
       "  'manufacturer': 'dodge',\n",
       "  'model': 'durango 4wd',\n",
       "  'trans': 'auto(l5)',\n",
       "  'year': '2008'},\n",
       " {'': '60',\n",
       "  'class': 'suv',\n",
       "  'cty': '9',\n",
       "  'cyl': '8',\n",
       "  'displ': '4.7',\n",
       "  'drv': '4',\n",
       "  'fl': 'e',\n",
       "  'hwy': '12',\n",
       "  'manufacturer': 'dodge',\n",
       "  'model': 'durango 4wd',\n",
       "  'trans': 'auto(l5)',\n",
       "  'year': '2008'},\n",
       " {'': '61',\n",
       "  'class': 'suv',\n",
       "  'cty': '13',\n",
       "  'cyl': '8',\n",
       "  'displ': '4.7',\n",
       "  'drv': '4',\n",
       "  'fl': 'r',\n",
       "  'hwy': '17',\n",
       "  'manufacturer': 'dodge',\n",
       "  'model': 'durango 4wd',\n",
       "  'trans': 'auto(l5)',\n",
       "  'year': '2008'},\n",
       " {'': '62',\n",
       "  'class': 'suv',\n",
       "  'cty': '11',\n",
       "  'cyl': '8',\n",
       "  'displ': '5.2',\n",
       "  'drv': '4',\n",
       "  'fl': 'r',\n",
       "  'hwy': '16',\n",
       "  'manufacturer': 'dodge',\n",
       "  'model': 'durango 4wd',\n",
       "  'trans': 'auto(l4)',\n",
       "  'year': '1999'},\n",
       " {'': '63',\n",
       "  'class': 'suv',\n",
       "  'cty': '13',\n",
       "  'cyl': '8',\n",
       "  'displ': '5.7',\n",
       "  'drv': '4',\n",
       "  'fl': 'r',\n",
       "  'hwy': '18',\n",
       "  'manufacturer': 'dodge',\n",
       "  'model': 'durango 4wd',\n",
       "  'trans': 'auto(l5)',\n",
       "  'year': '2008'},\n",
       " {'': '64',\n",
       "  'class': 'suv',\n",
       "  'cty': '11',\n",
       "  'cyl': '8',\n",
       "  'displ': '5.9',\n",
       "  'drv': '4',\n",
       "  'fl': 'r',\n",
       "  'hwy': '15',\n",
       "  'manufacturer': 'dodge',\n",
       "  'model': 'durango 4wd',\n",
       "  'trans': 'auto(l4)',\n",
       "  'year': '1999'},\n",
       " {'': '65',\n",
       "  'class': 'pickup',\n",
       "  'cty': '12',\n",
       "  'cyl': '8',\n",
       "  'displ': '4.7',\n",
       "  'drv': '4',\n",
       "  'fl': 'r',\n",
       "  'hwy': '16',\n",
       "  'manufacturer': 'dodge',\n",
       "  'model': 'ram 1500 pickup 4wd',\n",
       "  'trans': 'manual(m6)',\n",
       "  'year': '2008'},\n",
       " {'': '66',\n",
       "  'class': 'pickup',\n",
       "  'cty': '9',\n",
       "  'cyl': '8',\n",
       "  'displ': '4.7',\n",
       "  'drv': '4',\n",
       "  'fl': 'e',\n",
       "  'hwy': '12',\n",
       "  'manufacturer': 'dodge',\n",
       "  'model': 'ram 1500 pickup 4wd',\n",
       "  'trans': 'auto(l5)',\n",
       "  'year': '2008'},\n",
       " {'': '67',\n",
       "  'class': 'pickup',\n",
       "  'cty': '13',\n",
       "  'cyl': '8',\n",
       "  'displ': '4.7',\n",
       "  'drv': '4',\n",
       "  'fl': 'r',\n",
       "  'hwy': '17',\n",
       "  'manufacturer': 'dodge',\n",
       "  'model': 'ram 1500 pickup 4wd',\n",
       "  'trans': 'auto(l5)',\n",
       "  'year': '2008'},\n",
       " {'': '68',\n",
       "  'class': 'pickup',\n",
       "  'cty': '13',\n",
       "  'cyl': '8',\n",
       "  'displ': '4.7',\n",
       "  'drv': '4',\n",
       "  'fl': 'r',\n",
       "  'hwy': '17',\n",
       "  'manufacturer': 'dodge',\n",
       "  'model': 'ram 1500 pickup 4wd',\n",
       "  'trans': 'auto(l5)',\n",
       "  'year': '2008'},\n",
       " {'': '69',\n",
       "  'class': 'pickup',\n",
       "  'cty': '12',\n",
       "  'cyl': '8',\n",
       "  'displ': '4.7',\n",
       "  'drv': '4',\n",
       "  'fl': 'r',\n",
       "  'hwy': '16',\n",
       "  'manufacturer': 'dodge',\n",
       "  'model': 'ram 1500 pickup 4wd',\n",
       "  'trans': 'manual(m6)',\n",
       "  'year': '2008'},\n",
       " {'': '70',\n",
       "  'class': 'pickup',\n",
       "  'cty': '9',\n",
       "  'cyl': '8',\n",
       "  'displ': '4.7',\n",
       "  'drv': '4',\n",
       "  'fl': 'e',\n",
       "  'hwy': '12',\n",
       "  'manufacturer': 'dodge',\n",
       "  'model': 'ram 1500 pickup 4wd',\n",
       "  'trans': 'manual(m6)',\n",
       "  'year': '2008'},\n",
       " {'': '71',\n",
       "  'class': 'pickup',\n",
       "  'cty': '11',\n",
       "  'cyl': '8',\n",
       "  'displ': '5.2',\n",
       "  'drv': '4',\n",
       "  'fl': 'r',\n",
       "  'hwy': '15',\n",
       "  'manufacturer': 'dodge',\n",
       "  'model': 'ram 1500 pickup 4wd',\n",
       "  'trans': 'auto(l4)',\n",
       "  'year': '1999'},\n",
       " {'': '72',\n",
       "  'class': 'pickup',\n",
       "  'cty': '11',\n",
       "  'cyl': '8',\n",
       "  'displ': '5.2',\n",
       "  'drv': '4',\n",
       "  'fl': 'r',\n",
       "  'hwy': '16',\n",
       "  'manufacturer': 'dodge',\n",
       "  'model': 'ram 1500 pickup 4wd',\n",
       "  'trans': 'manual(m5)',\n",
       "  'year': '1999'},\n",
       " {'': '73',\n",
       "  'class': 'pickup',\n",
       "  'cty': '13',\n",
       "  'cyl': '8',\n",
       "  'displ': '5.7',\n",
       "  'drv': '4',\n",
       "  'fl': 'r',\n",
       "  'hwy': '17',\n",
       "  'manufacturer': 'dodge',\n",
       "  'model': 'ram 1500 pickup 4wd',\n",
       "  'trans': 'auto(l5)',\n",
       "  'year': '2008'},\n",
       " {'': '74',\n",
       "  'class': 'pickup',\n",
       "  'cty': '11',\n",
       "  'cyl': '8',\n",
       "  'displ': '5.9',\n",
       "  'drv': '4',\n",
       "  'fl': 'r',\n",
       "  'hwy': '15',\n",
       "  'manufacturer': 'dodge',\n",
       "  'model': 'ram 1500 pickup 4wd',\n",
       "  'trans': 'auto(l4)',\n",
       "  'year': '1999'},\n",
       " {'': '75',\n",
       "  'class': 'suv',\n",
       "  'cty': '11',\n",
       "  'cyl': '8',\n",
       "  'displ': '4.6',\n",
       "  'drv': 'r',\n",
       "  'fl': 'r',\n",
       "  'hwy': '17',\n",
       "  'manufacturer': 'ford',\n",
       "  'model': 'expedition 2wd',\n",
       "  'trans': 'auto(l4)',\n",
       "  'year': '1999'},\n",
       " {'': '76',\n",
       "  'class': 'suv',\n",
       "  'cty': '11',\n",
       "  'cyl': '8',\n",
       "  'displ': '5.4',\n",
       "  'drv': 'r',\n",
       "  'fl': 'r',\n",
       "  'hwy': '17',\n",
       "  'manufacturer': 'ford',\n",
       "  'model': 'expedition 2wd',\n",
       "  'trans': 'auto(l4)',\n",
       "  'year': '1999'},\n",
       " {'': '77',\n",
       "  'class': 'suv',\n",
       "  'cty': '12',\n",
       "  'cyl': '8',\n",
       "  'displ': '5.4',\n",
       "  'drv': 'r',\n",
       "  'fl': 'r',\n",
       "  'hwy': '18',\n",
       "  'manufacturer': 'ford',\n",
       "  'model': 'expedition 2wd',\n",
       "  'trans': 'auto(l6)',\n",
       "  'year': '2008'},\n",
       " {'': '78',\n",
       "  'class': 'suv',\n",
       "  'cty': '14',\n",
       "  'cyl': '6',\n",
       "  'displ': '4',\n",
       "  'drv': '4',\n",
       "  'fl': 'r',\n",
       "  'hwy': '17',\n",
       "  'manufacturer': 'ford',\n",
       "  'model': 'explorer 4wd',\n",
       "  'trans': 'auto(l5)',\n",
       "  'year': '1999'},\n",
       " {'': '79',\n",
       "  'class': 'suv',\n",
       "  'cty': '15',\n",
       "  'cyl': '6',\n",
       "  'displ': '4',\n",
       "  'drv': '4',\n",
       "  'fl': 'r',\n",
       "  'hwy': '19',\n",
       "  'manufacturer': 'ford',\n",
       "  'model': 'explorer 4wd',\n",
       "  'trans': 'manual(m5)',\n",
       "  'year': '1999'},\n",
       " {'': '80',\n",
       "  'class': 'suv',\n",
       "  'cty': '14',\n",
       "  'cyl': '6',\n",
       "  'displ': '4',\n",
       "  'drv': '4',\n",
       "  'fl': 'r',\n",
       "  'hwy': '17',\n",
       "  'manufacturer': 'ford',\n",
       "  'model': 'explorer 4wd',\n",
       "  'trans': 'auto(l5)',\n",
       "  'year': '1999'},\n",
       " {'': '81',\n",
       "  'class': 'suv',\n",
       "  'cty': '13',\n",
       "  'cyl': '6',\n",
       "  'displ': '4',\n",
       "  'drv': '4',\n",
       "  'fl': 'r',\n",
       "  'hwy': '19',\n",
       "  'manufacturer': 'ford',\n",
       "  'model': 'explorer 4wd',\n",
       "  'trans': 'auto(l5)',\n",
       "  'year': '2008'},\n",
       " {'': '82',\n",
       "  'class': 'suv',\n",
       "  'cty': '13',\n",
       "  'cyl': '8',\n",
       "  'displ': '4.6',\n",
       "  'drv': '4',\n",
       "  'fl': 'r',\n",
       "  'hwy': '19',\n",
       "  'manufacturer': 'ford',\n",
       "  'model': 'explorer 4wd',\n",
       "  'trans': 'auto(l6)',\n",
       "  'year': '2008'},\n",
       " {'': '83',\n",
       "  'class': 'suv',\n",
       "  'cty': '13',\n",
       "  'cyl': '8',\n",
       "  'displ': '5',\n",
       "  'drv': '4',\n",
       "  'fl': 'r',\n",
       "  'hwy': '17',\n",
       "  'manufacturer': 'ford',\n",
       "  'model': 'explorer 4wd',\n",
       "  'trans': 'auto(l4)',\n",
       "  'year': '1999'},\n",
       " {'': '84',\n",
       "  'class': 'pickup',\n",
       "  'cty': '14',\n",
       "  'cyl': '6',\n",
       "  'displ': '4.2',\n",
       "  'drv': '4',\n",
       "  'fl': 'r',\n",
       "  'hwy': '17',\n",
       "  'manufacturer': 'ford',\n",
       "  'model': 'f150 pickup 4wd',\n",
       "  'trans': 'auto(l4)',\n",
       "  'year': '1999'},\n",
       " {'': '85',\n",
       "  'class': 'pickup',\n",
       "  'cty': '14',\n",
       "  'cyl': '6',\n",
       "  'displ': '4.2',\n",
       "  'drv': '4',\n",
       "  'fl': 'r',\n",
       "  'hwy': '17',\n",
       "  'manufacturer': 'ford',\n",
       "  'model': 'f150 pickup 4wd',\n",
       "  'trans': 'manual(m5)',\n",
       "  'year': '1999'},\n",
       " {'': '86',\n",
       "  'class': 'pickup',\n",
       "  'cty': '13',\n",
       "  'cyl': '8',\n",
       "  'displ': '4.6',\n",
       "  'drv': '4',\n",
       "  'fl': 'r',\n",
       "  'hwy': '16',\n",
       "  'manufacturer': 'ford',\n",
       "  'model': 'f150 pickup 4wd',\n",
       "  'trans': 'manual(m5)',\n",
       "  'year': '1999'},\n",
       " {'': '87',\n",
       "  'class': 'pickup',\n",
       "  'cty': '13',\n",
       "  'cyl': '8',\n",
       "  'displ': '4.6',\n",
       "  'drv': '4',\n",
       "  'fl': 'r',\n",
       "  'hwy': '16',\n",
       "  'manufacturer': 'ford',\n",
       "  'model': 'f150 pickup 4wd',\n",
       "  'trans': 'auto(l4)',\n",
       "  'year': '1999'},\n",
       " {'': '88',\n",
       "  'class': 'pickup',\n",
       "  'cty': '13',\n",
       "  'cyl': '8',\n",
       "  'displ': '4.6',\n",
       "  'drv': '4',\n",
       "  'fl': 'r',\n",
       "  'hwy': '17',\n",
       "  'manufacturer': 'ford',\n",
       "  'model': 'f150 pickup 4wd',\n",
       "  'trans': 'auto(l4)',\n",
       "  'year': '2008'},\n",
       " {'': '89',\n",
       "  'class': 'pickup',\n",
       "  'cty': '11',\n",
       "  'cyl': '8',\n",
       "  'displ': '5.4',\n",
       "  'drv': '4',\n",
       "  'fl': 'r',\n",
       "  'hwy': '15',\n",
       "  'manufacturer': 'ford',\n",
       "  'model': 'f150 pickup 4wd',\n",
       "  'trans': 'auto(l4)',\n",
       "  'year': '1999'},\n",
       " {'': '90',\n",
       "  'class': 'pickup',\n",
       "  'cty': '13',\n",
       "  'cyl': '8',\n",
       "  'displ': '5.4',\n",
       "  'drv': '4',\n",
       "  'fl': 'r',\n",
       "  'hwy': '17',\n",
       "  'manufacturer': 'ford',\n",
       "  'model': 'f150 pickup 4wd',\n",
       "  'trans': 'auto(l4)',\n",
       "  'year': '2008'},\n",
       " {'': '91',\n",
       "  'class': 'subcompact',\n",
       "  'cty': '18',\n",
       "  'cyl': '6',\n",
       "  'displ': '3.8',\n",
       "  'drv': 'r',\n",
       "  'fl': 'r',\n",
       "  'hwy': '26',\n",
       "  'manufacturer': 'ford',\n",
       "  'model': 'mustang',\n",
       "  'trans': 'manual(m5)',\n",
       "  'year': '1999'},\n",
       " {'': '92',\n",
       "  'class': 'subcompact',\n",
       "  'cty': '18',\n",
       "  'cyl': '6',\n",
       "  'displ': '3.8',\n",
       "  'drv': 'r',\n",
       "  'fl': 'r',\n",
       "  'hwy': '25',\n",
       "  'manufacturer': 'ford',\n",
       "  'model': 'mustang',\n",
       "  'trans': 'auto(l4)',\n",
       "  'year': '1999'},\n",
       " {'': '93',\n",
       "  'class': 'subcompact',\n",
       "  'cty': '17',\n",
       "  'cyl': '6',\n",
       "  'displ': '4',\n",
       "  'drv': 'r',\n",
       "  'fl': 'r',\n",
       "  'hwy': '26',\n",
       "  'manufacturer': 'ford',\n",
       "  'model': 'mustang',\n",
       "  'trans': 'manual(m5)',\n",
       "  'year': '2008'},\n",
       " {'': '94',\n",
       "  'class': 'subcompact',\n",
       "  'cty': '16',\n",
       "  'cyl': '6',\n",
       "  'displ': '4',\n",
       "  'drv': 'r',\n",
       "  'fl': 'r',\n",
       "  'hwy': '24',\n",
       "  'manufacturer': 'ford',\n",
       "  'model': 'mustang',\n",
       "  'trans': 'auto(l5)',\n",
       "  'year': '2008'},\n",
       " {'': '95',\n",
       "  'class': 'subcompact',\n",
       "  'cty': '15',\n",
       "  'cyl': '8',\n",
       "  'displ': '4.6',\n",
       "  'drv': 'r',\n",
       "  'fl': 'r',\n",
       "  'hwy': '21',\n",
       "  'manufacturer': 'ford',\n",
       "  'model': 'mustang',\n",
       "  'trans': 'auto(l4)',\n",
       "  'year': '1999'},\n",
       " {'': '96',\n",
       "  'class': 'subcompact',\n",
       "  'cty': '15',\n",
       "  'cyl': '8',\n",
       "  'displ': '4.6',\n",
       "  'drv': 'r',\n",
       "  'fl': 'r',\n",
       "  'hwy': '22',\n",
       "  'manufacturer': 'ford',\n",
       "  'model': 'mustang',\n",
       "  'trans': 'manual(m5)',\n",
       "  'year': '1999'},\n",
       " {'': '97',\n",
       "  'class': 'subcompact',\n",
       "  'cty': '15',\n",
       "  'cyl': '8',\n",
       "  'displ': '4.6',\n",
       "  'drv': 'r',\n",
       "  'fl': 'r',\n",
       "  'hwy': '23',\n",
       "  'manufacturer': 'ford',\n",
       "  'model': 'mustang',\n",
       "  'trans': 'manual(m5)',\n",
       "  'year': '2008'},\n",
       " {'': '98',\n",
       "  'class': 'subcompact',\n",
       "  'cty': '15',\n",
       "  'cyl': '8',\n",
       "  'displ': '4.6',\n",
       "  'drv': 'r',\n",
       "  'fl': 'r',\n",
       "  'hwy': '22',\n",
       "  'manufacturer': 'ford',\n",
       "  'model': 'mustang',\n",
       "  'trans': 'auto(l5)',\n",
       "  'year': '2008'},\n",
       " {'': '99',\n",
       "  'class': 'subcompact',\n",
       "  'cty': '14',\n",
       "  'cyl': '8',\n",
       "  'displ': '5.4',\n",
       "  'drv': 'r',\n",
       "  'fl': 'p',\n",
       "  'hwy': '20',\n",
       "  'manufacturer': 'ford',\n",
       "  'model': 'mustang',\n",
       "  'trans': 'manual(m6)',\n",
       "  'year': '2008'},\n",
       " {'': '100',\n",
       "  'class': 'subcompact',\n",
       "  'cty': '28',\n",
       "  'cyl': '4',\n",
       "  'displ': '1.6',\n",
       "  'drv': 'f',\n",
       "  'fl': 'r',\n",
       "  'hwy': '33',\n",
       "  'manufacturer': 'honda',\n",
       "  'model': 'civic',\n",
       "  'trans': 'manual(m5)',\n",
       "  'year': '1999'},\n",
       " {'': '101',\n",
       "  'class': 'subcompact',\n",
       "  'cty': '24',\n",
       "  'cyl': '4',\n",
       "  'displ': '1.6',\n",
       "  'drv': 'f',\n",
       "  'fl': 'r',\n",
       "  'hwy': '32',\n",
       "  'manufacturer': 'honda',\n",
       "  'model': 'civic',\n",
       "  'trans': 'auto(l4)',\n",
       "  'year': '1999'},\n",
       " {'': '102',\n",
       "  'class': 'subcompact',\n",
       "  'cty': '25',\n",
       "  'cyl': '4',\n",
       "  'displ': '1.6',\n",
       "  'drv': 'f',\n",
       "  'fl': 'r',\n",
       "  'hwy': '32',\n",
       "  'manufacturer': 'honda',\n",
       "  'model': 'civic',\n",
       "  'trans': 'manual(m5)',\n",
       "  'year': '1999'},\n",
       " {'': '103',\n",
       "  'class': 'subcompact',\n",
       "  'cty': '23',\n",
       "  'cyl': '4',\n",
       "  'displ': '1.6',\n",
       "  'drv': 'f',\n",
       "  'fl': 'p',\n",
       "  'hwy': '29',\n",
       "  'manufacturer': 'honda',\n",
       "  'model': 'civic',\n",
       "  'trans': 'manual(m5)',\n",
       "  'year': '1999'},\n",
       " {'': '104',\n",
       "  'class': 'subcompact',\n",
       "  'cty': '24',\n",
       "  'cyl': '4',\n",
       "  'displ': '1.6',\n",
       "  'drv': 'f',\n",
       "  'fl': 'r',\n",
       "  'hwy': '32',\n",
       "  'manufacturer': 'honda',\n",
       "  'model': 'civic',\n",
       "  'trans': 'auto(l4)',\n",
       "  'year': '1999'},\n",
       " {'': '105',\n",
       "  'class': 'subcompact',\n",
       "  'cty': '26',\n",
       "  'cyl': '4',\n",
       "  'displ': '1.8',\n",
       "  'drv': 'f',\n",
       "  'fl': 'r',\n",
       "  'hwy': '34',\n",
       "  'manufacturer': 'honda',\n",
       "  'model': 'civic',\n",
       "  'trans': 'manual(m5)',\n",
       "  'year': '2008'},\n",
       " {'': '106',\n",
       "  'class': 'subcompact',\n",
       "  'cty': '25',\n",
       "  'cyl': '4',\n",
       "  'displ': '1.8',\n",
       "  'drv': 'f',\n",
       "  'fl': 'r',\n",
       "  'hwy': '36',\n",
       "  'manufacturer': 'honda',\n",
       "  'model': 'civic',\n",
       "  'trans': 'auto(l5)',\n",
       "  'year': '2008'},\n",
       " {'': '107',\n",
       "  'class': 'subcompact',\n",
       "  'cty': '24',\n",
       "  'cyl': '4',\n",
       "  'displ': '1.8',\n",
       "  'drv': 'f',\n",
       "  'fl': 'c',\n",
       "  'hwy': '36',\n",
       "  'manufacturer': 'honda',\n",
       "  'model': 'civic',\n",
       "  'trans': 'auto(l5)',\n",
       "  'year': '2008'},\n",
       " {'': '108',\n",
       "  'class': 'subcompact',\n",
       "  'cty': '21',\n",
       "  'cyl': '4',\n",
       "  'displ': '2',\n",
       "  'drv': 'f',\n",
       "  'fl': 'p',\n",
       "  'hwy': '29',\n",
       "  'manufacturer': 'honda',\n",
       "  'model': 'civic',\n",
       "  'trans': 'manual(m6)',\n",
       "  'year': '2008'},\n",
       " {'': '109',\n",
       "  'class': 'midsize',\n",
       "  'cty': '18',\n",
       "  'cyl': '4',\n",
       "  'displ': '2.4',\n",
       "  'drv': 'f',\n",
       "  'fl': 'r',\n",
       "  'hwy': '26',\n",
       "  'manufacturer': 'hyundai',\n",
       "  'model': 'sonata',\n",
       "  'trans': 'auto(l4)',\n",
       "  'year': '1999'},\n",
       " {'': '110',\n",
       "  'class': 'midsize',\n",
       "  'cty': '18',\n",
       "  'cyl': '4',\n",
       "  'displ': '2.4',\n",
       "  'drv': 'f',\n",
       "  'fl': 'r',\n",
       "  'hwy': '27',\n",
       "  'manufacturer': 'hyundai',\n",
       "  'model': 'sonata',\n",
       "  'trans': 'manual(m5)',\n",
       "  'year': '1999'},\n",
       " {'': '111',\n",
       "  'class': 'midsize',\n",
       "  'cty': '21',\n",
       "  'cyl': '4',\n",
       "  'displ': '2.4',\n",
       "  'drv': 'f',\n",
       "  'fl': 'r',\n",
       "  'hwy': '30',\n",
       "  'manufacturer': 'hyundai',\n",
       "  'model': 'sonata',\n",
       "  'trans': 'auto(l4)',\n",
       "  'year': '2008'},\n",
       " {'': '112',\n",
       "  'class': 'midsize',\n",
       "  'cty': '21',\n",
       "  'cyl': '4',\n",
       "  'displ': '2.4',\n",
       "  'drv': 'f',\n",
       "  'fl': 'r',\n",
       "  'hwy': '31',\n",
       "  'manufacturer': 'hyundai',\n",
       "  'model': 'sonata',\n",
       "  'trans': 'manual(m5)',\n",
       "  'year': '2008'},\n",
       " {'': '113',\n",
       "  'class': 'midsize',\n",
       "  'cty': '18',\n",
       "  'cyl': '6',\n",
       "  'displ': '2.5',\n",
       "  'drv': 'f',\n",
       "  'fl': 'r',\n",
       "  'hwy': '26',\n",
       "  'manufacturer': 'hyundai',\n",
       "  'model': 'sonata',\n",
       "  'trans': 'auto(l4)',\n",
       "  'year': '1999'},\n",
       " {'': '114',\n",
       "  'class': 'midsize',\n",
       "  'cty': '18',\n",
       "  'cyl': '6',\n",
       "  'displ': '2.5',\n",
       "  'drv': 'f',\n",
       "  'fl': 'r',\n",
       "  'hwy': '26',\n",
       "  'manufacturer': 'hyundai',\n",
       "  'model': 'sonata',\n",
       "  'trans': 'manual(m5)',\n",
       "  'year': '1999'},\n",
       " {'': '115',\n",
       "  'class': 'midsize',\n",
       "  'cty': '19',\n",
       "  'cyl': '6',\n",
       "  'displ': '3.3',\n",
       "  'drv': 'f',\n",
       "  'fl': 'r',\n",
       "  'hwy': '28',\n",
       "  'manufacturer': 'hyundai',\n",
       "  'model': 'sonata',\n",
       "  'trans': 'auto(l5)',\n",
       "  'year': '2008'},\n",
       " {'': '116',\n",
       "  'class': 'subcompact',\n",
       "  'cty': '19',\n",
       "  'cyl': '4',\n",
       "  'displ': '2',\n",
       "  'drv': 'f',\n",
       "  'fl': 'r',\n",
       "  'hwy': '26',\n",
       "  'manufacturer': 'hyundai',\n",
       "  'model': 'tiburon',\n",
       "  'trans': 'auto(l4)',\n",
       "  'year': '1999'},\n",
       " {'': '117',\n",
       "  'class': 'subcompact',\n",
       "  'cty': '19',\n",
       "  'cyl': '4',\n",
       "  'displ': '2',\n",
       "  'drv': 'f',\n",
       "  'fl': 'r',\n",
       "  'hwy': '29',\n",
       "  'manufacturer': 'hyundai',\n",
       "  'model': 'tiburon',\n",
       "  'trans': 'manual(m5)',\n",
       "  'year': '1999'},\n",
       " {'': '118',\n",
       "  'class': 'subcompact',\n",
       "  'cty': '20',\n",
       "  'cyl': '4',\n",
       "  'displ': '2',\n",
       "  'drv': 'f',\n",
       "  'fl': 'r',\n",
       "  'hwy': '28',\n",
       "  'manufacturer': 'hyundai',\n",
       "  'model': 'tiburon',\n",
       "  'trans': 'manual(m5)',\n",
       "  'year': '2008'},\n",
       " {'': '119',\n",
       "  'class': 'subcompact',\n",
       "  'cty': '20',\n",
       "  'cyl': '4',\n",
       "  'displ': '2',\n",
       "  'drv': 'f',\n",
       "  'fl': 'r',\n",
       "  'hwy': '27',\n",
       "  'manufacturer': 'hyundai',\n",
       "  'model': 'tiburon',\n",
       "  'trans': 'auto(l4)',\n",
       "  'year': '2008'},\n",
       " {'': '120',\n",
       "  'class': 'subcompact',\n",
       "  'cty': '17',\n",
       "  'cyl': '6',\n",
       "  'displ': '2.7',\n",
       "  'drv': 'f',\n",
       "  'fl': 'r',\n",
       "  'hwy': '24',\n",
       "  'manufacturer': 'hyundai',\n",
       "  'model': 'tiburon',\n",
       "  'trans': 'auto(l4)',\n",
       "  'year': '2008'},\n",
       " {'': '121',\n",
       "  'class': 'subcompact',\n",
       "  'cty': '16',\n",
       "  'cyl': '6',\n",
       "  'displ': '2.7',\n",
       "  'drv': 'f',\n",
       "  'fl': 'r',\n",
       "  'hwy': '24',\n",
       "  'manufacturer': 'hyundai',\n",
       "  'model': 'tiburon',\n",
       "  'trans': 'manual(m6)',\n",
       "  'year': '2008'},\n",
       " {'': '122',\n",
       "  'class': 'subcompact',\n",
       "  'cty': '17',\n",
       "  'cyl': '6',\n",
       "  'displ': '2.7',\n",
       "  'drv': 'f',\n",
       "  'fl': 'r',\n",
       "  'hwy': '24',\n",
       "  'manufacturer': 'hyundai',\n",
       "  'model': 'tiburon',\n",
       "  'trans': 'manual(m5)',\n",
       "  'year': '2008'},\n",
       " {'': '123',\n",
       "  'class': 'suv',\n",
       "  'cty': '17',\n",
       "  'cyl': '6',\n",
       "  'displ': '3',\n",
       "  'drv': '4',\n",
       "  'fl': 'd',\n",
       "  'hwy': '22',\n",
       "  'manufacturer': 'jeep',\n",
       "  'model': 'grand cherokee 4wd',\n",
       "  'trans': 'auto(l5)',\n",
       "  'year': '2008'},\n",
       " {'': '124',\n",
       "  'class': 'suv',\n",
       "  'cty': '15',\n",
       "  'cyl': '6',\n",
       "  'displ': '3.7',\n",
       "  'drv': '4',\n",
       "  'fl': 'r',\n",
       "  'hwy': '19',\n",
       "  'manufacturer': 'jeep',\n",
       "  'model': 'grand cherokee 4wd',\n",
       "  'trans': 'auto(l5)',\n",
       "  'year': '2008'},\n",
       " {'': '125',\n",
       "  'class': 'suv',\n",
       "  'cty': '15',\n",
       "  'cyl': '6',\n",
       "  'displ': '4',\n",
       "  'drv': '4',\n",
       "  'fl': 'r',\n",
       "  'hwy': '20',\n",
       "  'manufacturer': 'jeep',\n",
       "  'model': 'grand cherokee 4wd',\n",
       "  'trans': 'auto(l4)',\n",
       "  'year': '1999'},\n",
       " {'': '126',\n",
       "  'class': 'suv',\n",
       "  'cty': '14',\n",
       "  'cyl': '8',\n",
       "  'displ': '4.7',\n",
       "  'drv': '4',\n",
       "  'fl': 'r',\n",
       "  'hwy': '17',\n",
       "  'manufacturer': 'jeep',\n",
       "  'model': 'grand cherokee 4wd',\n",
       "  'trans': 'auto(l4)',\n",
       "  'year': '1999'},\n",
       " {'': '127',\n",
       "  'class': 'suv',\n",
       "  'cty': '9',\n",
       "  'cyl': '8',\n",
       "  'displ': '4.7',\n",
       "  'drv': '4',\n",
       "  'fl': 'e',\n",
       "  'hwy': '12',\n",
       "  'manufacturer': 'jeep',\n",
       "  'model': 'grand cherokee 4wd',\n",
       "  'trans': 'auto(l5)',\n",
       "  'year': '2008'},\n",
       " {'': '128',\n",
       "  'class': 'suv',\n",
       "  'cty': '14',\n",
       "  'cyl': '8',\n",
       "  'displ': '4.7',\n",
       "  'drv': '4',\n",
       "  'fl': 'r',\n",
       "  'hwy': '19',\n",
       "  'manufacturer': 'jeep',\n",
       "  'model': 'grand cherokee 4wd',\n",
       "  'trans': 'auto(l5)',\n",
       "  'year': '2008'},\n",
       " {'': '129',\n",
       "  'class': 'suv',\n",
       "  'cty': '13',\n",
       "  'cyl': '8',\n",
       "  'displ': '5.7',\n",
       "  'drv': '4',\n",
       "  'fl': 'r',\n",
       "  'hwy': '18',\n",
       "  'manufacturer': 'jeep',\n",
       "  'model': 'grand cherokee 4wd',\n",
       "  'trans': 'auto(l5)',\n",
       "  'year': '2008'},\n",
       " {'': '130',\n",
       "  'class': 'suv',\n",
       "  'cty': '11',\n",
       "  'cyl': '8',\n",
       "  'displ': '6.1',\n",
       "  'drv': '4',\n",
       "  'fl': 'p',\n",
       "  'hwy': '14',\n",
       "  'manufacturer': 'jeep',\n",
       "  'model': 'grand cherokee 4wd',\n",
       "  'trans': 'auto(l5)',\n",
       "  'year': '2008'},\n",
       " {'': '131',\n",
       "  'class': 'suv',\n",
       "  'cty': '11',\n",
       "  'cyl': '8',\n",
       "  'displ': '4',\n",
       "  'drv': '4',\n",
       "  'fl': 'p',\n",
       "  'hwy': '15',\n",
       "  'manufacturer': 'land rover',\n",
       "  'model': 'range rover',\n",
       "  'trans': 'auto(l4)',\n",
       "  'year': '1999'},\n",
       " {'': '132',\n",
       "  'class': 'suv',\n",
       "  'cty': '12',\n",
       "  'cyl': '8',\n",
       "  'displ': '4.2',\n",
       "  'drv': '4',\n",
       "  'fl': 'r',\n",
       "  'hwy': '18',\n",
       "  'manufacturer': 'land rover',\n",
       "  'model': 'range rover',\n",
       "  'trans': 'auto(s6)',\n",
       "  'year': '2008'},\n",
       " {'': '133',\n",
       "  'class': 'suv',\n",
       "  'cty': '12',\n",
       "  'cyl': '8',\n",
       "  'displ': '4.4',\n",
       "  'drv': '4',\n",
       "  'fl': 'r',\n",
       "  'hwy': '18',\n",
       "  'manufacturer': 'land rover',\n",
       "  'model': 'range rover',\n",
       "  'trans': 'auto(s6)',\n",
       "  'year': '2008'},\n",
       " {'': '134',\n",
       "  'class': 'suv',\n",
       "  'cty': '11',\n",
       "  'cyl': '8',\n",
       "  'displ': '4.6',\n",
       "  'drv': '4',\n",
       "  'fl': 'p',\n",
       "  'hwy': '15',\n",
       "  'manufacturer': 'land rover',\n",
       "  'model': 'range rover',\n",
       "  'trans': 'auto(l4)',\n",
       "  'year': '1999'},\n",
       " {'': '135',\n",
       "  'class': 'suv',\n",
       "  'cty': '11',\n",
       "  'cyl': '8',\n",
       "  'displ': '5.4',\n",
       "  'drv': 'r',\n",
       "  'fl': 'r',\n",
       "  'hwy': '17',\n",
       "  'manufacturer': 'lincoln',\n",
       "  'model': 'navigator 2wd',\n",
       "  'trans': 'auto(l4)',\n",
       "  'year': '1999'},\n",
       " {'': '136',\n",
       "  'class': 'suv',\n",
       "  'cty': '11',\n",
       "  'cyl': '8',\n",
       "  'displ': '5.4',\n",
       "  'drv': 'r',\n",
       "  'fl': 'p',\n",
       "  'hwy': '16',\n",
       "  'manufacturer': 'lincoln',\n",
       "  'model': 'navigator 2wd',\n",
       "  'trans': 'auto(l4)',\n",
       "  'year': '1999'},\n",
       " {'': '137',\n",
       "  'class': 'suv',\n",
       "  'cty': '12',\n",
       "  'cyl': '8',\n",
       "  'displ': '5.4',\n",
       "  'drv': 'r',\n",
       "  'fl': 'r',\n",
       "  'hwy': '18',\n",
       "  'manufacturer': 'lincoln',\n",
       "  'model': 'navigator 2wd',\n",
       "  'trans': 'auto(l6)',\n",
       "  'year': '2008'},\n",
       " {'': '138',\n",
       "  'class': 'suv',\n",
       "  'cty': '14',\n",
       "  'cyl': '6',\n",
       "  'displ': '4',\n",
       "  'drv': '4',\n",
       "  'fl': 'r',\n",
       "  'hwy': '17',\n",
       "  'manufacturer': 'mercury',\n",
       "  'model': 'mountaineer 4wd',\n",
       "  'trans': 'auto(l5)',\n",
       "  'year': '1999'},\n",
       " {'': '139',\n",
       "  'class': 'suv',\n",
       "  'cty': '13',\n",
       "  'cyl': '6',\n",
       "  'displ': '4',\n",
       "  'drv': '4',\n",
       "  'fl': 'r',\n",
       "  'hwy': '19',\n",
       "  'manufacturer': 'mercury',\n",
       "  'model': 'mountaineer 4wd',\n",
       "  'trans': 'auto(l5)',\n",
       "  'year': '2008'},\n",
       " {'': '140',\n",
       "  'class': 'suv',\n",
       "  'cty': '13',\n",
       "  'cyl': '8',\n",
       "  'displ': '4.6',\n",
       "  'drv': '4',\n",
       "  'fl': 'r',\n",
       "  'hwy': '19',\n",
       "  'manufacturer': 'mercury',\n",
       "  'model': 'mountaineer 4wd',\n",
       "  'trans': 'auto(l6)',\n",
       "  'year': '2008'},\n",
       " {'': '141',\n",
       "  'class': 'suv',\n",
       "  'cty': '13',\n",
       "  'cyl': '8',\n",
       "  'displ': '5',\n",
       "  'drv': '4',\n",
       "  'fl': 'r',\n",
       "  'hwy': '17',\n",
       "  'manufacturer': 'mercury',\n",
       "  'model': 'mountaineer 4wd',\n",
       "  'trans': 'auto(l4)',\n",
       "  'year': '1999'},\n",
       " {'': '142',\n",
       "  'class': 'compact',\n",
       "  'cty': '21',\n",
       "  'cyl': '4',\n",
       "  'displ': '2.4',\n",
       "  'drv': 'f',\n",
       "  'fl': 'r',\n",
       "  'hwy': '29',\n",
       "  'manufacturer': 'nissan',\n",
       "  'model': 'altima',\n",
       "  'trans': 'manual(m5)',\n",
       "  'year': '1999'},\n",
       " {'': '143',\n",
       "  'class': 'compact',\n",
       "  'cty': '19',\n",
       "  'cyl': '4',\n",
       "  'displ': '2.4',\n",
       "  'drv': 'f',\n",
       "  'fl': 'r',\n",
       "  'hwy': '27',\n",
       "  'manufacturer': 'nissan',\n",
       "  'model': 'altima',\n",
       "  'trans': 'auto(l4)',\n",
       "  'year': '1999'},\n",
       " {'': '144',\n",
       "  'class': 'midsize',\n",
       "  'cty': '23',\n",
       "  'cyl': '4',\n",
       "  'displ': '2.5',\n",
       "  'drv': 'f',\n",
       "  'fl': 'r',\n",
       "  'hwy': '31',\n",
       "  'manufacturer': 'nissan',\n",
       "  'model': 'altima',\n",
       "  'trans': 'auto(av)',\n",
       "  'year': '2008'},\n",
       " {'': '145',\n",
       "  'class': 'midsize',\n",
       "  'cty': '23',\n",
       "  'cyl': '4',\n",
       "  'displ': '2.5',\n",
       "  'drv': 'f',\n",
       "  'fl': 'r',\n",
       "  'hwy': '32',\n",
       "  'manufacturer': 'nissan',\n",
       "  'model': 'altima',\n",
       "  'trans': 'manual(m6)',\n",
       "  'year': '2008'},\n",
       " {'': '146',\n",
       "  'class': 'midsize',\n",
       "  'cty': '19',\n",
       "  'cyl': '6',\n",
       "  'displ': '3.5',\n",
       "  'drv': 'f',\n",
       "  'fl': 'p',\n",
       "  'hwy': '27',\n",
       "  'manufacturer': 'nissan',\n",
       "  'model': 'altima',\n",
       "  'trans': 'manual(m6)',\n",
       "  'year': '2008'},\n",
       " {'': '147',\n",
       "  'class': 'midsize',\n",
       "  'cty': '19',\n",
       "  'cyl': '6',\n",
       "  'displ': '3.5',\n",
       "  'drv': 'f',\n",
       "  'fl': 'p',\n",
       "  'hwy': '26',\n",
       "  'manufacturer': 'nissan',\n",
       "  'model': 'altima',\n",
       "  'trans': 'auto(av)',\n",
       "  'year': '2008'},\n",
       " {'': '148',\n",
       "  'class': 'midsize',\n",
       "  'cty': '18',\n",
       "  'cyl': '6',\n",
       "  'displ': '3',\n",
       "  'drv': 'f',\n",
       "  'fl': 'r',\n",
       "  'hwy': '26',\n",
       "  'manufacturer': 'nissan',\n",
       "  'model': 'maxima',\n",
       "  'trans': 'auto(l4)',\n",
       "  'year': '1999'},\n",
       " {'': '149',\n",
       "  'class': 'midsize',\n",
       "  'cty': '19',\n",
       "  'cyl': '6',\n",
       "  'displ': '3',\n",
       "  'drv': 'f',\n",
       "  'fl': 'r',\n",
       "  'hwy': '25',\n",
       "  'manufacturer': 'nissan',\n",
       "  'model': 'maxima',\n",
       "  'trans': 'manual(m5)',\n",
       "  'year': '1999'},\n",
       " {'': '150',\n",
       "  'class': 'midsize',\n",
       "  'cty': '19',\n",
       "  'cyl': '6',\n",
       "  'displ': '3.5',\n",
       "  'drv': 'f',\n",
       "  'fl': 'p',\n",
       "  'hwy': '25',\n",
       "  'manufacturer': 'nissan',\n",
       "  'model': 'maxima',\n",
       "  'trans': 'auto(av)',\n",
       "  'year': '2008'},\n",
       " {'': '151',\n",
       "  'class': 'suv',\n",
       "  'cty': '14',\n",
       "  'cyl': '6',\n",
       "  'displ': '3.3',\n",
       "  'drv': '4',\n",
       "  'fl': 'r',\n",
       "  'hwy': '17',\n",
       "  'manufacturer': 'nissan',\n",
       "  'model': 'pathfinder 4wd',\n",
       "  'trans': 'auto(l4)',\n",
       "  'year': '1999'},\n",
       " {'': '152',\n",
       "  'class': 'suv',\n",
       "  'cty': '15',\n",
       "  'cyl': '6',\n",
       "  'displ': '3.3',\n",
       "  'drv': '4',\n",
       "  'fl': 'r',\n",
       "  'hwy': '17',\n",
       "  'manufacturer': 'nissan',\n",
       "  'model': 'pathfinder 4wd',\n",
       "  'trans': 'manual(m5)',\n",
       "  'year': '1999'},\n",
       " {'': '153',\n",
       "  'class': 'suv',\n",
       "  'cty': '14',\n",
       "  'cyl': '6',\n",
       "  'displ': '4',\n",
       "  'drv': '4',\n",
       "  'fl': 'p',\n",
       "  'hwy': '20',\n",
       "  'manufacturer': 'nissan',\n",
       "  'model': 'pathfinder 4wd',\n",
       "  'trans': 'auto(l5)',\n",
       "  'year': '2008'},\n",
       " {'': '154',\n",
       "  'class': 'suv',\n",
       "  'cty': '12',\n",
       "  'cyl': '8',\n",
       "  'displ': '5.6',\n",
       "  'drv': '4',\n",
       "  'fl': 'p',\n",
       "  'hwy': '18',\n",
       "  'manufacturer': 'nissan',\n",
       "  'model': 'pathfinder 4wd',\n",
       "  'trans': 'auto(s5)',\n",
       "  'year': '2008'},\n",
       " {'': '155',\n",
       "  'class': 'midsize',\n",
       "  'cty': '18',\n",
       "  'cyl': '6',\n",
       "  'displ': '3.1',\n",
       "  'drv': 'f',\n",
       "  'fl': 'r',\n",
       "  'hwy': '26',\n",
       "  'manufacturer': 'pontiac',\n",
       "  'model': 'grand prix',\n",
       "  'trans': 'auto(l4)',\n",
       "  'year': '1999'},\n",
       " {'': '156',\n",
       "  'class': 'midsize',\n",
       "  'cty': '16',\n",
       "  'cyl': '6',\n",
       "  'displ': '3.8',\n",
       "  'drv': 'f',\n",
       "  'fl': 'p',\n",
       "  'hwy': '26',\n",
       "  'manufacturer': 'pontiac',\n",
       "  'model': 'grand prix',\n",
       "  'trans': 'auto(l4)',\n",
       "  'year': '1999'},\n",
       " {'': '157',\n",
       "  'class': 'midsize',\n",
       "  'cty': '17',\n",
       "  'cyl': '6',\n",
       "  'displ': '3.8',\n",
       "  'drv': 'f',\n",
       "  'fl': 'r',\n",
       "  'hwy': '27',\n",
       "  'manufacturer': 'pontiac',\n",
       "  'model': 'grand prix',\n",
       "  'trans': 'auto(l4)',\n",
       "  'year': '1999'},\n",
       " {'': '158',\n",
       "  'class': 'midsize',\n",
       "  'cty': '18',\n",
       "  'cyl': '6',\n",
       "  'displ': '3.8',\n",
       "  'drv': 'f',\n",
       "  'fl': 'r',\n",
       "  'hwy': '28',\n",
       "  'manufacturer': 'pontiac',\n",
       "  'model': 'grand prix',\n",
       "  'trans': 'auto(l4)',\n",
       "  'year': '2008'},\n",
       " {'': '159',\n",
       "  'class': 'midsize',\n",
       "  'cty': '16',\n",
       "  'cyl': '8',\n",
       "  'displ': '5.3',\n",
       "  'drv': 'f',\n",
       "  'fl': 'p',\n",
       "  'hwy': '25',\n",
       "  'manufacturer': 'pontiac',\n",
       "  'model': 'grand prix',\n",
       "  'trans': 'auto(s4)',\n",
       "  'year': '2008'},\n",
       " {'': '160',\n",
       "  'class': 'suv',\n",
       "  'cty': '18',\n",
       "  'cyl': '4',\n",
       "  'displ': '2.5',\n",
       "  'drv': '4',\n",
       "  'fl': 'r',\n",
       "  'hwy': '25',\n",
       "  'manufacturer': 'subaru',\n",
       "  'model': 'forester awd',\n",
       "  'trans': 'manual(m5)',\n",
       "  'year': '1999'},\n",
       " {'': '161',\n",
       "  'class': 'suv',\n",
       "  'cty': '18',\n",
       "  'cyl': '4',\n",
       "  'displ': '2.5',\n",
       "  'drv': '4',\n",
       "  'fl': 'r',\n",
       "  'hwy': '24',\n",
       "  'manufacturer': 'subaru',\n",
       "  'model': 'forester awd',\n",
       "  'trans': 'auto(l4)',\n",
       "  'year': '1999'},\n",
       " {'': '162',\n",
       "  'class': 'suv',\n",
       "  'cty': '20',\n",
       "  'cyl': '4',\n",
       "  'displ': '2.5',\n",
       "  'drv': '4',\n",
       "  'fl': 'r',\n",
       "  'hwy': '27',\n",
       "  'manufacturer': 'subaru',\n",
       "  'model': 'forester awd',\n",
       "  'trans': 'manual(m5)',\n",
       "  'year': '2008'},\n",
       " {'': '163',\n",
       "  'class': 'suv',\n",
       "  'cty': '19',\n",
       "  'cyl': '4',\n",
       "  'displ': '2.5',\n",
       "  'drv': '4',\n",
       "  'fl': 'p',\n",
       "  'hwy': '25',\n",
       "  'manufacturer': 'subaru',\n",
       "  'model': 'forester awd',\n",
       "  'trans': 'manual(m5)',\n",
       "  'year': '2008'},\n",
       " {'': '164',\n",
       "  'class': 'suv',\n",
       "  'cty': '20',\n",
       "  'cyl': '4',\n",
       "  'displ': '2.5',\n",
       "  'drv': '4',\n",
       "  'fl': 'r',\n",
       "  'hwy': '26',\n",
       "  'manufacturer': 'subaru',\n",
       "  'model': 'forester awd',\n",
       "  'trans': 'auto(l4)',\n",
       "  'year': '2008'},\n",
       " {'': '165',\n",
       "  'class': 'suv',\n",
       "  'cty': '18',\n",
       "  'cyl': '4',\n",
       "  'displ': '2.5',\n",
       "  'drv': '4',\n",
       "  'fl': 'p',\n",
       "  'hwy': '23',\n",
       "  'manufacturer': 'subaru',\n",
       "  'model': 'forester awd',\n",
       "  'trans': 'auto(l4)',\n",
       "  'year': '2008'},\n",
       " {'': '166',\n",
       "  'class': 'subcompact',\n",
       "  'cty': '21',\n",
       "  'cyl': '4',\n",
       "  'displ': '2.2',\n",
       "  'drv': '4',\n",
       "  'fl': 'r',\n",
       "  'hwy': '26',\n",
       "  'manufacturer': 'subaru',\n",
       "  'model': 'impreza awd',\n",
       "  'trans': 'auto(l4)',\n",
       "  'year': '1999'},\n",
       " {'': '167',\n",
       "  'class': 'subcompact',\n",
       "  'cty': '19',\n",
       "  'cyl': '4',\n",
       "  'displ': '2.2',\n",
       "  'drv': '4',\n",
       "  'fl': 'r',\n",
       "  'hwy': '26',\n",
       "  'manufacturer': 'subaru',\n",
       "  'model': 'impreza awd',\n",
       "  'trans': 'manual(m5)',\n",
       "  'year': '1999'},\n",
       " {'': '168',\n",
       "  'class': 'subcompact',\n",
       "  'cty': '19',\n",
       "  'cyl': '4',\n",
       "  'displ': '2.5',\n",
       "  'drv': '4',\n",
       "  'fl': 'r',\n",
       "  'hwy': '26',\n",
       "  'manufacturer': 'subaru',\n",
       "  'model': 'impreza awd',\n",
       "  'trans': 'manual(m5)',\n",
       "  'year': '1999'},\n",
       " {'': '169',\n",
       "  'class': 'subcompact',\n",
       "  'cty': '19',\n",
       "  'cyl': '4',\n",
       "  'displ': '2.5',\n",
       "  'drv': '4',\n",
       "  'fl': 'r',\n",
       "  'hwy': '26',\n",
       "  'manufacturer': 'subaru',\n",
       "  'model': 'impreza awd',\n",
       "  'trans': 'auto(l4)',\n",
       "  'year': '1999'},\n",
       " {'': '170',\n",
       "  'class': 'compact',\n",
       "  'cty': '20',\n",
       "  'cyl': '4',\n",
       "  'displ': '2.5',\n",
       "  'drv': '4',\n",
       "  'fl': 'p',\n",
       "  'hwy': '25',\n",
       "  'manufacturer': 'subaru',\n",
       "  'model': 'impreza awd',\n",
       "  'trans': 'auto(s4)',\n",
       "  'year': '2008'},\n",
       " {'': '171',\n",
       "  'class': 'compact',\n",
       "  'cty': '20',\n",
       "  'cyl': '4',\n",
       "  'displ': '2.5',\n",
       "  'drv': '4',\n",
       "  'fl': 'r',\n",
       "  'hwy': '27',\n",
       "  'manufacturer': 'subaru',\n",
       "  'model': 'impreza awd',\n",
       "  'trans': 'auto(s4)',\n",
       "  'year': '2008'},\n",
       " {'': '172',\n",
       "  'class': 'compact',\n",
       "  'cty': '19',\n",
       "  'cyl': '4',\n",
       "  'displ': '2.5',\n",
       "  'drv': '4',\n",
       "  'fl': 'p',\n",
       "  'hwy': '25',\n",
       "  'manufacturer': 'subaru',\n",
       "  'model': 'impreza awd',\n",
       "  'trans': 'manual(m5)',\n",
       "  'year': '2008'},\n",
       " {'': '173',\n",
       "  'class': 'compact',\n",
       "  'cty': '20',\n",
       "  'cyl': '4',\n",
       "  'displ': '2.5',\n",
       "  'drv': '4',\n",
       "  'fl': 'r',\n",
       "  'hwy': '27',\n",
       "  'manufacturer': 'subaru',\n",
       "  'model': 'impreza awd',\n",
       "  'trans': 'manual(m5)',\n",
       "  'year': '2008'},\n",
       " {'': '174',\n",
       "  'class': 'suv',\n",
       "  'cty': '15',\n",
       "  'cyl': '4',\n",
       "  'displ': '2.7',\n",
       "  'drv': '4',\n",
       "  'fl': 'r',\n",
       "  'hwy': '20',\n",
       "  'manufacturer': 'toyota',\n",
       "  'model': '4runner 4wd',\n",
       "  'trans': 'manual(m5)',\n",
       "  'year': '1999'},\n",
       " {'': '175',\n",
       "  'class': 'suv',\n",
       "  'cty': '16',\n",
       "  'cyl': '4',\n",
       "  'displ': '2.7',\n",
       "  'drv': '4',\n",
       "  'fl': 'r',\n",
       "  'hwy': '20',\n",
       "  'manufacturer': 'toyota',\n",
       "  'model': '4runner 4wd',\n",
       "  'trans': 'auto(l4)',\n",
       "  'year': '1999'},\n",
       " {'': '176',\n",
       "  'class': 'suv',\n",
       "  'cty': '15',\n",
       "  'cyl': '6',\n",
       "  'displ': '3.4',\n",
       "  'drv': '4',\n",
       "  'fl': 'r',\n",
       "  'hwy': '19',\n",
       "  'manufacturer': 'toyota',\n",
       "  'model': '4runner 4wd',\n",
       "  'trans': 'auto(l4)',\n",
       "  'year': '1999'},\n",
       " {'': '177',\n",
       "  'class': 'suv',\n",
       "  'cty': '15',\n",
       "  'cyl': '6',\n",
       "  'displ': '3.4',\n",
       "  'drv': '4',\n",
       "  'fl': 'r',\n",
       "  'hwy': '17',\n",
       "  'manufacturer': 'toyota',\n",
       "  'model': '4runner 4wd',\n",
       "  'trans': 'manual(m5)',\n",
       "  'year': '1999'},\n",
       " {'': '178',\n",
       "  'class': 'suv',\n",
       "  'cty': '16',\n",
       "  'cyl': '6',\n",
       "  'displ': '4',\n",
       "  'drv': '4',\n",
       "  'fl': 'r',\n",
       "  'hwy': '20',\n",
       "  'manufacturer': 'toyota',\n",
       "  'model': '4runner 4wd',\n",
       "  'trans': 'auto(l5)',\n",
       "  'year': '2008'},\n",
       " {'': '179',\n",
       "  'class': 'suv',\n",
       "  'cty': '14',\n",
       "  'cyl': '8',\n",
       "  'displ': '4.7',\n",
       "  'drv': '4',\n",
       "  'fl': 'r',\n",
       "  'hwy': '17',\n",
       "  'manufacturer': 'toyota',\n",
       "  'model': '4runner 4wd',\n",
       "  'trans': 'auto(l5)',\n",
       "  'year': '2008'},\n",
       " {'': '180',\n",
       "  'class': 'midsize',\n",
       "  'cty': '21',\n",
       "  'cyl': '4',\n",
       "  'displ': '2.2',\n",
       "  'drv': 'f',\n",
       "  'fl': 'r',\n",
       "  'hwy': '29',\n",
       "  'manufacturer': 'toyota',\n",
       "  'model': 'camry',\n",
       "  'trans': 'manual(m5)',\n",
       "  'year': '1999'},\n",
       " {'': '181',\n",
       "  'class': 'midsize',\n",
       "  'cty': '21',\n",
       "  'cyl': '4',\n",
       "  'displ': '2.2',\n",
       "  'drv': 'f',\n",
       "  'fl': 'r',\n",
       "  'hwy': '27',\n",
       "  'manufacturer': 'toyota',\n",
       "  'model': 'camry',\n",
       "  'trans': 'auto(l4)',\n",
       "  'year': '1999'},\n",
       " {'': '182',\n",
       "  'class': 'midsize',\n",
       "  'cty': '21',\n",
       "  'cyl': '4',\n",
       "  'displ': '2.4',\n",
       "  'drv': 'f',\n",
       "  'fl': 'r',\n",
       "  'hwy': '31',\n",
       "  'manufacturer': 'toyota',\n",
       "  'model': 'camry',\n",
       "  'trans': 'manual(m5)',\n",
       "  'year': '2008'},\n",
       " {'': '183',\n",
       "  'class': 'midsize',\n",
       "  'cty': '21',\n",
       "  'cyl': '4',\n",
       "  'displ': '2.4',\n",
       "  'drv': 'f',\n",
       "  'fl': 'r',\n",
       "  'hwy': '31',\n",
       "  'manufacturer': 'toyota',\n",
       "  'model': 'camry',\n",
       "  'trans': 'auto(l5)',\n",
       "  'year': '2008'},\n",
       " {'': '184',\n",
       "  'class': 'midsize',\n",
       "  'cty': '18',\n",
       "  'cyl': '6',\n",
       "  'displ': '3',\n",
       "  'drv': 'f',\n",
       "  'fl': 'r',\n",
       "  'hwy': '26',\n",
       "  'manufacturer': 'toyota',\n",
       "  'model': 'camry',\n",
       "  'trans': 'auto(l4)',\n",
       "  'year': '1999'},\n",
       " {'': '185',\n",
       "  'class': 'midsize',\n",
       "  'cty': '18',\n",
       "  'cyl': '6',\n",
       "  'displ': '3',\n",
       "  'drv': 'f',\n",
       "  'fl': 'r',\n",
       "  'hwy': '26',\n",
       "  'manufacturer': 'toyota',\n",
       "  'model': 'camry',\n",
       "  'trans': 'manual(m5)',\n",
       "  'year': '1999'},\n",
       " {'': '186',\n",
       "  'class': 'midsize',\n",
       "  'cty': '19',\n",
       "  'cyl': '6',\n",
       "  'displ': '3.5',\n",
       "  'drv': 'f',\n",
       "  'fl': 'r',\n",
       "  'hwy': '28',\n",
       "  'manufacturer': 'toyota',\n",
       "  'model': 'camry',\n",
       "  'trans': 'auto(s6)',\n",
       "  'year': '2008'},\n",
       " {'': '187',\n",
       "  'class': 'compact',\n",
       "  'cty': '21',\n",
       "  'cyl': '4',\n",
       "  'displ': '2.2',\n",
       "  'drv': 'f',\n",
       "  'fl': 'r',\n",
       "  'hwy': '27',\n",
       "  'manufacturer': 'toyota',\n",
       "  'model': 'camry solara',\n",
       "  'trans': 'auto(l4)',\n",
       "  'year': '1999'},\n",
       " {'': '188',\n",
       "  'class': 'compact',\n",
       "  'cty': '21',\n",
       "  'cyl': '4',\n",
       "  'displ': '2.2',\n",
       "  'drv': 'f',\n",
       "  'fl': 'r',\n",
       "  'hwy': '29',\n",
       "  'manufacturer': 'toyota',\n",
       "  'model': 'camry solara',\n",
       "  'trans': 'manual(m5)',\n",
       "  'year': '1999'},\n",
       " {'': '189',\n",
       "  'class': 'compact',\n",
       "  'cty': '21',\n",
       "  'cyl': '4',\n",
       "  'displ': '2.4',\n",
       "  'drv': 'f',\n",
       "  'fl': 'r',\n",
       "  'hwy': '31',\n",
       "  'manufacturer': 'toyota',\n",
       "  'model': 'camry solara',\n",
       "  'trans': 'manual(m5)',\n",
       "  'year': '2008'},\n",
       " {'': '190',\n",
       "  'class': 'compact',\n",
       "  'cty': '22',\n",
       "  'cyl': '4',\n",
       "  'displ': '2.4',\n",
       "  'drv': 'f',\n",
       "  'fl': 'r',\n",
       "  'hwy': '31',\n",
       "  'manufacturer': 'toyota',\n",
       "  'model': 'camry solara',\n",
       "  'trans': 'auto(s5)',\n",
       "  'year': '2008'},\n",
       " {'': '191',\n",
       "  'class': 'compact',\n",
       "  'cty': '18',\n",
       "  'cyl': '6',\n",
       "  'displ': '3',\n",
       "  'drv': 'f',\n",
       "  'fl': 'r',\n",
       "  'hwy': '26',\n",
       "  'manufacturer': 'toyota',\n",
       "  'model': 'camry solara',\n",
       "  'trans': 'auto(l4)',\n",
       "  'year': '1999'},\n",
       " {'': '192',\n",
       "  'class': 'compact',\n",
       "  'cty': '18',\n",
       "  'cyl': '6',\n",
       "  'displ': '3',\n",
       "  'drv': 'f',\n",
       "  'fl': 'r',\n",
       "  'hwy': '26',\n",
       "  'manufacturer': 'toyota',\n",
       "  'model': 'camry solara',\n",
       "  'trans': 'manual(m5)',\n",
       "  'year': '1999'},\n",
       " {'': '193',\n",
       "  'class': 'compact',\n",
       "  'cty': '18',\n",
       "  'cyl': '6',\n",
       "  'displ': '3.3',\n",
       "  'drv': 'f',\n",
       "  'fl': 'r',\n",
       "  'hwy': '27',\n",
       "  'manufacturer': 'toyota',\n",
       "  'model': 'camry solara',\n",
       "  'trans': 'auto(s5)',\n",
       "  'year': '2008'},\n",
       " {'': '194',\n",
       "  'class': 'compact',\n",
       "  'cty': '24',\n",
       "  'cyl': '4',\n",
       "  'displ': '1.8',\n",
       "  'drv': 'f',\n",
       "  'fl': 'r',\n",
       "  'hwy': '30',\n",
       "  'manufacturer': 'toyota',\n",
       "  'model': 'corolla',\n",
       "  'trans': 'auto(l3)',\n",
       "  'year': '1999'},\n",
       " {'': '195',\n",
       "  'class': 'compact',\n",
       "  'cty': '24',\n",
       "  'cyl': '4',\n",
       "  'displ': '1.8',\n",
       "  'drv': 'f',\n",
       "  'fl': 'r',\n",
       "  'hwy': '33',\n",
       "  'manufacturer': 'toyota',\n",
       "  'model': 'corolla',\n",
       "  'trans': 'auto(l4)',\n",
       "  'year': '1999'},\n",
       " {'': '196',\n",
       "  'class': 'compact',\n",
       "  'cty': '26',\n",
       "  'cyl': '4',\n",
       "  'displ': '1.8',\n",
       "  'drv': 'f',\n",
       "  'fl': 'r',\n",
       "  'hwy': '35',\n",
       "  'manufacturer': 'toyota',\n",
       "  'model': 'corolla',\n",
       "  'trans': 'manual(m5)',\n",
       "  'year': '1999'},\n",
       " {'': '197',\n",
       "  'class': 'compact',\n",
       "  'cty': '28',\n",
       "  'cyl': '4',\n",
       "  'displ': '1.8',\n",
       "  'drv': 'f',\n",
       "  'fl': 'r',\n",
       "  'hwy': '37',\n",
       "  'manufacturer': 'toyota',\n",
       "  'model': 'corolla',\n",
       "  'trans': 'manual(m5)',\n",
       "  'year': '2008'},\n",
       " {'': '198',\n",
       "  'class': 'compact',\n",
       "  'cty': '26',\n",
       "  'cyl': '4',\n",
       "  'displ': '1.8',\n",
       "  'drv': 'f',\n",
       "  'fl': 'r',\n",
       "  'hwy': '35',\n",
       "  'manufacturer': 'toyota',\n",
       "  'model': 'corolla',\n",
       "  'trans': 'auto(l4)',\n",
       "  'year': '2008'},\n",
       " {'': '199',\n",
       "  'class': 'suv',\n",
       "  'cty': '11',\n",
       "  'cyl': '8',\n",
       "  'displ': '4.7',\n",
       "  'drv': '4',\n",
       "  'fl': 'r',\n",
       "  'hwy': '15',\n",
       "  'manufacturer': 'toyota',\n",
       "  'model': 'land cruiser wagon 4wd',\n",
       "  'trans': 'auto(l4)',\n",
       "  'year': '1999'},\n",
       " {'': '200',\n",
       "  'class': 'suv',\n",
       "  'cty': '13',\n",
       "  'cyl': '8',\n",
       "  'displ': '5.7',\n",
       "  'drv': '4',\n",
       "  'fl': 'r',\n",
       "  'hwy': '18',\n",
       "  'manufacturer': 'toyota',\n",
       "  'model': 'land cruiser wagon 4wd',\n",
       "  'trans': 'auto(s6)',\n",
       "  'year': '2008'},\n",
       " {'': '201',\n",
       "  'class': 'pickup',\n",
       "  'cty': '15',\n",
       "  'cyl': '4',\n",
       "  'displ': '2.7',\n",
       "  'drv': '4',\n",
       "  'fl': 'r',\n",
       "  'hwy': '20',\n",
       "  'manufacturer': 'toyota',\n",
       "  'model': 'toyota tacoma 4wd',\n",
       "  'trans': 'manual(m5)',\n",
       "  'year': '1999'},\n",
       " {'': '202',\n",
       "  'class': 'pickup',\n",
       "  'cty': '16',\n",
       "  'cyl': '4',\n",
       "  'displ': '2.7',\n",
       "  'drv': '4',\n",
       "  'fl': 'r',\n",
       "  'hwy': '20',\n",
       "  'manufacturer': 'toyota',\n",
       "  'model': 'toyota tacoma 4wd',\n",
       "  'trans': 'auto(l4)',\n",
       "  'year': '1999'},\n",
       " {'': '203',\n",
       "  'class': 'pickup',\n",
       "  'cty': '17',\n",
       "  'cyl': '4',\n",
       "  'displ': '2.7',\n",
       "  'drv': '4',\n",
       "  'fl': 'r',\n",
       "  'hwy': '22',\n",
       "  'manufacturer': 'toyota',\n",
       "  'model': 'toyota tacoma 4wd',\n",
       "  'trans': 'manual(m5)',\n",
       "  'year': '2008'},\n",
       " {'': '204',\n",
       "  'class': 'pickup',\n",
       "  'cty': '15',\n",
       "  'cyl': '6',\n",
       "  'displ': '3.4',\n",
       "  'drv': '4',\n",
       "  'fl': 'r',\n",
       "  'hwy': '17',\n",
       "  'manufacturer': 'toyota',\n",
       "  'model': 'toyota tacoma 4wd',\n",
       "  'trans': 'manual(m5)',\n",
       "  'year': '1999'},\n",
       " {'': '205',\n",
       "  'class': 'pickup',\n",
       "  'cty': '15',\n",
       "  'cyl': '6',\n",
       "  'displ': '3.4',\n",
       "  'drv': '4',\n",
       "  'fl': 'r',\n",
       "  'hwy': '19',\n",
       "  'manufacturer': 'toyota',\n",
       "  'model': 'toyota tacoma 4wd',\n",
       "  'trans': 'auto(l4)',\n",
       "  'year': '1999'},\n",
       " {'': '206',\n",
       "  'class': 'pickup',\n",
       "  'cty': '15',\n",
       "  'cyl': '6',\n",
       "  'displ': '4',\n",
       "  'drv': '4',\n",
       "  'fl': 'r',\n",
       "  'hwy': '18',\n",
       "  'manufacturer': 'toyota',\n",
       "  'model': 'toyota tacoma 4wd',\n",
       "  'trans': 'manual(m6)',\n",
       "  'year': '2008'},\n",
       " {'': '207',\n",
       "  'class': 'pickup',\n",
       "  'cty': '16',\n",
       "  'cyl': '6',\n",
       "  'displ': '4',\n",
       "  'drv': '4',\n",
       "  'fl': 'r',\n",
       "  'hwy': '20',\n",
       "  'manufacturer': 'toyota',\n",
       "  'model': 'toyota tacoma 4wd',\n",
       "  'trans': 'auto(l5)',\n",
       "  'year': '2008'},\n",
       " {'': '208',\n",
       "  'class': 'compact',\n",
       "  'cty': '21',\n",
       "  'cyl': '4',\n",
       "  'displ': '2',\n",
       "  'drv': 'f',\n",
       "  'fl': 'r',\n",
       "  'hwy': '29',\n",
       "  'manufacturer': 'volkswagen',\n",
       "  'model': 'gti',\n",
       "  'trans': 'manual(m5)',\n",
       "  'year': '1999'},\n",
       " {'': '209',\n",
       "  'class': 'compact',\n",
       "  'cty': '19',\n",
       "  'cyl': '4',\n",
       "  'displ': '2',\n",
       "  'drv': 'f',\n",
       "  'fl': 'r',\n",
       "  'hwy': '26',\n",
       "  'manufacturer': 'volkswagen',\n",
       "  'model': 'gti',\n",
       "  'trans': 'auto(l4)',\n",
       "  'year': '1999'},\n",
       " {'': '210',\n",
       "  'class': 'compact',\n",
       "  'cty': '21',\n",
       "  'cyl': '4',\n",
       "  'displ': '2',\n",
       "  'drv': 'f',\n",
       "  'fl': 'p',\n",
       "  'hwy': '29',\n",
       "  'manufacturer': 'volkswagen',\n",
       "  'model': 'gti',\n",
       "  'trans': 'manual(m6)',\n",
       "  'year': '2008'},\n",
       " {'': '211',\n",
       "  'class': 'compact',\n",
       "  'cty': '22',\n",
       "  'cyl': '4',\n",
       "  'displ': '2',\n",
       "  'drv': 'f',\n",
       "  'fl': 'p',\n",
       "  'hwy': '29',\n",
       "  'manufacturer': 'volkswagen',\n",
       "  'model': 'gti',\n",
       "  'trans': 'auto(s6)',\n",
       "  'year': '2008'},\n",
       " {'': '212',\n",
       "  'class': 'compact',\n",
       "  'cty': '17',\n",
       "  'cyl': '6',\n",
       "  'displ': '2.8',\n",
       "  'drv': 'f',\n",
       "  'fl': 'r',\n",
       "  'hwy': '24',\n",
       "  'manufacturer': 'volkswagen',\n",
       "  'model': 'gti',\n",
       "  'trans': 'manual(m5)',\n",
       "  'year': '1999'},\n",
       " {'': '213',\n",
       "  'class': 'compact',\n",
       "  'cty': '33',\n",
       "  'cyl': '4',\n",
       "  'displ': '1.9',\n",
       "  'drv': 'f',\n",
       "  'fl': 'd',\n",
       "  'hwy': '44',\n",
       "  'manufacturer': 'volkswagen',\n",
       "  'model': 'jetta',\n",
       "  'trans': 'manual(m5)',\n",
       "  'year': '1999'},\n",
       " {'': '214',\n",
       "  'class': 'compact',\n",
       "  'cty': '21',\n",
       "  'cyl': '4',\n",
       "  'displ': '2',\n",
       "  'drv': 'f',\n",
       "  'fl': 'r',\n",
       "  'hwy': '29',\n",
       "  'manufacturer': 'volkswagen',\n",
       "  'model': 'jetta',\n",
       "  'trans': 'manual(m5)',\n",
       "  'year': '1999'},\n",
       " {'': '215',\n",
       "  'class': 'compact',\n",
       "  'cty': '19',\n",
       "  'cyl': '4',\n",
       "  'displ': '2',\n",
       "  'drv': 'f',\n",
       "  'fl': 'r',\n",
       "  'hwy': '26',\n",
       "  'manufacturer': 'volkswagen',\n",
       "  'model': 'jetta',\n",
       "  'trans': 'auto(l4)',\n",
       "  'year': '1999'},\n",
       " {'': '216',\n",
       "  'class': 'compact',\n",
       "  'cty': '22',\n",
       "  'cyl': '4',\n",
       "  'displ': '2',\n",
       "  'drv': 'f',\n",
       "  'fl': 'p',\n",
       "  'hwy': '29',\n",
       "  'manufacturer': 'volkswagen',\n",
       "  'model': 'jetta',\n",
       "  'trans': 'auto(s6)',\n",
       "  'year': '2008'},\n",
       " {'': '217',\n",
       "  'class': 'compact',\n",
       "  'cty': '21',\n",
       "  'cyl': '4',\n",
       "  'displ': '2',\n",
       "  'drv': 'f',\n",
       "  'fl': 'p',\n",
       "  'hwy': '29',\n",
       "  'manufacturer': 'volkswagen',\n",
       "  'model': 'jetta',\n",
       "  'trans': 'manual(m6)',\n",
       "  'year': '2008'},\n",
       " {'': '218',\n",
       "  'class': 'compact',\n",
       "  'cty': '21',\n",
       "  'cyl': '5',\n",
       "  'displ': '2.5',\n",
       "  'drv': 'f',\n",
       "  'fl': 'r',\n",
       "  'hwy': '29',\n",
       "  'manufacturer': 'volkswagen',\n",
       "  'model': 'jetta',\n",
       "  'trans': 'auto(s6)',\n",
       "  'year': '2008'},\n",
       " {'': '219',\n",
       "  'class': 'compact',\n",
       "  'cty': '21',\n",
       "  'cyl': '5',\n",
       "  'displ': '2.5',\n",
       "  'drv': 'f',\n",
       "  'fl': 'r',\n",
       "  'hwy': '29',\n",
       "  'manufacturer': 'volkswagen',\n",
       "  'model': 'jetta',\n",
       "  'trans': 'manual(m5)',\n",
       "  'year': '2008'},\n",
       " {'': '220',\n",
       "  'class': 'compact',\n",
       "  'cty': '16',\n",
       "  'cyl': '6',\n",
       "  'displ': '2.8',\n",
       "  'drv': 'f',\n",
       "  'fl': 'r',\n",
       "  'hwy': '23',\n",
       "  'manufacturer': 'volkswagen',\n",
       "  'model': 'jetta',\n",
       "  'trans': 'auto(l4)',\n",
       "  'year': '1999'},\n",
       " {'': '221',\n",
       "  'class': 'compact',\n",
       "  'cty': '17',\n",
       "  'cyl': '6',\n",
       "  'displ': '2.8',\n",
       "  'drv': 'f',\n",
       "  'fl': 'r',\n",
       "  'hwy': '24',\n",
       "  'manufacturer': 'volkswagen',\n",
       "  'model': 'jetta',\n",
       "  'trans': 'manual(m5)',\n",
       "  'year': '1999'},\n",
       " {'': '222',\n",
       "  'class': 'subcompact',\n",
       "  'cty': '35',\n",
       "  'cyl': '4',\n",
       "  'displ': '1.9',\n",
       "  'drv': 'f',\n",
       "  'fl': 'd',\n",
       "  'hwy': '44',\n",
       "  'manufacturer': 'volkswagen',\n",
       "  'model': 'new beetle',\n",
       "  'trans': 'manual(m5)',\n",
       "  'year': '1999'},\n",
       " {'': '223',\n",
       "  'class': 'subcompact',\n",
       "  'cty': '29',\n",
       "  'cyl': '4',\n",
       "  'displ': '1.9',\n",
       "  'drv': 'f',\n",
       "  'fl': 'd',\n",
       "  'hwy': '41',\n",
       "  'manufacturer': 'volkswagen',\n",
       "  'model': 'new beetle',\n",
       "  'trans': 'auto(l4)',\n",
       "  'year': '1999'},\n",
       " {'': '224',\n",
       "  'class': 'subcompact',\n",
       "  'cty': '21',\n",
       "  'cyl': '4',\n",
       "  'displ': '2',\n",
       "  'drv': 'f',\n",
       "  'fl': 'r',\n",
       "  'hwy': '29',\n",
       "  'manufacturer': 'volkswagen',\n",
       "  'model': 'new beetle',\n",
       "  'trans': 'manual(m5)',\n",
       "  'year': '1999'},\n",
       " {'': '225',\n",
       "  'class': 'subcompact',\n",
       "  'cty': '19',\n",
       "  'cyl': '4',\n",
       "  'displ': '2',\n",
       "  'drv': 'f',\n",
       "  'fl': 'r',\n",
       "  'hwy': '26',\n",
       "  'manufacturer': 'volkswagen',\n",
       "  'model': 'new beetle',\n",
       "  'trans': 'auto(l4)',\n",
       "  'year': '1999'},\n",
       " {'': '226',\n",
       "  'class': 'subcompact',\n",
       "  'cty': '20',\n",
       "  'cyl': '5',\n",
       "  'displ': '2.5',\n",
       "  'drv': 'f',\n",
       "  'fl': 'r',\n",
       "  'hwy': '28',\n",
       "  'manufacturer': 'volkswagen',\n",
       "  'model': 'new beetle',\n",
       "  'trans': 'manual(m5)',\n",
       "  'year': '2008'},\n",
       " {'': '227',\n",
       "  'class': 'subcompact',\n",
       "  'cty': '20',\n",
       "  'cyl': '5',\n",
       "  'displ': '2.5',\n",
       "  'drv': 'f',\n",
       "  'fl': 'r',\n",
       "  'hwy': '29',\n",
       "  'manufacturer': 'volkswagen',\n",
       "  'model': 'new beetle',\n",
       "  'trans': 'auto(s6)',\n",
       "  'year': '2008'},\n",
       " {'': '228',\n",
       "  'class': 'midsize',\n",
       "  'cty': '21',\n",
       "  'cyl': '4',\n",
       "  'displ': '1.8',\n",
       "  'drv': 'f',\n",
       "  'fl': 'p',\n",
       "  'hwy': '29',\n",
       "  'manufacturer': 'volkswagen',\n",
       "  'model': 'passat',\n",
       "  'trans': 'manual(m5)',\n",
       "  'year': '1999'},\n",
       " {'': '229',\n",
       "  'class': 'midsize',\n",
       "  'cty': '18',\n",
       "  'cyl': '4',\n",
       "  'displ': '1.8',\n",
       "  'drv': 'f',\n",
       "  'fl': 'p',\n",
       "  'hwy': '29',\n",
       "  'manufacturer': 'volkswagen',\n",
       "  'model': 'passat',\n",
       "  'trans': 'auto(l5)',\n",
       "  'year': '1999'},\n",
       " {'': '230',\n",
       "  'class': 'midsize',\n",
       "  'cty': '19',\n",
       "  'cyl': '4',\n",
       "  'displ': '2',\n",
       "  'drv': 'f',\n",
       "  'fl': 'p',\n",
       "  'hwy': '28',\n",
       "  'manufacturer': 'volkswagen',\n",
       "  'model': 'passat',\n",
       "  'trans': 'auto(s6)',\n",
       "  'year': '2008'},\n",
       " {'': '231',\n",
       "  'class': 'midsize',\n",
       "  'cty': '21',\n",
       "  'cyl': '4',\n",
       "  'displ': '2',\n",
       "  'drv': 'f',\n",
       "  'fl': 'p',\n",
       "  'hwy': '29',\n",
       "  'manufacturer': 'volkswagen',\n",
       "  'model': 'passat',\n",
       "  'trans': 'manual(m6)',\n",
       "  'year': '2008'},\n",
       " {'': '232',\n",
       "  'class': 'midsize',\n",
       "  'cty': '16',\n",
       "  'cyl': '6',\n",
       "  'displ': '2.8',\n",
       "  'drv': 'f',\n",
       "  'fl': 'p',\n",
       "  'hwy': '26',\n",
       "  'manufacturer': 'volkswagen',\n",
       "  'model': 'passat',\n",
       "  'trans': 'auto(l5)',\n",
       "  'year': '1999'},\n",
       " {'': '233',\n",
       "  'class': 'midsize',\n",
       "  'cty': '18',\n",
       "  'cyl': '6',\n",
       "  'displ': '2.8',\n",
       "  'drv': 'f',\n",
       "  'fl': 'p',\n",
       "  'hwy': '26',\n",
       "  'manufacturer': 'volkswagen',\n",
       "  'model': 'passat',\n",
       "  'trans': 'manual(m5)',\n",
       "  'year': '1999'},\n",
       " {'': '234',\n",
       "  'class': 'midsize',\n",
       "  'cty': '17',\n",
       "  'cyl': '6',\n",
       "  'displ': '3.6',\n",
       "  'drv': 'f',\n",
       "  'fl': 'p',\n",
       "  'hwy': '26',\n",
       "  'manufacturer': 'volkswagen',\n",
       "  'model': 'passat',\n",
       "  'trans': 'auto(s6)',\n",
       "  'year': '2008'}]"
      ]
     },
     "execution_count": 2,
     "metadata": {},
     "output_type": "execute_result"
    }
   ],
   "source": [
    "import csv\n",
    "\n",
    "%precision 2\n",
    "\n",
    "with open('mpg.csv') as csvfile:\n",
    "    mpg = list(csv.DictReader(csvfile))\n",
    "    \n",
    "mpg[:3] # The first three dictionaries in our list.\n",
    "mpg[2]\n",
    "mpg"
   ]
  },
  {
   "cell_type": "markdown",
   "metadata": {},
   "source": [
    "<br>\n",
    "`csv.Dictreader` has read in each row of our csv file as a dictionary. `len` shows that our list is comprised of 234 dictionaries."
   ]
  },
  {
   "cell_type": "code",
   "execution_count": 46,
   "metadata": {
    "collapsed": false
   },
   "outputs": [
    {
     "data": {
      "text/plain": [
       "234"
      ]
     },
     "execution_count": 46,
     "metadata": {},
     "output_type": "execute_result"
    }
   ],
   "source": [
    "len(mpg)"
   ]
  },
  {
   "cell_type": "markdown",
   "metadata": {},
   "source": [
    "<br>\n",
    "`keys` gives us the column names of our csv."
   ]
  },
  {
   "cell_type": "code",
   "execution_count": 47,
   "metadata": {
    "collapsed": false
   },
   "outputs": [
    {
     "data": {
      "text/plain": [
       "dict_keys(['', 'drv', 'trans', 'class', 'cyl', 'hwy', 'model', 'cty', 'year', 'displ', 'fl', 'manufacturer'])"
      ]
     },
     "execution_count": 47,
     "metadata": {},
     "output_type": "execute_result"
    }
   ],
   "source": [
    "mpg[0].keys()"
   ]
  },
  {
   "cell_type": "markdown",
   "metadata": {},
   "source": [
    "<br>\n",
    "This is how to find the average cty fuel economy across all cars. All values in the dictionaries are strings, so we need to convert to float."
   ]
  },
  {
   "cell_type": "code",
   "execution_count": 48,
   "metadata": {
    "collapsed": false
   },
   "outputs": [
    {
     "data": {
      "text/plain": [
       "16.86"
      ]
     },
     "execution_count": 48,
     "metadata": {},
     "output_type": "execute_result"
    }
   ],
   "source": [
    "sum(float(d['cty']) for d in mpg) / len(mpg)"
   ]
  },
  {
   "cell_type": "markdown",
   "metadata": {},
   "source": [
    "<br>\n",
    "Similarly this is how to find the average hwy fuel economy across all cars."
   ]
  },
  {
   "cell_type": "code",
   "execution_count": 49,
   "metadata": {
    "collapsed": false
   },
   "outputs": [
    {
     "data": {
      "text/plain": [
       "23.44"
      ]
     },
     "execution_count": 49,
     "metadata": {},
     "output_type": "execute_result"
    }
   ],
   "source": [
    "sum(float(d['hwy']) for d in mpg) / len(mpg)"
   ]
  },
  {
   "cell_type": "markdown",
   "metadata": {},
   "source": [
    "<br>\n",
    "Use `set` to return the unique values for the number of cylinders the cars in our dataset have."
   ]
  },
  {
   "cell_type": "code",
   "execution_count": 50,
   "metadata": {
    "collapsed": false
   },
   "outputs": [
    {
     "data": {
      "text/plain": [
       "{'4', '5', '6', '8'}"
      ]
     },
     "execution_count": 50,
     "metadata": {},
     "output_type": "execute_result"
    }
   ],
   "source": [
    "cylinders = set(d['cyl'] for d in mpg)\n",
    "cylinders"
   ]
  },
  {
   "cell_type": "markdown",
   "metadata": {},
   "source": [
    "<br>\n",
    "Here's a more complex example where we are grouping the cars by number of cylinder, and finding the average cty mpg for each group."
   ]
  },
  {
   "cell_type": "code",
   "execution_count": 51,
   "metadata": {
    "collapsed": false
   },
   "outputs": [
    {
     "data": {
      "text/plain": [
       "[('4', 21.01), ('5', 20.50), ('6', 16.22), ('8', 12.57)]"
      ]
     },
     "execution_count": 51,
     "metadata": {},
     "output_type": "execute_result"
    }
   ],
   "source": [
    "CtyMpgByCyl = []\n",
    "\n",
    "for c in cylinders: # iterate over all the cylinder levels\n",
    "    summpg = 0\n",
    "    cyltypecount = 0\n",
    "    for d in mpg: # iterate over all dictionaries\n",
    "        if d['cyl'] == c: # if the cylinder level type matches,\n",
    "            summpg += float(d['cty']) # add the cty mpg\n",
    "            cyltypecount += 1 # increment the count\n",
    "    CtyMpgByCyl.append((c, summpg / cyltypecount)) # append the tuple ('cylinder', 'avg mpg')\n",
    "\n",
    "CtyMpgByCyl.sort(key=lambda x: x[0])\n",
    "CtyMpgByCyl"
   ]
  },
  {
   "cell_type": "markdown",
   "metadata": {},
   "source": [
    "<br>\n",
    "Use `set` to return the unique values for the class types in our dataset."
   ]
  },
  {
   "cell_type": "code",
   "execution_count": 52,
   "metadata": {
    "collapsed": false
   },
   "outputs": [
    {
     "data": {
      "text/plain": [
       "{'2seater', 'compact', 'midsize', 'minivan', 'pickup', 'subcompact', 'suv'}"
      ]
     },
     "execution_count": 52,
     "metadata": {},
     "output_type": "execute_result"
    }
   ],
   "source": [
    "vehicleclass = set(d['class'] for d in mpg) # what are the class types\n",
    "vehicleclass"
   ]
  },
  {
   "cell_type": "markdown",
   "metadata": {},
   "source": [
    "<br>\n",
    "And here's an example of how to find the average hwy mpg for each class of vehicle in our dataset."
   ]
  },
  {
   "cell_type": "code",
   "execution_count": 53,
   "metadata": {
    "collapsed": false
   },
   "outputs": [
    {
     "data": {
      "text/plain": [
       "[('pickup', 16.88),\n",
       " ('suv', 18.13),\n",
       " ('minivan', 22.36),\n",
       " ('2seater', 24.80),\n",
       " ('midsize', 27.29),\n",
       " ('subcompact', 28.14),\n",
       " ('compact', 28.30)]"
      ]
     },
     "execution_count": 53,
     "metadata": {},
     "output_type": "execute_result"
    }
   ],
   "source": [
    "HwyMpgByClass = []\n",
    "\n",
    "for t in vehicleclass: # iterate over all the vehicle classes\n",
    "    summpg = 0\n",
    "    vclasscount = 0\n",
    "    for d in mpg: # iterate over all dictionaries\n",
    "        if d['class'] == t: # if the cylinder amount type matches,\n",
    "            summpg += float(d['hwy']) # add the hwy mpg\n",
    "            vclasscount += 1 # increment the count\n",
    "    HwyMpgByClass.append((t, summpg / vclasscount)) # append the tuple ('class', 'avg mpg')\n",
    "\n",
    "HwyMpgByClass.sort(key=lambda x: x[1])\n",
    "HwyMpgByClass"
   ]
  },
  {
   "cell_type": "markdown",
   "metadata": {},
   "source": [
    "<br>\n",
    "# The Python Programming Language: Dates and Times"
   ]
  },
  {
   "cell_type": "code",
   "execution_count": 54,
   "metadata": {
    "collapsed": true
   },
   "outputs": [],
   "source": [
    "import datetime as dt\n",
    "import time as tm"
   ]
  },
  {
   "cell_type": "markdown",
   "metadata": {},
   "source": [
    "<br>\n",
    "`time` returns the current time in seconds since the Epoch. (January 1st, 1970)"
   ]
  },
  {
   "cell_type": "code",
   "execution_count": 55,
   "metadata": {
    "collapsed": false
   },
   "outputs": [
    {
     "data": {
      "text/plain": [
       "1493683779.96"
      ]
     },
     "execution_count": 55,
     "metadata": {},
     "output_type": "execute_result"
    }
   ],
   "source": [
    "tm.time()"
   ]
  },
  {
   "cell_type": "markdown",
   "metadata": {},
   "source": [
    "<br>\n",
    "Convert the timestamp to datetime."
   ]
  },
  {
   "cell_type": "code",
   "execution_count": 56,
   "metadata": {
    "collapsed": false
   },
   "outputs": [
    {
     "data": {
      "text/plain": [
       "datetime.datetime(2017, 5, 2, 0, 9, 40, 851066)"
      ]
     },
     "execution_count": 56,
     "metadata": {},
     "output_type": "execute_result"
    }
   ],
   "source": [
    "dtnow = dt.datetime.fromtimestamp(tm.time())\n",
    "dtnow"
   ]
  },
  {
   "cell_type": "markdown",
   "metadata": {},
   "source": [
    "<br>\n",
    "Handy datetime attributes:"
   ]
  },
  {
   "cell_type": "code",
   "execution_count": 57,
   "metadata": {
    "collapsed": false
   },
   "outputs": [
    {
     "data": {
      "text/plain": [
       "(2017, 5, 2, 0, 9, 40)"
      ]
     },
     "execution_count": 57,
     "metadata": {},
     "output_type": "execute_result"
    }
   ],
   "source": [
    "dtnow.year, dtnow.month, dtnow.day, dtnow.hour, dtnow.minute, dtnow.second # get year, month, day, etc.from a datetime"
   ]
  },
  {
   "cell_type": "markdown",
   "metadata": {},
   "source": [
    "<br>\n",
    "`timedelta` is a duration expressing the difference between two dates."
   ]
  },
  {
   "cell_type": "code",
   "execution_count": 58,
   "metadata": {
    "collapsed": false
   },
   "outputs": [
    {
     "data": {
      "text/plain": [
       "datetime.timedelta(100)"
      ]
     },
     "execution_count": 58,
     "metadata": {},
     "output_type": "execute_result"
    }
   ],
   "source": [
    "delta = dt.timedelta(days = 100) # create a timedelta of 100 days\n",
    "delta"
   ]
  },
  {
   "cell_type": "markdown",
   "metadata": {},
   "source": [
    "<br>\n",
    "`date.today` returns the current local date."
   ]
  },
  {
   "cell_type": "code",
   "execution_count": 59,
   "metadata": {
    "collapsed": true
   },
   "outputs": [],
   "source": [
    "today = dt.date.today()"
   ]
  },
  {
   "cell_type": "code",
   "execution_count": 60,
   "metadata": {
    "collapsed": false
   },
   "outputs": [
    {
     "data": {
      "text/plain": [
       "datetime.date(2017, 1, 22)"
      ]
     },
     "execution_count": 60,
     "metadata": {},
     "output_type": "execute_result"
    }
   ],
   "source": [
    "today - delta # the date 100 days ago"
   ]
  },
  {
   "cell_type": "code",
   "execution_count": 61,
   "metadata": {
    "collapsed": false
   },
   "outputs": [
    {
     "data": {
      "text/plain": [
       "True"
      ]
     },
     "execution_count": 61,
     "metadata": {},
     "output_type": "execute_result"
    }
   ],
   "source": [
    "today > today-delta # compare dates"
   ]
  },
  {
   "cell_type": "markdown",
   "metadata": {},
   "source": [
    "<br>\n",
    "# The Python Programming Language: Objects and map()"
   ]
  },
  {
   "cell_type": "markdown",
   "metadata": {},
   "source": [
    "<br>\n",
    "An example of a class in python:"
   ]
  },
  {
   "cell_type": "code",
   "execution_count": 62,
   "metadata": {
    "collapsed": true
   },
   "outputs": [],
   "source": [
    "class Person:\n",
    "    department = 'School of Information' #a class variable\n",
    "\n",
    "    def set_name(self, new_name): #a method\n",
    "        self.name = new_name\n",
    "    def set_location(self, new_location):\n",
    "        self.location = new_location"
   ]
  },
  {
   "cell_type": "code",
   "execution_count": 63,
   "metadata": {
    "collapsed": false
   },
   "outputs": [
    {
     "name": "stdout",
     "output_type": "stream",
     "text": [
      "Christopher Brooks live in Ann Arbor, MI, USA and works in the department School of Information\n"
     ]
    }
   ],
   "source": [
    "person = Person()\n",
    "person.set_name('Christopher Brooks')\n",
    "person.set_location('Ann Arbor, MI, USA')\n",
    "print('{} live in {} and works in the department {}'.format(person.name, person.location, person.department))"
   ]
  },
  {
   "cell_type": "markdown",
   "metadata": {},
   "source": [
    "<br>\n",
    "Here's an example of mapping the `min` function between two lists."
   ]
  },
  {
   "cell_type": "code",
   "execution_count": 7,
   "metadata": {
    "collapsed": false
   },
   "outputs": [],
   "source": [
    "store1 = [10.00, 11.00, 12.34, 2.34]\n",
    "store2 = [9.00, 11.10, 12.34, 2.01]\n",
    "cheapest = map(min, store1, store2)\n",
    "cheapest\n",
    "# type(cheapest)\n",
    "map?"
   ]
  },
  {
   "cell_type": "markdown",
   "metadata": {},
   "source": [
    "<br>\n",
    "Now let's iterate through the map object to see the values."
   ]
  },
  {
   "cell_type": "code",
   "execution_count": 5,
   "metadata": {
    "collapsed": false,
    "scrolled": true
   },
   "outputs": [
    {
     "name": "stdout",
     "output_type": "stream",
     "text": [
      "9.0\n",
      "11.0\n",
      "12.34\n",
      "2.01\n"
     ]
    }
   ],
   "source": [
    "for item in cheapest:\n",
    "    print(item)"
   ]
  },
  {
   "cell_type": "markdown",
   "metadata": {},
   "source": [
    "<br>\n",
    "# The Python Programming Language: Lambda and List Comprehensions"
   ]
  },
  {
   "cell_type": "markdown",
   "metadata": {},
   "source": [
    "<br>\n",
    "Here's an example of lambda that takes in three parameters and adds the first two."
   ]
  },
  {
   "cell_type": "code",
   "execution_count": 66,
   "metadata": {
    "collapsed": true
   },
   "outputs": [],
   "source": [
    "my_function = lambda a, b, c : a + b"
   ]
  },
  {
   "cell_type": "code",
   "execution_count": 67,
   "metadata": {
    "collapsed": false
   },
   "outputs": [
    {
     "data": {
      "text/plain": [
       "3"
      ]
     },
     "execution_count": 67,
     "metadata": {},
     "output_type": "execute_result"
    }
   ],
   "source": [
    "my_function(1, 2, 3)"
   ]
  },
  {
   "cell_type": "markdown",
   "metadata": {},
   "source": [
    "<br>\n",
    "Let's iterate from 0 to 999 and return the even numbers."
   ]
  },
  {
   "cell_type": "code",
   "execution_count": 8,
   "metadata": {
    "collapsed": false
   },
   "outputs": [
    {
     "data": {
      "text/plain": [
       "[0,\n",
       " 2,\n",
       " 4,\n",
       " 6,\n",
       " 8,\n",
       " 10,\n",
       " 12,\n",
       " 14,\n",
       " 16,\n",
       " 18,\n",
       " 20,\n",
       " 22,\n",
       " 24,\n",
       " 26,\n",
       " 28,\n",
       " 30,\n",
       " 32,\n",
       " 34,\n",
       " 36,\n",
       " 38,\n",
       " 40,\n",
       " 42,\n",
       " 44,\n",
       " 46,\n",
       " 48,\n",
       " 50,\n",
       " 52,\n",
       " 54,\n",
       " 56,\n",
       " 58,\n",
       " 60,\n",
       " 62,\n",
       " 64,\n",
       " 66,\n",
       " 68,\n",
       " 70,\n",
       " 72,\n",
       " 74,\n",
       " 76,\n",
       " 78,\n",
       " 80,\n",
       " 82,\n",
       " 84,\n",
       " 86,\n",
       " 88,\n",
       " 90,\n",
       " 92,\n",
       " 94,\n",
       " 96,\n",
       " 98,\n",
       " 100,\n",
       " 102,\n",
       " 104,\n",
       " 106,\n",
       " 108,\n",
       " 110,\n",
       " 112,\n",
       " 114,\n",
       " 116,\n",
       " 118,\n",
       " 120,\n",
       " 122,\n",
       " 124,\n",
       " 126,\n",
       " 128,\n",
       " 130,\n",
       " 132,\n",
       " 134,\n",
       " 136,\n",
       " 138,\n",
       " 140,\n",
       " 142,\n",
       " 144,\n",
       " 146,\n",
       " 148,\n",
       " 150,\n",
       " 152,\n",
       " 154,\n",
       " 156,\n",
       " 158,\n",
       " 160,\n",
       " 162,\n",
       " 164,\n",
       " 166,\n",
       " 168,\n",
       " 170,\n",
       " 172,\n",
       " 174,\n",
       " 176,\n",
       " 178,\n",
       " 180,\n",
       " 182,\n",
       " 184,\n",
       " 186,\n",
       " 188,\n",
       " 190,\n",
       " 192,\n",
       " 194,\n",
       " 196,\n",
       " 198,\n",
       " 200,\n",
       " 202,\n",
       " 204,\n",
       " 206,\n",
       " 208,\n",
       " 210,\n",
       " 212,\n",
       " 214,\n",
       " 216,\n",
       " 218,\n",
       " 220,\n",
       " 222,\n",
       " 224,\n",
       " 226,\n",
       " 228,\n",
       " 230,\n",
       " 232,\n",
       " 234,\n",
       " 236,\n",
       " 238,\n",
       " 240,\n",
       " 242,\n",
       " 244,\n",
       " 246,\n",
       " 248,\n",
       " 250,\n",
       " 252,\n",
       " 254,\n",
       " 256,\n",
       " 258,\n",
       " 260,\n",
       " 262,\n",
       " 264,\n",
       " 266,\n",
       " 268,\n",
       " 270,\n",
       " 272,\n",
       " 274,\n",
       " 276,\n",
       " 278,\n",
       " 280,\n",
       " 282,\n",
       " 284,\n",
       " 286,\n",
       " 288,\n",
       " 290,\n",
       " 292,\n",
       " 294,\n",
       " 296,\n",
       " 298,\n",
       " 300,\n",
       " 302,\n",
       " 304,\n",
       " 306,\n",
       " 308,\n",
       " 310,\n",
       " 312,\n",
       " 314,\n",
       " 316,\n",
       " 318,\n",
       " 320,\n",
       " 322,\n",
       " 324,\n",
       " 326,\n",
       " 328,\n",
       " 330,\n",
       " 332,\n",
       " 334,\n",
       " 336,\n",
       " 338,\n",
       " 340,\n",
       " 342,\n",
       " 344,\n",
       " 346,\n",
       " 348,\n",
       " 350,\n",
       " 352,\n",
       " 354,\n",
       " 356,\n",
       " 358,\n",
       " 360,\n",
       " 362,\n",
       " 364,\n",
       " 366,\n",
       " 368,\n",
       " 370,\n",
       " 372,\n",
       " 374,\n",
       " 376,\n",
       " 378,\n",
       " 380,\n",
       " 382,\n",
       " 384,\n",
       " 386,\n",
       " 388,\n",
       " 390,\n",
       " 392,\n",
       " 394,\n",
       " 396,\n",
       " 398,\n",
       " 400,\n",
       " 402,\n",
       " 404,\n",
       " 406,\n",
       " 408,\n",
       " 410,\n",
       " 412,\n",
       " 414,\n",
       " 416,\n",
       " 418,\n",
       " 420,\n",
       " 422,\n",
       " 424,\n",
       " 426,\n",
       " 428,\n",
       " 430,\n",
       " 432,\n",
       " 434,\n",
       " 436,\n",
       " 438,\n",
       " 440,\n",
       " 442,\n",
       " 444,\n",
       " 446,\n",
       " 448,\n",
       " 450,\n",
       " 452,\n",
       " 454,\n",
       " 456,\n",
       " 458,\n",
       " 460,\n",
       " 462,\n",
       " 464,\n",
       " 466,\n",
       " 468,\n",
       " 470,\n",
       " 472,\n",
       " 474,\n",
       " 476,\n",
       " 478,\n",
       " 480,\n",
       " 482,\n",
       " 484,\n",
       " 486,\n",
       " 488,\n",
       " 490,\n",
       " 492,\n",
       " 494,\n",
       " 496,\n",
       " 498,\n",
       " 500,\n",
       " 502,\n",
       " 504,\n",
       " 506,\n",
       " 508,\n",
       " 510,\n",
       " 512,\n",
       " 514,\n",
       " 516,\n",
       " 518,\n",
       " 520,\n",
       " 522,\n",
       " 524,\n",
       " 526,\n",
       " 528,\n",
       " 530,\n",
       " 532,\n",
       " 534,\n",
       " 536,\n",
       " 538,\n",
       " 540,\n",
       " 542,\n",
       " 544,\n",
       " 546,\n",
       " 548,\n",
       " 550,\n",
       " 552,\n",
       " 554,\n",
       " 556,\n",
       " 558,\n",
       " 560,\n",
       " 562,\n",
       " 564,\n",
       " 566,\n",
       " 568,\n",
       " 570,\n",
       " 572,\n",
       " 574,\n",
       " 576,\n",
       " 578,\n",
       " 580,\n",
       " 582,\n",
       " 584,\n",
       " 586,\n",
       " 588,\n",
       " 590,\n",
       " 592,\n",
       " 594,\n",
       " 596,\n",
       " 598,\n",
       " 600,\n",
       " 602,\n",
       " 604,\n",
       " 606,\n",
       " 608,\n",
       " 610,\n",
       " 612,\n",
       " 614,\n",
       " 616,\n",
       " 618,\n",
       " 620,\n",
       " 622,\n",
       " 624,\n",
       " 626,\n",
       " 628,\n",
       " 630,\n",
       " 632,\n",
       " 634,\n",
       " 636,\n",
       " 638,\n",
       " 640,\n",
       " 642,\n",
       " 644,\n",
       " 646,\n",
       " 648,\n",
       " 650,\n",
       " 652,\n",
       " 654,\n",
       " 656,\n",
       " 658,\n",
       " 660,\n",
       " 662,\n",
       " 664,\n",
       " 666,\n",
       " 668,\n",
       " 670,\n",
       " 672,\n",
       " 674,\n",
       " 676,\n",
       " 678,\n",
       " 680,\n",
       " 682,\n",
       " 684,\n",
       " 686,\n",
       " 688,\n",
       " 690,\n",
       " 692,\n",
       " 694,\n",
       " 696,\n",
       " 698,\n",
       " 700,\n",
       " 702,\n",
       " 704,\n",
       " 706,\n",
       " 708,\n",
       " 710,\n",
       " 712,\n",
       " 714,\n",
       " 716,\n",
       " 718,\n",
       " 720,\n",
       " 722,\n",
       " 724,\n",
       " 726,\n",
       " 728,\n",
       " 730,\n",
       " 732,\n",
       " 734,\n",
       " 736,\n",
       " 738,\n",
       " 740,\n",
       " 742,\n",
       " 744,\n",
       " 746,\n",
       " 748,\n",
       " 750,\n",
       " 752,\n",
       " 754,\n",
       " 756,\n",
       " 758,\n",
       " 760,\n",
       " 762,\n",
       " 764,\n",
       " 766,\n",
       " 768,\n",
       " 770,\n",
       " 772,\n",
       " 774,\n",
       " 776,\n",
       " 778,\n",
       " 780,\n",
       " 782,\n",
       " 784,\n",
       " 786,\n",
       " 788,\n",
       " 790,\n",
       " 792,\n",
       " 794,\n",
       " 796,\n",
       " 798,\n",
       " 800,\n",
       " 802,\n",
       " 804,\n",
       " 806,\n",
       " 808,\n",
       " 810,\n",
       " 812,\n",
       " 814,\n",
       " 816,\n",
       " 818,\n",
       " 820,\n",
       " 822,\n",
       " 824,\n",
       " 826,\n",
       " 828,\n",
       " 830,\n",
       " 832,\n",
       " 834,\n",
       " 836,\n",
       " 838,\n",
       " 840,\n",
       " 842,\n",
       " 844,\n",
       " 846,\n",
       " 848,\n",
       " 850,\n",
       " 852,\n",
       " 854,\n",
       " 856,\n",
       " 858,\n",
       " 860,\n",
       " 862,\n",
       " 864,\n",
       " 866,\n",
       " 868,\n",
       " 870,\n",
       " 872,\n",
       " 874,\n",
       " 876,\n",
       " 878,\n",
       " 880,\n",
       " 882,\n",
       " 884,\n",
       " 886,\n",
       " 888,\n",
       " 890,\n",
       " 892,\n",
       " 894,\n",
       " 896,\n",
       " 898,\n",
       " 900,\n",
       " 902,\n",
       " 904,\n",
       " 906,\n",
       " 908,\n",
       " 910,\n",
       " 912,\n",
       " 914,\n",
       " 916,\n",
       " 918,\n",
       " 920,\n",
       " 922,\n",
       " 924,\n",
       " 926,\n",
       " 928,\n",
       " 930,\n",
       " 932,\n",
       " 934,\n",
       " 936,\n",
       " 938,\n",
       " 940,\n",
       " 942,\n",
       " 944,\n",
       " 946,\n",
       " 948,\n",
       " 950,\n",
       " 952,\n",
       " 954,\n",
       " 956,\n",
       " 958,\n",
       " 960,\n",
       " 962,\n",
       " 964,\n",
       " 966,\n",
       " 968,\n",
       " 970,\n",
       " 972,\n",
       " 974,\n",
       " 976,\n",
       " 978,\n",
       " 980,\n",
       " 982,\n",
       " 984,\n",
       " 986,\n",
       " 988,\n",
       " 990,\n",
       " 992,\n",
       " 994,\n",
       " 996,\n",
       " 998]"
      ]
     },
     "execution_count": 8,
     "metadata": {},
     "output_type": "execute_result"
    }
   ],
   "source": [
    "my_list = []\n",
    "for number in range(0, 1000):\n",
    "    if number % 2 == 0:\n",
    "        my_list.append(number)\n",
    "my_list"
   ]
  },
  {
   "cell_type": "markdown",
   "metadata": {},
   "source": [
    "<br>\n",
    "Now the same thing but with list comprehension."
   ]
  },
  {
   "cell_type": "code",
   "execution_count": 69,
   "metadata": {
    "collapsed": false
   },
   "outputs": [
    {
     "data": {
      "text/plain": [
       "[0,\n",
       " 2,\n",
       " 4,\n",
       " 6,\n",
       " 8,\n",
       " 10,\n",
       " 12,\n",
       " 14,\n",
       " 16,\n",
       " 18,\n",
       " 20,\n",
       " 22,\n",
       " 24,\n",
       " 26,\n",
       " 28,\n",
       " 30,\n",
       " 32,\n",
       " 34,\n",
       " 36,\n",
       " 38,\n",
       " 40,\n",
       " 42,\n",
       " 44,\n",
       " 46,\n",
       " 48,\n",
       " 50,\n",
       " 52,\n",
       " 54,\n",
       " 56,\n",
       " 58,\n",
       " 60,\n",
       " 62,\n",
       " 64,\n",
       " 66,\n",
       " 68,\n",
       " 70,\n",
       " 72,\n",
       " 74,\n",
       " 76,\n",
       " 78,\n",
       " 80,\n",
       " 82,\n",
       " 84,\n",
       " 86,\n",
       " 88,\n",
       " 90,\n",
       " 92,\n",
       " 94,\n",
       " 96,\n",
       " 98,\n",
       " 100,\n",
       " 102,\n",
       " 104,\n",
       " 106,\n",
       " 108,\n",
       " 110,\n",
       " 112,\n",
       " 114,\n",
       " 116,\n",
       " 118,\n",
       " 120,\n",
       " 122,\n",
       " 124,\n",
       " 126,\n",
       " 128,\n",
       " 130,\n",
       " 132,\n",
       " 134,\n",
       " 136,\n",
       " 138,\n",
       " 140,\n",
       " 142,\n",
       " 144,\n",
       " 146,\n",
       " 148,\n",
       " 150,\n",
       " 152,\n",
       " 154,\n",
       " 156,\n",
       " 158,\n",
       " 160,\n",
       " 162,\n",
       " 164,\n",
       " 166,\n",
       " 168,\n",
       " 170,\n",
       " 172,\n",
       " 174,\n",
       " 176,\n",
       " 178,\n",
       " 180,\n",
       " 182,\n",
       " 184,\n",
       " 186,\n",
       " 188,\n",
       " 190,\n",
       " 192,\n",
       " 194,\n",
       " 196,\n",
       " 198,\n",
       " 200,\n",
       " 202,\n",
       " 204,\n",
       " 206,\n",
       " 208,\n",
       " 210,\n",
       " 212,\n",
       " 214,\n",
       " 216,\n",
       " 218,\n",
       " 220,\n",
       " 222,\n",
       " 224,\n",
       " 226,\n",
       " 228,\n",
       " 230,\n",
       " 232,\n",
       " 234,\n",
       " 236,\n",
       " 238,\n",
       " 240,\n",
       " 242,\n",
       " 244,\n",
       " 246,\n",
       " 248,\n",
       " 250,\n",
       " 252,\n",
       " 254,\n",
       " 256,\n",
       " 258,\n",
       " 260,\n",
       " 262,\n",
       " 264,\n",
       " 266,\n",
       " 268,\n",
       " 270,\n",
       " 272,\n",
       " 274,\n",
       " 276,\n",
       " 278,\n",
       " 280,\n",
       " 282,\n",
       " 284,\n",
       " 286,\n",
       " 288,\n",
       " 290,\n",
       " 292,\n",
       " 294,\n",
       " 296,\n",
       " 298,\n",
       " 300,\n",
       " 302,\n",
       " 304,\n",
       " 306,\n",
       " 308,\n",
       " 310,\n",
       " 312,\n",
       " 314,\n",
       " 316,\n",
       " 318,\n",
       " 320,\n",
       " 322,\n",
       " 324,\n",
       " 326,\n",
       " 328,\n",
       " 330,\n",
       " 332,\n",
       " 334,\n",
       " 336,\n",
       " 338,\n",
       " 340,\n",
       " 342,\n",
       " 344,\n",
       " 346,\n",
       " 348,\n",
       " 350,\n",
       " 352,\n",
       " 354,\n",
       " 356,\n",
       " 358,\n",
       " 360,\n",
       " 362,\n",
       " 364,\n",
       " 366,\n",
       " 368,\n",
       " 370,\n",
       " 372,\n",
       " 374,\n",
       " 376,\n",
       " 378,\n",
       " 380,\n",
       " 382,\n",
       " 384,\n",
       " 386,\n",
       " 388,\n",
       " 390,\n",
       " 392,\n",
       " 394,\n",
       " 396,\n",
       " 398,\n",
       " 400,\n",
       " 402,\n",
       " 404,\n",
       " 406,\n",
       " 408,\n",
       " 410,\n",
       " 412,\n",
       " 414,\n",
       " 416,\n",
       " 418,\n",
       " 420,\n",
       " 422,\n",
       " 424,\n",
       " 426,\n",
       " 428,\n",
       " 430,\n",
       " 432,\n",
       " 434,\n",
       " 436,\n",
       " 438,\n",
       " 440,\n",
       " 442,\n",
       " 444,\n",
       " 446,\n",
       " 448,\n",
       " 450,\n",
       " 452,\n",
       " 454,\n",
       " 456,\n",
       " 458,\n",
       " 460,\n",
       " 462,\n",
       " 464,\n",
       " 466,\n",
       " 468,\n",
       " 470,\n",
       " 472,\n",
       " 474,\n",
       " 476,\n",
       " 478,\n",
       " 480,\n",
       " 482,\n",
       " 484,\n",
       " 486,\n",
       " 488,\n",
       " 490,\n",
       " 492,\n",
       " 494,\n",
       " 496,\n",
       " 498,\n",
       " 500,\n",
       " 502,\n",
       " 504,\n",
       " 506,\n",
       " 508,\n",
       " 510,\n",
       " 512,\n",
       " 514,\n",
       " 516,\n",
       " 518,\n",
       " 520,\n",
       " 522,\n",
       " 524,\n",
       " 526,\n",
       " 528,\n",
       " 530,\n",
       " 532,\n",
       " 534,\n",
       " 536,\n",
       " 538,\n",
       " 540,\n",
       " 542,\n",
       " 544,\n",
       " 546,\n",
       " 548,\n",
       " 550,\n",
       " 552,\n",
       " 554,\n",
       " 556,\n",
       " 558,\n",
       " 560,\n",
       " 562,\n",
       " 564,\n",
       " 566,\n",
       " 568,\n",
       " 570,\n",
       " 572,\n",
       " 574,\n",
       " 576,\n",
       " 578,\n",
       " 580,\n",
       " 582,\n",
       " 584,\n",
       " 586,\n",
       " 588,\n",
       " 590,\n",
       " 592,\n",
       " 594,\n",
       " 596,\n",
       " 598,\n",
       " 600,\n",
       " 602,\n",
       " 604,\n",
       " 606,\n",
       " 608,\n",
       " 610,\n",
       " 612,\n",
       " 614,\n",
       " 616,\n",
       " 618,\n",
       " 620,\n",
       " 622,\n",
       " 624,\n",
       " 626,\n",
       " 628,\n",
       " 630,\n",
       " 632,\n",
       " 634,\n",
       " 636,\n",
       " 638,\n",
       " 640,\n",
       " 642,\n",
       " 644,\n",
       " 646,\n",
       " 648,\n",
       " 650,\n",
       " 652,\n",
       " 654,\n",
       " 656,\n",
       " 658,\n",
       " 660,\n",
       " 662,\n",
       " 664,\n",
       " 666,\n",
       " 668,\n",
       " 670,\n",
       " 672,\n",
       " 674,\n",
       " 676,\n",
       " 678,\n",
       " 680,\n",
       " 682,\n",
       " 684,\n",
       " 686,\n",
       " 688,\n",
       " 690,\n",
       " 692,\n",
       " 694,\n",
       " 696,\n",
       " 698,\n",
       " 700,\n",
       " 702,\n",
       " 704,\n",
       " 706,\n",
       " 708,\n",
       " 710,\n",
       " 712,\n",
       " 714,\n",
       " 716,\n",
       " 718,\n",
       " 720,\n",
       " 722,\n",
       " 724,\n",
       " 726,\n",
       " 728,\n",
       " 730,\n",
       " 732,\n",
       " 734,\n",
       " 736,\n",
       " 738,\n",
       " 740,\n",
       " 742,\n",
       " 744,\n",
       " 746,\n",
       " 748,\n",
       " 750,\n",
       " 752,\n",
       " 754,\n",
       " 756,\n",
       " 758,\n",
       " 760,\n",
       " 762,\n",
       " 764,\n",
       " 766,\n",
       " 768,\n",
       " 770,\n",
       " 772,\n",
       " 774,\n",
       " 776,\n",
       " 778,\n",
       " 780,\n",
       " 782,\n",
       " 784,\n",
       " 786,\n",
       " 788,\n",
       " 790,\n",
       " 792,\n",
       " 794,\n",
       " 796,\n",
       " 798,\n",
       " 800,\n",
       " 802,\n",
       " 804,\n",
       " 806,\n",
       " 808,\n",
       " 810,\n",
       " 812,\n",
       " 814,\n",
       " 816,\n",
       " 818,\n",
       " 820,\n",
       " 822,\n",
       " 824,\n",
       " 826,\n",
       " 828,\n",
       " 830,\n",
       " 832,\n",
       " 834,\n",
       " 836,\n",
       " 838,\n",
       " 840,\n",
       " 842,\n",
       " 844,\n",
       " 846,\n",
       " 848,\n",
       " 850,\n",
       " 852,\n",
       " 854,\n",
       " 856,\n",
       " 858,\n",
       " 860,\n",
       " 862,\n",
       " 864,\n",
       " 866,\n",
       " 868,\n",
       " 870,\n",
       " 872,\n",
       " 874,\n",
       " 876,\n",
       " 878,\n",
       " 880,\n",
       " 882,\n",
       " 884,\n",
       " 886,\n",
       " 888,\n",
       " 890,\n",
       " 892,\n",
       " 894,\n",
       " 896,\n",
       " 898,\n",
       " 900,\n",
       " 902,\n",
       " 904,\n",
       " 906,\n",
       " 908,\n",
       " 910,\n",
       " 912,\n",
       " 914,\n",
       " 916,\n",
       " 918,\n",
       " 920,\n",
       " 922,\n",
       " 924,\n",
       " 926,\n",
       " 928,\n",
       " 930,\n",
       " 932,\n",
       " 934,\n",
       " 936,\n",
       " 938,\n",
       " 940,\n",
       " 942,\n",
       " 944,\n",
       " 946,\n",
       " 948,\n",
       " 950,\n",
       " 952,\n",
       " 954,\n",
       " 956,\n",
       " 958,\n",
       " 960,\n",
       " 962,\n",
       " 964,\n",
       " 966,\n",
       " 968,\n",
       " 970,\n",
       " 972,\n",
       " 974,\n",
       " 976,\n",
       " 978,\n",
       " 980,\n",
       " 982,\n",
       " 984,\n",
       " 986,\n",
       " 988,\n",
       " 990,\n",
       " 992,\n",
       " 994,\n",
       " 996,\n",
       " 998]"
      ]
     },
     "execution_count": 69,
     "metadata": {},
     "output_type": "execute_result"
    }
   ],
   "source": [
    "my_list = [number for number in range(0,1000) if number % 2 == 0]\n",
    "my_list"
   ]
  },
  {
   "cell_type": "markdown",
   "metadata": {
    "collapsed": true
   },
   "source": [
    "<br>\n",
    "# The Python Programming Language: Numerical Python (NumPy)"
   ]
  },
  {
   "cell_type": "code",
   "execution_count": 70,
   "metadata": {
    "collapsed": true
   },
   "outputs": [],
   "source": [
    "import numpy as np"
   ]
  },
  {
   "cell_type": "markdown",
   "metadata": {},
   "source": [
    "\n",
    "\n",
    "<br>\n",
    "## Creating Arrays"
   ]
  },
  {
   "cell_type": "markdown",
   "metadata": {},
   "source": [
    "\n",
    "\n",
    "\n",
    "Create a list and convert it to a numpy array"
   ]
  },
  {
   "cell_type": "code",
   "execution_count": 71,
   "metadata": {
    "collapsed": false
   },
   "outputs": [
    {
     "data": {
      "text/plain": [
       "array([1, 2, 3])"
      ]
     },
     "execution_count": 71,
     "metadata": {},
     "output_type": "execute_result"
    }
   ],
   "source": [
    "\n",
    "\n",
    "mylist = [1, 2, 3]\n",
    "x = np.array(mylist)\n",
    "x"
   ]
  },
  {
   "cell_type": "markdown",
   "metadata": {},
   "source": [
    "<br>\n",
    "Or just pass in a list directly"
   ]
  },
  {
   "cell_type": "code",
   "execution_count": 72,
   "metadata": {
    "collapsed": false
   },
   "outputs": [
    {
     "data": {
      "text/plain": [
       "array([4, 5, 6])"
      ]
     },
     "execution_count": 72,
     "metadata": {},
     "output_type": "execute_result"
    }
   ],
   "source": [
    "y = np.array([4, 5, 6])\n",
    "y"
   ]
  },
  {
   "cell_type": "markdown",
   "metadata": {},
   "source": [
    "<br>\n",
    "Pass in a list of lists to create a multidimensional array."
   ]
  },
  {
   "cell_type": "code",
   "execution_count": 73,
   "metadata": {
    "collapsed": false
   },
   "outputs": [
    {
     "data": {
      "text/plain": [
       "array([[ 7,  8,  9],\n",
       "       [10, 11, 12]])"
      ]
     },
     "execution_count": 73,
     "metadata": {},
     "output_type": "execute_result"
    }
   ],
   "source": [
    "m = np.array([[7, 8, 9], [10, 11, 12]])\n",
    "m"
   ]
  },
  {
   "cell_type": "markdown",
   "metadata": {},
   "source": [
    "<br>\n",
    "Use the shape method to find the dimensions of the array. (rows, columns)"
   ]
  },
  {
   "cell_type": "code",
   "execution_count": 74,
   "metadata": {
    "collapsed": false
   },
   "outputs": [
    {
     "data": {
      "text/plain": [
       "(2, 3)"
      ]
     },
     "execution_count": 74,
     "metadata": {},
     "output_type": "execute_result"
    }
   ],
   "source": [
    "m.shape"
   ]
  },
  {
   "cell_type": "markdown",
   "metadata": {},
   "source": [
    "<br>\n",
    "`arange` returns evenly spaced values within a given interval."
   ]
  },
  {
   "cell_type": "code",
   "execution_count": 127,
   "metadata": {
    "collapsed": false
   },
   "outputs": [
    {
     "data": {
      "text/plain": [
       "array([ 0,  2,  4,  6,  8, 10])"
      ]
     },
     "execution_count": 127,
     "metadata": {},
     "output_type": "execute_result"
    }
   ],
   "source": [
    "n = np.arange(0, 30, 2) # start at 0 count up by 2, stop before 30\n",
    "n\n",
    "np.arange(0, 11,2)"
   ]
  },
  {
   "cell_type": "markdown",
   "metadata": {},
   "source": [
    "<br>\n",
    "`reshape` returns an array with the same data with a new shape."
   ]
  },
  {
   "cell_type": "code",
   "execution_count": 76,
   "metadata": {
    "collapsed": false
   },
   "outputs": [
    {
     "data": {
      "text/plain": [
       "array([[ 0,  2,  4,  6,  8],\n",
       "       [10, 12, 14, 16, 18],\n",
       "       [20, 22, 24, 26, 28]])"
      ]
     },
     "execution_count": 76,
     "metadata": {},
     "output_type": "execute_result"
    }
   ],
   "source": [
    "n = n.reshape(3, 5) # reshape array to be 3x5\n",
    "n"
   ]
  },
  {
   "cell_type": "markdown",
   "metadata": {},
   "source": [
    "<br>\n",
    "`linspace` returns evenly spaced numbers over a specified interval."
   ]
  },
  {
   "cell_type": "code",
   "execution_count": 77,
   "metadata": {
    "collapsed": false
   },
   "outputs": [
    {
     "data": {
      "text/plain": [
       "array([ 0. ,  0.5,  1. ,  1.5,  2. ,  2.5,  3. ,  3.5,  4. ])"
      ]
     },
     "execution_count": 77,
     "metadata": {},
     "output_type": "execute_result"
    }
   ],
   "source": [
    "o = np.linspace(0, 4, 9) # return 9 evenly spaced values from 0 to 4\n",
    "o"
   ]
  },
  {
   "cell_type": "markdown",
   "metadata": {},
   "source": [
    "\n",
    "\n",
    "<br>\n",
    "`resize` changes the shape and size of array in-place."
   ]
  },
  {
   "cell_type": "code",
   "execution_count": 78,
   "metadata": {
    "collapsed": false
   },
   "outputs": [
    {
     "data": {
      "text/plain": [
       "array([[ 0. ,  0.5,  1. ],\n",
       "       [ 1.5,  2. ,  2.5],\n",
       "       [ 3. ,  3.5,  4. ]])"
      ]
     },
     "execution_count": 78,
     "metadata": {},
     "output_type": "execute_result"
    }
   ],
   "source": [
    "o.resize(3, 3)\n",
    "o"
   ]
  },
  {
   "cell_type": "markdown",
   "metadata": {},
   "source": [
    "<br>\n",
    "`ones` returns a new array of given shape and type, filled with ones."
   ]
  },
  {
   "cell_type": "code",
   "execution_count": 79,
   "metadata": {
    "collapsed": false
   },
   "outputs": [
    {
     "data": {
      "text/plain": [
       "array([[ 1.,  1.],\n",
       "       [ 1.,  1.],\n",
       "       [ 1.,  1.]])"
      ]
     },
     "execution_count": 79,
     "metadata": {},
     "output_type": "execute_result"
    }
   ],
   "source": [
    "np.ones((3, 2))"
   ]
  },
  {
   "cell_type": "markdown",
   "metadata": {},
   "source": [
    "<br>\n",
    "`zeros` returns a new array of given shape and type, filled with zeros."
   ]
  },
  {
   "cell_type": "code",
   "execution_count": 80,
   "metadata": {
    "collapsed": false
   },
   "outputs": [
    {
     "data": {
      "text/plain": [
       "array([[ 0.,  0.,  0.],\n",
       "       [ 0.,  0.,  0.]])"
      ]
     },
     "execution_count": 80,
     "metadata": {},
     "output_type": "execute_result"
    }
   ],
   "source": [
    "np.zeros((2, 3))"
   ]
  },
  {
   "cell_type": "markdown",
   "metadata": {},
   "source": [
    "<br>\n",
    "`eye` returns a 2-D array with ones on the diagonal and zeros elsewhere."
   ]
  },
  {
   "cell_type": "code",
   "execution_count": 81,
   "metadata": {
    "collapsed": false
   },
   "outputs": [
    {
     "data": {
      "text/plain": [
       "array([[ 1.,  0.,  0.],\n",
       "       [ 0.,  1.,  0.],\n",
       "       [ 0.,  0.,  1.]])"
      ]
     },
     "execution_count": 81,
     "metadata": {},
     "output_type": "execute_result"
    }
   ],
   "source": [
    "np.eye(3)"
   ]
  },
  {
   "cell_type": "markdown",
   "metadata": {},
   "source": [
    "<br>\n",
    "`diag` extracts a diagonal or constructs a diagonal array."
   ]
  },
  {
   "cell_type": "code",
   "execution_count": 82,
   "metadata": {
    "collapsed": false
   },
   "outputs": [
    {
     "data": {
      "text/plain": [
       "array([[4, 0, 0],\n",
       "       [0, 5, 0],\n",
       "       [0, 0, 6]])"
      ]
     },
     "execution_count": 82,
     "metadata": {},
     "output_type": "execute_result"
    }
   ],
   "source": [
    "np.diag(y)\n",
    "# y"
   ]
  },
  {
   "cell_type": "markdown",
   "metadata": {},
   "source": [
    "<br>\n",
    "Create an array using repeating list (or see `np.tile`)"
   ]
  },
  {
   "cell_type": "code",
   "execution_count": 83,
   "metadata": {
    "collapsed": false
   },
   "outputs": [
    {
     "data": {
      "text/plain": [
       "array([1, 2, 3, 1, 2, 3, 1, 2, 3])"
      ]
     },
     "execution_count": 83,
     "metadata": {},
     "output_type": "execute_result"
    }
   ],
   "source": [
    "np.array([1, 2, 3] * 3)"
   ]
  },
  {
   "cell_type": "markdown",
   "metadata": {},
   "source": [
    "<br>\n",
    "Repeat elements of an array using `repeat`."
   ]
  },
  {
   "cell_type": "code",
   "execution_count": 84,
   "metadata": {
    "collapsed": false
   },
   "outputs": [
    {
     "data": {
      "text/plain": [
       "array([1, 1, 1, 2, 2, 2, 3, 3, 3])"
      ]
     },
     "execution_count": 84,
     "metadata": {},
     "output_type": "execute_result"
    }
   ],
   "source": [
    "np.repeat([1, 2, 3], 3)"
   ]
  },
  {
   "cell_type": "markdown",
   "metadata": {},
   "source": [
    "<br>\n",
    "#### Combining Arrays"
   ]
  },
  {
   "cell_type": "code",
   "execution_count": 85,
   "metadata": {
    "collapsed": false
   },
   "outputs": [
    {
     "data": {
      "text/plain": [
       "array([[1, 1, 1],\n",
       "       [1, 1, 1]])"
      ]
     },
     "execution_count": 85,
     "metadata": {},
     "output_type": "execute_result"
    }
   ],
   "source": [
    "p = np.ones([2, 3], int)\n",
    "p"
   ]
  },
  {
   "cell_type": "markdown",
   "metadata": {},
   "source": [
    "<br>\n",
    "Use `vstack` to stack arrays in sequence vertically (row wise)."
   ]
  },
  {
   "cell_type": "code",
   "execution_count": 86,
   "metadata": {
    "collapsed": false
   },
   "outputs": [
    {
     "data": {
      "text/plain": [
       "array([[1, 1, 1],\n",
       "       [1, 1, 1],\n",
       "       [2, 2, 2],\n",
       "       [2, 2, 2]])"
      ]
     },
     "execution_count": 86,
     "metadata": {},
     "output_type": "execute_result"
    }
   ],
   "source": [
    "np.vstack([p, 2*p])"
   ]
  },
  {
   "cell_type": "markdown",
   "metadata": {},
   "source": [
    "<br>\n",
    "Use `hstack` to stack arrays in sequence horizontally (column wise)."
   ]
  },
  {
   "cell_type": "code",
   "execution_count": 87,
   "metadata": {
    "collapsed": false
   },
   "outputs": [
    {
     "data": {
      "text/plain": [
       "array([[1, 1, 1, 2, 2, 2],\n",
       "       [1, 1, 1, 2, 2, 2]])"
      ]
     },
     "execution_count": 87,
     "metadata": {},
     "output_type": "execute_result"
    }
   ],
   "source": [
    "np.hstack([p, 2*p])"
   ]
  },
  {
   "cell_type": "markdown",
   "metadata": {},
   "source": [
    "<br>\n",
    "## Operations"
   ]
  },
  {
   "cell_type": "markdown",
   "metadata": {},
   "source": [
    "Use `+`, `-`, `*`, `/` and `**` to perform element wise addition, subtraction, multiplication, division and power."
   ]
  },
  {
   "cell_type": "code",
   "execution_count": 88,
   "metadata": {
    "collapsed": false
   },
   "outputs": [
    {
     "name": "stdout",
     "output_type": "stream",
     "text": [
      "[5 7 9]\n",
      "[-3 -3 -3]\n"
     ]
    }
   ],
   "source": [
    "print(x + y) # elementwise addition     [1 2 3] + [4 5 6] = [5  7  9]\n",
    "print(x - y) # elementwise subtraction  [1 2 3] - [4 5 6] = [-3 -3 -3]"
   ]
  },
  {
   "cell_type": "code",
   "execution_count": 89,
   "metadata": {
    "collapsed": false
   },
   "outputs": [
    {
     "name": "stdout",
     "output_type": "stream",
     "text": [
      "[ 4 10 18]\n",
      "[ 0.25  0.4   0.5 ]\n"
     ]
    }
   ],
   "source": [
    "print(x * y) # elementwise multiplication  [1 2 3] * [4 5 6] = [4  10  18]\n",
    "print(x / y) # elementwise divison         [1 2 3] / [4 5 6] = [0.25  0.4  0.5]"
   ]
  },
  {
   "cell_type": "code",
   "execution_count": 90,
   "metadata": {
    "collapsed": false
   },
   "outputs": [
    {
     "name": "stdout",
     "output_type": "stream",
     "text": [
      "[1 4 9]\n"
     ]
    }
   ],
   "source": [
    "print(x**2) # elementwise power  [1 2 3] ^2 =  [1 4 9]"
   ]
  },
  {
   "cell_type": "markdown",
   "metadata": {},
   "source": [
    "\n",
    "\n",
    "\n",
    "<br>\n",
    "**Dot Product:**  \n",
    "\n",
    "$ \\begin{bmatrix}x_1 \\ x_2 \\ x_3\\end{bmatrix}\n",
    "\\cdot\n",
    "\\begin{bmatrix}y_1 \\\\ y_2 \\\\ y_3\\end{bmatrix}\n",
    "= x_1 y_1 + x_2 y_2 + x_3 y_3$"
   ]
  },
  {
   "cell_type": "code",
   "execution_count": 91,
   "metadata": {
    "collapsed": false
   },
   "outputs": [
    {
     "data": {
      "text/plain": [
       "32"
      ]
     },
     "execution_count": 91,
     "metadata": {},
     "output_type": "execute_result"
    }
   ],
   "source": [
    "x.dot(y) # dot product  1*4 + 2*5 + 3*6"
   ]
  },
  {
   "cell_type": "code",
   "execution_count": 92,
   "metadata": {
    "collapsed": false
   },
   "outputs": [
    {
     "name": "stdout",
     "output_type": "stream",
     "text": [
      "2\n"
     ]
    }
   ],
   "source": [
    "z = np.array([y, y**2])\n",
    "print(len(z)) # number of rows of array"
   ]
  },
  {
   "cell_type": "markdown",
   "metadata": {},
   "source": [
    "<br>\n",
    "Let's look at transposing arrays. Transposing permutes the dimensions of the array."
   ]
  },
  {
   "cell_type": "code",
   "execution_count": 93,
   "metadata": {
    "collapsed": false
   },
   "outputs": [
    {
     "data": {
      "text/plain": [
       "array([[ 4,  5,  6],\n",
       "       [16, 25, 36]])"
      ]
     },
     "execution_count": 93,
     "metadata": {},
     "output_type": "execute_result"
    }
   ],
   "source": [
    "z = np.array([y, y**2])\n",
    "z"
   ]
  },
  {
   "cell_type": "markdown",
   "metadata": {},
   "source": [
    "<br>\n",
    "The shape of array `z` is `(2,3)` before transposing."
   ]
  },
  {
   "cell_type": "code",
   "execution_count": 94,
   "metadata": {
    "collapsed": false
   },
   "outputs": [
    {
     "data": {
      "text/plain": [
       "(2, 3)"
      ]
     },
     "execution_count": 94,
     "metadata": {},
     "output_type": "execute_result"
    }
   ],
   "source": [
    "z.shape"
   ]
  },
  {
   "cell_type": "markdown",
   "metadata": {},
   "source": [
    "<br>\n",
    "Use `.T` to get the transpose."
   ]
  },
  {
   "cell_type": "code",
   "execution_count": 95,
   "metadata": {
    "collapsed": false
   },
   "outputs": [
    {
     "data": {
      "text/plain": [
       "array([[ 4, 16],\n",
       "       [ 5, 25],\n",
       "       [ 6, 36]])"
      ]
     },
     "execution_count": 95,
     "metadata": {},
     "output_type": "execute_result"
    }
   ],
   "source": [
    "z.T"
   ]
  },
  {
   "cell_type": "markdown",
   "metadata": {},
   "source": [
    "<br>\n",
    "The number of rows has swapped with the number of columns."
   ]
  },
  {
   "cell_type": "code",
   "execution_count": 96,
   "metadata": {
    "collapsed": false
   },
   "outputs": [
    {
     "data": {
      "text/plain": [
       "(3, 2)"
      ]
     },
     "execution_count": 96,
     "metadata": {},
     "output_type": "execute_result"
    }
   ],
   "source": [
    "z.T.shape"
   ]
  },
  {
   "cell_type": "markdown",
   "metadata": {},
   "source": [
    "<br>\n",
    "Use `.dtype` to see the data type of the elements in the array."
   ]
  },
  {
   "cell_type": "code",
   "execution_count": 97,
   "metadata": {
    "collapsed": false
   },
   "outputs": [
    {
     "data": {
      "text/plain": [
       "dtype('int64')"
      ]
     },
     "execution_count": 97,
     "metadata": {},
     "output_type": "execute_result"
    }
   ],
   "source": [
    "z.dtype"
   ]
  },
  {
   "cell_type": "markdown",
   "metadata": {},
   "source": [
    "<br>\n",
    "Use `.astype` to cast to a specific type."
   ]
  },
  {
   "cell_type": "code",
   "execution_count": 98,
   "metadata": {
    "collapsed": false
   },
   "outputs": [
    {
     "data": {
      "text/plain": [
       "dtype('float32')"
      ]
     },
     "execution_count": 98,
     "metadata": {},
     "output_type": "execute_result"
    }
   ],
   "source": [
    "z = z.astype('f')\n",
    "z.dtype"
   ]
  },
  {
   "cell_type": "markdown",
   "metadata": {},
   "source": [
    "<br>\n",
    "## Math Functions"
   ]
  },
  {
   "cell_type": "markdown",
   "metadata": {},
   "source": [
    "Numpy has many built in math functions that can be performed on arrays."
   ]
  },
  {
   "cell_type": "code",
   "execution_count": 99,
   "metadata": {
    "collapsed": true
   },
   "outputs": [],
   "source": [
    "a = np.array([-4, -2, 1, 3, 5])"
   ]
  },
  {
   "cell_type": "code",
   "execution_count": 100,
   "metadata": {
    "collapsed": false
   },
   "outputs": [
    {
     "data": {
      "text/plain": [
       "3"
      ]
     },
     "execution_count": 100,
     "metadata": {},
     "output_type": "execute_result"
    }
   ],
   "source": [
    "a.sum()\n",
    "sum(a)"
   ]
  },
  {
   "cell_type": "code",
   "execution_count": 101,
   "metadata": {
    "collapsed": false
   },
   "outputs": [
    {
     "data": {
      "text/plain": [
       "5"
      ]
     },
     "execution_count": 101,
     "metadata": {},
     "output_type": "execute_result"
    }
   ],
   "source": [
    "a.max()"
   ]
  },
  {
   "cell_type": "code",
   "execution_count": 102,
   "metadata": {
    "collapsed": false
   },
   "outputs": [
    {
     "data": {
      "text/plain": [
       "-4"
      ]
     },
     "execution_count": 102,
     "metadata": {},
     "output_type": "execute_result"
    }
   ],
   "source": [
    "a.min()"
   ]
  },
  {
   "cell_type": "code",
   "execution_count": 103,
   "metadata": {
    "collapsed": false
   },
   "outputs": [
    {
     "data": {
      "text/plain": [
       "0.60"
      ]
     },
     "execution_count": 103,
     "metadata": {},
     "output_type": "execute_result"
    }
   ],
   "source": [
    "a.mean()"
   ]
  },
  {
   "cell_type": "code",
   "execution_count": 104,
   "metadata": {
    "collapsed": false
   },
   "outputs": [
    {
     "data": {
      "text/plain": [
       "3.26"
      ]
     },
     "execution_count": 104,
     "metadata": {},
     "output_type": "execute_result"
    }
   ],
   "source": [
    "a.std()"
   ]
  },
  {
   "cell_type": "markdown",
   "metadata": {},
   "source": [
    "<br>\n",
    "`argmax` and `argmin` return the index of the maximum and minimum values in the array."
   ]
  },
  {
   "cell_type": "code",
   "execution_count": 105,
   "metadata": {
    "collapsed": false
   },
   "outputs": [
    {
     "data": {
      "text/plain": [
       "4"
      ]
     },
     "execution_count": 105,
     "metadata": {},
     "output_type": "execute_result"
    }
   ],
   "source": [
    "a.argmax()"
   ]
  },
  {
   "cell_type": "code",
   "execution_count": 106,
   "metadata": {
    "collapsed": false
   },
   "outputs": [
    {
     "data": {
      "text/plain": [
       "0"
      ]
     },
     "execution_count": 106,
     "metadata": {},
     "output_type": "execute_result"
    }
   ],
   "source": [
    "a.argmin()"
   ]
  },
  {
   "cell_type": "markdown",
   "metadata": {},
   "source": [
    "<br>\n",
    "## Indexing / Slicing"
   ]
  },
  {
   "cell_type": "code",
   "execution_count": 107,
   "metadata": {
    "collapsed": false
   },
   "outputs": [
    {
     "data": {
      "text/plain": [
       "array([  0,   1,   4,   9,  16,  25,  36,  49,  64,  81, 100, 121, 144])"
      ]
     },
     "execution_count": 107,
     "metadata": {},
     "output_type": "execute_result"
    }
   ],
   "source": [
    "s = np.arange(13)**2\n",
    "s"
   ]
  },
  {
   "cell_type": "markdown",
   "metadata": {},
   "source": [
    "<br>\n",
    "Use bracket notation to get the value at a specific index. Remember that indexing starts at 0."
   ]
  },
  {
   "cell_type": "code",
   "execution_count": 108,
   "metadata": {
    "collapsed": false
   },
   "outputs": [
    {
     "data": {
      "text/plain": [
       "(0, 16, 144)"
      ]
     },
     "execution_count": 108,
     "metadata": {},
     "output_type": "execute_result"
    }
   ],
   "source": [
    "s[0], s[4], s[-1]"
   ]
  },
  {
   "cell_type": "markdown",
   "metadata": {},
   "source": [
    "<br>\n",
    "Use `:` to indicate a range. `array[start:stop]`\n",
    "\n",
    "\n",
    "Leaving `start` or `stop` empty will default to the beginning/end of the array."
   ]
  },
  {
   "cell_type": "code",
   "execution_count": 109,
   "metadata": {
    "collapsed": false
   },
   "outputs": [
    {
     "data": {
      "text/plain": [
       "array([ 1,  4,  9, 16])"
      ]
     },
     "execution_count": 109,
     "metadata": {},
     "output_type": "execute_result"
    }
   ],
   "source": [
    "s[1:5]"
   ]
  },
  {
   "cell_type": "markdown",
   "metadata": {},
   "source": [
    "<br>\n",
    "Use negatives to count from the back."
   ]
  },
  {
   "cell_type": "code",
   "execution_count": 110,
   "metadata": {
    "collapsed": false
   },
   "outputs": [
    {
     "data": {
      "text/plain": [
       "array([ 81, 100, 121, 144])"
      ]
     },
     "execution_count": 110,
     "metadata": {},
     "output_type": "execute_result"
    }
   ],
   "source": [
    "s[-4:]"
   ]
  },
  {
   "cell_type": "markdown",
   "metadata": {},
   "source": [
    "<br>\n",
    "A second `:` can be used to indicate step-size. `array[start:stop:stepsize]`\n",
    "\n",
    "Here we are starting 5th element from the end, and counting backwards by 2 until the beginning of the array is reached."
   ]
  },
  {
   "cell_type": "code",
   "execution_count": 111,
   "metadata": {
    "collapsed": false
   },
   "outputs": [
    {
     "data": {
      "text/plain": [
       "array([64, 36, 16,  4,  0])"
      ]
     },
     "execution_count": 111,
     "metadata": {},
     "output_type": "execute_result"
    }
   ],
   "source": [
    "s[-5::-2]"
   ]
  },
  {
   "cell_type": "markdown",
   "metadata": {
    "collapsed": false
   },
   "source": [
    "<br>\n",
    "Let's look at a multidimensional array."
   ]
  },
  {
   "cell_type": "code",
   "execution_count": 11,
   "metadata": {
    "collapsed": false
   },
   "outputs": [
    {
     "data": {
      "text/plain": [
       "array([[ 0,  1,  2,  3,  4,  5],\n",
       "       [ 6,  7,  8,  9, 10, 11],\n",
       "       [12, 13, 14, 15, 16, 17],\n",
       "       [18, 19, 20, 21, 22, 23],\n",
       "       [24, 25, 26, 27, 28, 29],\n",
       "       [30, 31, 32, 33, 34, 35]])"
      ]
     },
     "execution_count": 11,
     "metadata": {},
     "output_type": "execute_result"
    }
   ],
   "source": [
    "import numpy as np\n",
    "r = np.arange(36)\n",
    "r.resize((6, 6))\n",
    "r"
   ]
  },
  {
   "cell_type": "markdown",
   "metadata": {},
   "source": [
    "<br>\n",
    "Use bracket notation to slice: `array[row, column]`"
   ]
  },
  {
   "cell_type": "code",
   "execution_count": 113,
   "metadata": {
    "collapsed": false
   },
   "outputs": [
    {
     "data": {
      "text/plain": [
       "14"
      ]
     },
     "execution_count": 113,
     "metadata": {},
     "output_type": "execute_result"
    }
   ],
   "source": [
    "r[2, 2]"
   ]
  },
  {
   "cell_type": "markdown",
   "metadata": {},
   "source": [
    "<br>\n",
    "And use : to select a range of rows or columns"
   ]
  },
  {
   "cell_type": "code",
   "execution_count": 114,
   "metadata": {
    "collapsed": false
   },
   "outputs": [
    {
     "data": {
      "text/plain": [
       "array([21, 22, 23])"
      ]
     },
     "execution_count": 114,
     "metadata": {},
     "output_type": "execute_result"
    }
   ],
   "source": [
    "r[3, 3:6]"
   ]
  },
  {
   "cell_type": "markdown",
   "metadata": {},
   "source": [
    "<br>\n",
    "Here we are selecting all the rows up to (and not including) row 2, and all the columns up to (and not including) the last column."
   ]
  },
  {
   "cell_type": "code",
   "execution_count": 115,
   "metadata": {
    "collapsed": false
   },
   "outputs": [
    {
     "data": {
      "text/plain": [
       "array([[ 0,  1,  2,  3,  4],\n",
       "       [ 6,  7,  8,  9, 10]])"
      ]
     },
     "execution_count": 115,
     "metadata": {},
     "output_type": "execute_result"
    }
   ],
   "source": [
    "r[:2, :-1]"
   ]
  },
  {
   "cell_type": "markdown",
   "metadata": {},
   "source": [
    "<br>\n",
    "This is a slice of the last row, and only every other element."
   ]
  },
  {
   "cell_type": "code",
   "execution_count": 116,
   "metadata": {
    "collapsed": false
   },
   "outputs": [
    {
     "data": {
      "text/plain": [
       "array([30, 32, 34])"
      ]
     },
     "execution_count": 116,
     "metadata": {},
     "output_type": "execute_result"
    }
   ],
   "source": [
    "r[-1, ::2]"
   ]
  },
  {
   "cell_type": "markdown",
   "metadata": {},
   "source": [
    "<br>\n",
    "We can also perform conditional indexing. Here we are selecting values from the array that are greater than 30. (Also see `np.where`)"
   ]
  },
  {
   "cell_type": "markdown",
   "metadata": {},
   "source": [
    "<br>\n",
    "Here we are assigning all values in the array that are greater than 30 to the value of 30."
   ]
  },
  {
   "cell_type": "code",
   "execution_count": 118,
   "metadata": {
    "collapsed": false
   },
   "outputs": [
    {
     "data": {
      "text/plain": [
       "array([[ 0,  1,  2,  3,  4,  5],\n",
       "       [ 6,  7,  8,  9, 10, 11],\n",
       "       [12, 13, 14, 15, 16, 17],\n",
       "       [18, 19, 20, 21, 22, 23],\n",
       "       [24, 25, 26, 27, 28, 29],\n",
       "       [30, 30, 30, 30, 30, 30]])"
      ]
     },
     "execution_count": 118,
     "metadata": {},
     "output_type": "execute_result"
    }
   ],
   "source": [
    "r[r > 30] = 30\n",
    "r"
   ]
  },
  {
   "cell_type": "markdown",
   "metadata": {},
   "source": [
    "<br>\n",
    "## Copying Data"
   ]
  },
  {
   "cell_type": "markdown",
   "metadata": {},
   "source": [
    "Be careful with copying and modifying arrays in NumPy!\n",
    "\n",
    "\n",
    "`r2` is a slice of `r`"
   ]
  },
  {
   "cell_type": "code",
   "execution_count": 119,
   "metadata": {
    "collapsed": false
   },
   "outputs": [
    {
     "data": {
      "text/plain": [
       "array([[ 0,  1,  2],\n",
       "       [ 6,  7,  8],\n",
       "       [12, 13, 14]])"
      ]
     },
     "execution_count": 119,
     "metadata": {},
     "output_type": "execute_result"
    }
   ],
   "source": [
    "r2 = r[:3,:3]\n",
    "r2"
   ]
  },
  {
   "cell_type": "markdown",
   "metadata": {},
   "source": [
    "<br>\n",
    "Set this slice's values to zero ([:] selects the entire array)"
   ]
  },
  {
   "cell_type": "code",
   "execution_count": 120,
   "metadata": {
    "collapsed": false
   },
   "outputs": [
    {
     "data": {
      "text/plain": [
       "array([[0, 0, 0],\n",
       "       [0, 0, 0],\n",
       "       [0, 0, 0]])"
      ]
     },
     "execution_count": 120,
     "metadata": {},
     "output_type": "execute_result"
    }
   ],
   "source": [
    "r2[:] = 0\n",
    "r2"
   ]
  },
  {
   "cell_type": "markdown",
   "metadata": {},
   "source": [
    "<br>\n",
    "`r` has also been changed!"
   ]
  },
  {
   "cell_type": "code",
   "execution_count": 12,
   "metadata": {
    "collapsed": false
   },
   "outputs": [
    {
     "data": {
      "text/plain": [
       "array([[ 0,  1,  2,  3,  4,  5],\n",
       "       [ 6,  7,  8,  9, 10, 11],\n",
       "       [12, 13, 14, 15, 16, 17],\n",
       "       [18, 19, 20, 21, 22, 23],\n",
       "       [24, 25, 26, 27, 28, 29],\n",
       "       [30, 31, 32, 33, 34, 35]])"
      ]
     },
     "execution_count": 12,
     "metadata": {},
     "output_type": "execute_result"
    }
   ],
   "source": [
    "r"
   ]
  },
  {
   "cell_type": "markdown",
   "metadata": {},
   "source": [
    "<br>\n",
    "To avoid this, use `r.copy` to create a copy that will not affect the original array"
   ]
  },
  {
   "cell_type": "code",
   "execution_count": 14,
   "metadata": {
    "collapsed": false
   },
   "outputs": [
    {
     "name": "stdout",
     "output_type": "stream",
     "text": [
      "Help on ndarray object:\n",
      "\n",
      "class ndarray(builtins.object)\n",
      " |  ndarray(shape, dtype=float, buffer=None, offset=0,\n",
      " |          strides=None, order=None)\n",
      " |  \n",
      " |  An array object represents a multidimensional, homogeneous array\n",
      " |  of fixed-size items.  An associated data-type object describes the\n",
      " |  format of each element in the array (its byte-order, how many bytes it\n",
      " |  occupies in memory, whether it is an integer, a floating point number,\n",
      " |  or something else, etc.)\n",
      " |  \n",
      " |  Arrays should be constructed using `array`, `zeros` or `empty` (refer\n",
      " |  to the See Also section below).  The parameters given here refer to\n",
      " |  a low-level method (`ndarray(...)`) for instantiating an array.\n",
      " |  \n",
      " |  For more information, refer to the `numpy` module and examine the\n",
      " |  the methods and attributes of an array.\n",
      " |  \n",
      " |  Parameters\n",
      " |  ----------\n",
      " |  (for the __new__ method; see Notes below)\n",
      " |  \n",
      " |  shape : tuple of ints\n",
      " |      Shape of created array.\n",
      " |  dtype : data-type, optional\n",
      " |      Any object that can be interpreted as a numpy data type.\n",
      " |  buffer : object exposing buffer interface, optional\n",
      " |      Used to fill the array with data.\n",
      " |  offset : int, optional\n",
      " |      Offset of array data in buffer.\n",
      " |  strides : tuple of ints, optional\n",
      " |      Strides of data in memory.\n",
      " |  order : {'C', 'F'}, optional\n",
      " |      Row-major (C-style) or column-major (Fortran-style) order.\n",
      " |  \n",
      " |  Attributes\n",
      " |  ----------\n",
      " |  T : ndarray\n",
      " |      Transpose of the array.\n",
      " |  data : buffer\n",
      " |      The array's elements, in memory.\n",
      " |  dtype : dtype object\n",
      " |      Describes the format of the elements in the array.\n",
      " |  flags : dict\n",
      " |      Dictionary containing information related to memory use, e.g.,\n",
      " |      'C_CONTIGUOUS', 'OWNDATA', 'WRITEABLE', etc.\n",
      " |  flat : numpy.flatiter object\n",
      " |      Flattened version of the array as an iterator.  The iterator\n",
      " |      allows assignments, e.g., ``x.flat = 3`` (See `ndarray.flat` for\n",
      " |      assignment examples; TODO).\n",
      " |  imag : ndarray\n",
      " |      Imaginary part of the array.\n",
      " |  real : ndarray\n",
      " |      Real part of the array.\n",
      " |  size : int\n",
      " |      Number of elements in the array.\n",
      " |  itemsize : int\n",
      " |      The memory use of each array element in bytes.\n",
      " |  nbytes : int\n",
      " |      The total number of bytes required to store the array data,\n",
      " |      i.e., ``itemsize * size``.\n",
      " |  ndim : int\n",
      " |      The array's number of dimensions.\n",
      " |  shape : tuple of ints\n",
      " |      Shape of the array.\n",
      " |  strides : tuple of ints\n",
      " |      The step-size required to move from one element to the next in\n",
      " |      memory. For example, a contiguous ``(3, 4)`` array of type\n",
      " |      ``int16`` in C-order has strides ``(8, 2)``.  This implies that\n",
      " |      to move from element to element in memory requires jumps of 2 bytes.\n",
      " |      To move from row-to-row, one needs to jump 8 bytes at a time\n",
      " |      (``2 * 4``).\n",
      " |  ctypes : ctypes object\n",
      " |      Class containing properties of the array needed for interaction\n",
      " |      with ctypes.\n",
      " |  base : ndarray\n",
      " |      If the array is a view into another array, that array is its `base`\n",
      " |      (unless that array is also a view).  The `base` array is where the\n",
      " |      array data is actually stored.\n",
      " |  \n",
      " |  See Also\n",
      " |  --------\n",
      " |  array : Construct an array.\n",
      " |  zeros : Create an array, each element of which is zero.\n",
      " |  empty : Create an array, but leave its allocated memory unchanged (i.e.,\n",
      " |          it contains \"garbage\").\n",
      " |  dtype : Create a data-type.\n",
      " |  \n",
      " |  Notes\n",
      " |  -----\n",
      " |  There are two modes of creating an array using ``__new__``:\n",
      " |  \n",
      " |  1. If `buffer` is None, then only `shape`, `dtype`, and `order`\n",
      " |     are used.\n",
      " |  2. If `buffer` is an object exposing the buffer interface, then\n",
      " |     all keywords are interpreted.\n",
      " |  \n",
      " |  No ``__init__`` method is needed because the array is fully initialized\n",
      " |  after the ``__new__`` method.\n",
      " |  \n",
      " |  Examples\n",
      " |  --------\n",
      " |  These examples illustrate the low-level `ndarray` constructor.  Refer\n",
      " |  to the `See Also` section above for easier ways of constructing an\n",
      " |  ndarray.\n",
      " |  \n",
      " |  First mode, `buffer` is None:\n",
      " |  \n",
      " |  >>> np.ndarray(shape=(2,2), dtype=float, order='F')\n",
      " |  array([[ -1.13698227e+002,   4.25087011e-303],\n",
      " |         [  2.88528414e-306,   3.27025015e-309]])         #random\n",
      " |  \n",
      " |  Second mode:\n",
      " |  \n",
      " |  >>> np.ndarray((2,), buffer=np.array([1,2,3]),\n",
      " |  ...            offset=np.int_().itemsize,\n",
      " |  ...            dtype=int) # offset = 1*itemsize, i.e. skip first element\n",
      " |  array([2, 3])\n",
      " |  \n",
      " |  Methods defined here:\n",
      " |  \n",
      " |  __abs__(self, /)\n",
      " |      abs(self)\n",
      " |  \n",
      " |  __add__(self, value, /)\n",
      " |      Return self+value.\n",
      " |  \n",
      " |  __and__(self, value, /)\n",
      " |      Return self&value.\n",
      " |  \n",
      " |  __array__(...)\n",
      " |      a.__array__(|dtype) -> reference if type unchanged, copy otherwise.\n",
      " |      \n",
      " |      Returns either a new reference to self if dtype is not given or a new array\n",
      " |      of provided data type if dtype is different from the current dtype of the\n",
      " |      array.\n",
      " |  \n",
      " |  __array_prepare__(...)\n",
      " |      a.__array_prepare__(obj) -> Object of same type as ndarray object obj.\n",
      " |  \n",
      " |  __array_wrap__(...)\n",
      " |      a.__array_wrap__(obj) -> Object of same type as ndarray object a.\n",
      " |  \n",
      " |  __bool__(self, /)\n",
      " |      self != 0\n",
      " |  \n",
      " |  __contains__(self, key, /)\n",
      " |      Return key in self.\n",
      " |  \n",
      " |  __copy__(...)\n",
      " |      a.__copy__([order])\n",
      " |      \n",
      " |      Return a copy of the array.\n",
      " |      \n",
      " |      Parameters\n",
      " |      ----------\n",
      " |      order : {'C', 'F', 'A'}, optional\n",
      " |          If order is 'C' (False) then the result is contiguous (default).\n",
      " |          If order is 'Fortran' (True) then the result has fortran order.\n",
      " |          If order is 'Any' (None) then the result has fortran order\n",
      " |          only if the array already is in fortran order.\n",
      " |  \n",
      " |  __deepcopy__(...)\n",
      " |      a.__deepcopy__() -> Deep copy of array.\n",
      " |      \n",
      " |      Used if copy.deepcopy is called on an array.\n",
      " |  \n",
      " |  __delitem__(self, key, /)\n",
      " |      Delete self[key].\n",
      " |  \n",
      " |  __divmod__(self, value, /)\n",
      " |      Return divmod(self, value).\n",
      " |  \n",
      " |  __eq__(self, value, /)\n",
      " |      Return self==value.\n",
      " |  \n",
      " |  __float__(self, /)\n",
      " |      float(self)\n",
      " |  \n",
      " |  __floordiv__(self, value, /)\n",
      " |      Return self//value.\n",
      " |  \n",
      " |  __ge__(self, value, /)\n",
      " |      Return self>=value.\n",
      " |  \n",
      " |  __getitem__(self, key, /)\n",
      " |      Return self[key].\n",
      " |  \n",
      " |  __gt__(self, value, /)\n",
      " |      Return self>value.\n",
      " |  \n",
      " |  __iadd__(self, value, /)\n",
      " |      Return self+=value.\n",
      " |  \n",
      " |  __iand__(self, value, /)\n",
      " |      Return self&=value.\n",
      " |  \n",
      " |  __ifloordiv__(self, value, /)\n",
      " |      Return self//=value.\n",
      " |  \n",
      " |  __ilshift__(self, value, /)\n",
      " |      Return self<<=value.\n",
      " |  \n",
      " |  __imatmul__(self, value, /)\n",
      " |      Return self@=value.\n",
      " |  \n",
      " |  __imod__(self, value, /)\n",
      " |      Return self%=value.\n",
      " |  \n",
      " |  __imul__(self, value, /)\n",
      " |      Return self*=value.\n",
      " |  \n",
      " |  __index__(self, /)\n",
      " |      Return self converted to an integer, if self is suitable for use as an index into a list.\n",
      " |  \n",
      " |  __int__(self, /)\n",
      " |      int(self)\n",
      " |  \n",
      " |  __invert__(self, /)\n",
      " |      ~self\n",
      " |  \n",
      " |  __ior__(self, value, /)\n",
      " |      Return self|=value.\n",
      " |  \n",
      " |  __ipow__(self, value, /)\n",
      " |      Return self**=value.\n",
      " |  \n",
      " |  __irshift__(self, value, /)\n",
      " |      Return self>>=value.\n",
      " |  \n",
      " |  __isub__(self, value, /)\n",
      " |      Return self-=value.\n",
      " |  \n",
      " |  __iter__(self, /)\n",
      " |      Implement iter(self).\n",
      " |  \n",
      " |  __itruediv__(self, value, /)\n",
      " |      Return self/=value.\n",
      " |  \n",
      " |  __ixor__(self, value, /)\n",
      " |      Return self^=value.\n",
      " |  \n",
      " |  __le__(self, value, /)\n",
      " |      Return self<=value.\n",
      " |  \n",
      " |  __len__(self, /)\n",
      " |      Return len(self).\n",
      " |  \n",
      " |  __lshift__(self, value, /)\n",
      " |      Return self<<value.\n",
      " |  \n",
      " |  __lt__(self, value, /)\n",
      " |      Return self<value.\n",
      " |  \n",
      " |  __matmul__(self, value, /)\n",
      " |      Return self@value.\n",
      " |  \n",
      " |  __mod__(self, value, /)\n",
      " |      Return self%value.\n",
      " |  \n",
      " |  __mul__(self, value, /)\n",
      " |      Return self*value.\n",
      " |  \n",
      " |  __ne__(self, value, /)\n",
      " |      Return self!=value.\n",
      " |  \n",
      " |  __neg__(self, /)\n",
      " |      -self\n",
      " |  \n",
      " |  __new__(*args, **kwargs) from builtins.type\n",
      " |      Create and return a new object.  See help(type) for accurate signature.\n",
      " |  \n",
      " |  __or__(self, value, /)\n",
      " |      Return self|value.\n",
      " |  \n",
      " |  __pos__(self, /)\n",
      " |      +self\n",
      " |  \n",
      " |  __pow__(self, value, mod=None, /)\n",
      " |      Return pow(self, value, mod).\n",
      " |  \n",
      " |  __radd__(self, value, /)\n",
      " |      Return value+self.\n",
      " |  \n",
      " |  __rand__(self, value, /)\n",
      " |      Return value&self.\n",
      " |  \n",
      " |  __rdivmod__(self, value, /)\n",
      " |      Return divmod(value, self).\n",
      " |  \n",
      " |  __reduce__(...)\n",
      " |      a.__reduce__()\n",
      " |      \n",
      " |      For pickling.\n",
      " |  \n",
      " |  __repr__(self, /)\n",
      " |      Return repr(self).\n",
      " |  \n",
      " |  __rfloordiv__(self, value, /)\n",
      " |      Return value//self.\n",
      " |  \n",
      " |  __rlshift__(self, value, /)\n",
      " |      Return value<<self.\n",
      " |  \n",
      " |  __rmatmul__(self, value, /)\n",
      " |      Return value@self.\n",
      " |  \n",
      " |  __rmod__(self, value, /)\n",
      " |      Return value%self.\n",
      " |  \n",
      " |  __rmul__(self, value, /)\n",
      " |      Return value*self.\n",
      " |  \n",
      " |  __ror__(self, value, /)\n",
      " |      Return value|self.\n",
      " |  \n",
      " |  __rpow__(self, value, mod=None, /)\n",
      " |      Return pow(value, self, mod).\n",
      " |  \n",
      " |  __rrshift__(self, value, /)\n",
      " |      Return value>>self.\n",
      " |  \n",
      " |  __rshift__(self, value, /)\n",
      " |      Return self>>value.\n",
      " |  \n",
      " |  __rsub__(self, value, /)\n",
      " |      Return value-self.\n",
      " |  \n",
      " |  __rtruediv__(self, value, /)\n",
      " |      Return value/self.\n",
      " |  \n",
      " |  __rxor__(self, value, /)\n",
      " |      Return value^self.\n",
      " |  \n",
      " |  __setitem__(self, key, value, /)\n",
      " |      Set self[key] to value.\n",
      " |  \n",
      " |  __setstate__(...)\n",
      " |      a.__setstate__(version, shape, dtype, isfortran, rawdata)\n",
      " |      \n",
      " |      For unpickling.\n",
      " |      \n",
      " |      Parameters\n",
      " |      ----------\n",
      " |      version : int\n",
      " |          optional pickle version. If omitted defaults to 0.\n",
      " |      shape : tuple\n",
      " |      dtype : data-type\n",
      " |      isFortran : bool\n",
      " |      rawdata : string or list\n",
      " |          a binary string with the data (or a list if 'a' is an object array)\n",
      " |  \n",
      " |  __sizeof__(...)\n",
      " |      __sizeof__() -> int\n",
      " |      size of object in memory, in bytes\n",
      " |  \n",
      " |  __str__(self, /)\n",
      " |      Return str(self).\n",
      " |  \n",
      " |  __sub__(self, value, /)\n",
      " |      Return self-value.\n",
      " |  \n",
      " |  __truediv__(self, value, /)\n",
      " |      Return self/value.\n",
      " |  \n",
      " |  __xor__(self, value, /)\n",
      " |      Return self^value.\n",
      " |  \n",
      " |  all(...)\n",
      " |      a.all(axis=None, out=None, keepdims=False)\n",
      " |      \n",
      " |      Returns True if all elements evaluate to True.\n",
      " |      \n",
      " |      Refer to `numpy.all` for full documentation.\n",
      " |      \n",
      " |      See Also\n",
      " |      --------\n",
      " |      numpy.all : equivalent function\n",
      " |  \n",
      " |  any(...)\n",
      " |      a.any(axis=None, out=None, keepdims=False)\n",
      " |      \n",
      " |      Returns True if any of the elements of `a` evaluate to True.\n",
      " |      \n",
      " |      Refer to `numpy.any` for full documentation.\n",
      " |      \n",
      " |      See Also\n",
      " |      --------\n",
      " |      numpy.any : equivalent function\n",
      " |  \n",
      " |  argmax(...)\n",
      " |      a.argmax(axis=None, out=None)\n",
      " |      \n",
      " |      Return indices of the maximum values along the given axis.\n",
      " |      \n",
      " |      Refer to `numpy.argmax` for full documentation.\n",
      " |      \n",
      " |      See Also\n",
      " |      --------\n",
      " |      numpy.argmax : equivalent function\n",
      " |  \n",
      " |  argmin(...)\n",
      " |      a.argmin(axis=None, out=None)\n",
      " |      \n",
      " |      Return indices of the minimum values along the given axis of `a`.\n",
      " |      \n",
      " |      Refer to `numpy.argmin` for detailed documentation.\n",
      " |      \n",
      " |      See Also\n",
      " |      --------\n",
      " |      numpy.argmin : equivalent function\n",
      " |  \n",
      " |  argpartition(...)\n",
      " |      a.argpartition(kth, axis=-1, kind='introselect', order=None)\n",
      " |      \n",
      " |      Returns the indices that would partition this array.\n",
      " |      \n",
      " |      Refer to `numpy.argpartition` for full documentation.\n",
      " |      \n",
      " |      .. versionadded:: 1.8.0\n",
      " |      \n",
      " |      See Also\n",
      " |      --------\n",
      " |      numpy.argpartition : equivalent function\n",
      " |  \n",
      " |  argsort(...)\n",
      " |      a.argsort(axis=-1, kind='quicksort', order=None)\n",
      " |      \n",
      " |      Returns the indices that would sort this array.\n",
      " |      \n",
      " |      Refer to `numpy.argsort` for full documentation.\n",
      " |      \n",
      " |      See Also\n",
      " |      --------\n",
      " |      numpy.argsort : equivalent function\n",
      " |  \n",
      " |  astype(...)\n",
      " |      a.astype(dtype, order='K', casting='unsafe', subok=True, copy=True)\n",
      " |      \n",
      " |      Copy of the array, cast to a specified type.\n",
      " |      \n",
      " |      Parameters\n",
      " |      ----------\n",
      " |      dtype : str or dtype\n",
      " |          Typecode or data-type to which the array is cast.\n",
      " |      order : {'C', 'F', 'A', 'K'}, optional\n",
      " |          Controls the memory layout order of the result.\n",
      " |          'C' means C order, 'F' means Fortran order, 'A'\n",
      " |          means 'F' order if all the arrays are Fortran contiguous,\n",
      " |          'C' order otherwise, and 'K' means as close to the\n",
      " |          order the array elements appear in memory as possible.\n",
      " |          Default is 'K'.\n",
      " |      casting : {'no', 'equiv', 'safe', 'same_kind', 'unsafe'}, optional\n",
      " |          Controls what kind of data casting may occur. Defaults to 'unsafe'\n",
      " |          for backwards compatibility.\n",
      " |      \n",
      " |            * 'no' means the data types should not be cast at all.\n",
      " |            * 'equiv' means only byte-order changes are allowed.\n",
      " |            * 'safe' means only casts which can preserve values are allowed.\n",
      " |            * 'same_kind' means only safe casts or casts within a kind,\n",
      " |              like float64 to float32, are allowed.\n",
      " |            * 'unsafe' means any data conversions may be done.\n",
      " |      subok : bool, optional\n",
      " |          If True, then sub-classes will be passed-through (default), otherwise\n",
      " |          the returned array will be forced to be a base-class array.\n",
      " |      copy : bool, optional\n",
      " |          By default, astype always returns a newly allocated array. If this\n",
      " |          is set to false, and the `dtype`, `order`, and `subok`\n",
      " |          requirements are satisfied, the input array is returned instead\n",
      " |          of a copy.\n",
      " |      \n",
      " |      Returns\n",
      " |      -------\n",
      " |      arr_t : ndarray\n",
      " |          Unless `copy` is False and the other conditions for returning the input\n",
      " |          array are satisfied (see description for `copy` input paramter), `arr_t`\n",
      " |          is a new array of the same shape as the input array, with dtype, order\n",
      " |          given by `dtype`, `order`.\n",
      " |      \n",
      " |      Notes\n",
      " |      -----\n",
      " |      Starting in NumPy 1.9, astype method now returns an error if the string\n",
      " |      dtype to cast to is not long enough in 'safe' casting mode to hold the max\n",
      " |      value of integer/float array that is being casted. Previously the casting\n",
      " |      was allowed even if the result was truncated.\n",
      " |      \n",
      " |      Raises\n",
      " |      ------\n",
      " |      ComplexWarning\n",
      " |          When casting from complex to float or int. To avoid this,\n",
      " |          one should use ``a.real.astype(t)``.\n",
      " |      \n",
      " |      Examples\n",
      " |      --------\n",
      " |      >>> x = np.array([1, 2, 2.5])\n",
      " |      >>> x\n",
      " |      array([ 1. ,  2. ,  2.5])\n",
      " |      \n",
      " |      >>> x.astype(int)\n",
      " |      array([1, 2, 2])\n",
      " |  \n",
      " |  byteswap(...)\n",
      " |      a.byteswap(inplace)\n",
      " |      \n",
      " |      Swap the bytes of the array elements\n",
      " |      \n",
      " |      Toggle between low-endian and big-endian data representation by\n",
      " |      returning a byteswapped array, optionally swapped in-place.\n",
      " |      \n",
      " |      Parameters\n",
      " |      ----------\n",
      " |      inplace : bool, optional\n",
      " |          If ``True``, swap bytes in-place, default is ``False``.\n",
      " |      \n",
      " |      Returns\n",
      " |      -------\n",
      " |      out : ndarray\n",
      " |          The byteswapped array. If `inplace` is ``True``, this is\n",
      " |          a view to self.\n",
      " |      \n",
      " |      Examples\n",
      " |      --------\n",
      " |      >>> A = np.array([1, 256, 8755], dtype=np.int16)\n",
      " |      >>> map(hex, A)\n",
      " |      ['0x1', '0x100', '0x2233']\n",
      " |      >>> A.byteswap(True)\n",
      " |      array([  256,     1, 13090], dtype=int16)\n",
      " |      >>> map(hex, A)\n",
      " |      ['0x100', '0x1', '0x3322']\n",
      " |      \n",
      " |      Arrays of strings are not swapped\n",
      " |      \n",
      " |      >>> A = np.array(['ceg', 'fac'])\n",
      " |      >>> A.byteswap()\n",
      " |      array(['ceg', 'fac'],\n",
      " |            dtype='|S3')\n",
      " |  \n",
      " |  choose(...)\n",
      " |      a.choose(choices, out=None, mode='raise')\n",
      " |      \n",
      " |      Use an index array to construct a new array from a set of choices.\n",
      " |      \n",
      " |      Refer to `numpy.choose` for full documentation.\n",
      " |      \n",
      " |      See Also\n",
      " |      --------\n",
      " |      numpy.choose : equivalent function\n",
      " |  \n",
      " |  clip(...)\n",
      " |      a.clip(min=None, max=None, out=None)\n",
      " |      \n",
      " |      Return an array whose values are limited to ``[min, max]``.\n",
      " |      One of max or min must be given.\n",
      " |      \n",
      " |      Refer to `numpy.clip` for full documentation.\n",
      " |      \n",
      " |      See Also\n",
      " |      --------\n",
      " |      numpy.clip : equivalent function\n",
      " |  \n",
      " |  compress(...)\n",
      " |      a.compress(condition, axis=None, out=None)\n",
      " |      \n",
      " |      Return selected slices of this array along given axis.\n",
      " |      \n",
      " |      Refer to `numpy.compress` for full documentation.\n",
      " |      \n",
      " |      See Also\n",
      " |      --------\n",
      " |      numpy.compress : equivalent function\n",
      " |  \n",
      " |  conj(...)\n",
      " |      a.conj()\n",
      " |      \n",
      " |      Complex-conjugate all elements.\n",
      " |      \n",
      " |      Refer to `numpy.conjugate` for full documentation.\n",
      " |      \n",
      " |      See Also\n",
      " |      --------\n",
      " |      numpy.conjugate : equivalent function\n",
      " |  \n",
      " |  conjugate(...)\n",
      " |      a.conjugate()\n",
      " |      \n",
      " |      Return the complex conjugate, element-wise.\n",
      " |      \n",
      " |      Refer to `numpy.conjugate` for full documentation.\n",
      " |      \n",
      " |      See Also\n",
      " |      --------\n",
      " |      numpy.conjugate : equivalent function\n",
      " |  \n",
      " |  copy(...)\n",
      " |      a.copy(order='C')\n",
      " |      \n",
      " |      Return a copy of the array.\n",
      " |      \n",
      " |      Parameters\n",
      " |      ----------\n",
      " |      order : {'C', 'F', 'A', 'K'}, optional\n",
      " |          Controls the memory layout of the copy. 'C' means C-order,\n",
      " |          'F' means F-order, 'A' means 'F' if `a` is Fortran contiguous,\n",
      " |          'C' otherwise. 'K' means match the layout of `a` as closely\n",
      " |          as possible. (Note that this function and :func:numpy.copy are very\n",
      " |          similar, but have different default values for their order=\n",
      " |          arguments.)\n",
      " |      \n",
      " |      See also\n",
      " |      --------\n",
      " |      numpy.copy\n",
      " |      numpy.copyto\n",
      " |      \n",
      " |      Examples\n",
      " |      --------\n",
      " |      >>> x = np.array([[1,2,3],[4,5,6]], order='F')\n",
      " |      \n",
      " |      >>> y = x.copy()\n",
      " |      \n",
      " |      >>> x.fill(0)\n",
      " |      \n",
      " |      >>> x\n",
      " |      array([[0, 0, 0],\n",
      " |             [0, 0, 0]])\n",
      " |      \n",
      " |      >>> y\n",
      " |      array([[1, 2, 3],\n",
      " |             [4, 5, 6]])\n",
      " |      \n",
      " |      >>> y.flags['C_CONTIGUOUS']\n",
      " |      True\n",
      " |  \n",
      " |  cumprod(...)\n",
      " |      a.cumprod(axis=None, dtype=None, out=None)\n",
      " |      \n",
      " |      Return the cumulative product of the elements along the given axis.\n",
      " |      \n",
      " |      Refer to `numpy.cumprod` for full documentation.\n",
      " |      \n",
      " |      See Also\n",
      " |      --------\n",
      " |      numpy.cumprod : equivalent function\n",
      " |  \n",
      " |  cumsum(...)\n",
      " |      a.cumsum(axis=None, dtype=None, out=None)\n",
      " |      \n",
      " |      Return the cumulative sum of the elements along the given axis.\n",
      " |      \n",
      " |      Refer to `numpy.cumsum` for full documentation.\n",
      " |      \n",
      " |      See Also\n",
      " |      --------\n",
      " |      numpy.cumsum : equivalent function\n",
      " |  \n",
      " |  diagonal(...)\n",
      " |      a.diagonal(offset=0, axis1=0, axis2=1)\n",
      " |      \n",
      " |      Return specified diagonals. In NumPy 1.9 the returned array is a\n",
      " |      read-only view instead of a copy as in previous NumPy versions.  In\n",
      " |      NumPy 1.10 the read-only restriction will be removed.\n",
      " |      \n",
      " |      Refer to :func:`numpy.diagonal` for full documentation.\n",
      " |      \n",
      " |      See Also\n",
      " |      --------\n",
      " |      numpy.diagonal : equivalent function\n",
      " |  \n",
      " |  dot(...)\n",
      " |      a.dot(b, out=None)\n",
      " |      \n",
      " |      Dot product of two arrays.\n",
      " |      \n",
      " |      Refer to `numpy.dot` for full documentation.\n",
      " |      \n",
      " |      See Also\n",
      " |      --------\n",
      " |      numpy.dot : equivalent function\n",
      " |      \n",
      " |      Examples\n",
      " |      --------\n",
      " |      >>> a = np.eye(2)\n",
      " |      >>> b = np.ones((2, 2)) * 2\n",
      " |      >>> a.dot(b)\n",
      " |      array([[ 2.,  2.],\n",
      " |             [ 2.,  2.]])\n",
      " |      \n",
      " |      This array method can be conveniently chained:\n",
      " |      \n",
      " |      >>> a.dot(b).dot(b)\n",
      " |      array([[ 8.,  8.],\n",
      " |             [ 8.,  8.]])\n",
      " |  \n",
      " |  dump(...)\n",
      " |      a.dump(file)\n",
      " |      \n",
      " |      Dump a pickle of the array to the specified file.\n",
      " |      The array can be read back with pickle.load or numpy.load.\n",
      " |      \n",
      " |      Parameters\n",
      " |      ----------\n",
      " |      file : str\n",
      " |          A string naming the dump file.\n",
      " |  \n",
      " |  dumps(...)\n",
      " |      a.dumps()\n",
      " |      \n",
      " |      Returns the pickle of the array as a string.\n",
      " |      pickle.loads or numpy.loads will convert the string back to an array.\n",
      " |      \n",
      " |      Parameters\n",
      " |      ----------\n",
      " |      None\n",
      " |  \n",
      " |  fill(...)\n",
      " |      a.fill(value)\n",
      " |      \n",
      " |      Fill the array with a scalar value.\n",
      " |      \n",
      " |      Parameters\n",
      " |      ----------\n",
      " |      value : scalar\n",
      " |          All elements of `a` will be assigned this value.\n",
      " |      \n",
      " |      Examples\n",
      " |      --------\n",
      " |      >>> a = np.array([1, 2])\n",
      " |      >>> a.fill(0)\n",
      " |      >>> a\n",
      " |      array([0, 0])\n",
      " |      >>> a = np.empty(2)\n",
      " |      >>> a.fill(1)\n",
      " |      >>> a\n",
      " |      array([ 1.,  1.])\n",
      " |  \n",
      " |  flatten(...)\n",
      " |      a.flatten(order='C')\n",
      " |      \n",
      " |      Return a copy of the array collapsed into one dimension.\n",
      " |      \n",
      " |      Parameters\n",
      " |      ----------\n",
      " |      order : {'C', 'F', 'A'}, optional\n",
      " |          Whether to flatten in row-major (C-style) or\n",
      " |          column-major (Fortran-style) order or preserve the\n",
      " |          C/Fortran ordering from `a`.  The default is 'C'.\n",
      " |      \n",
      " |      Returns\n",
      " |      -------\n",
      " |      y : ndarray\n",
      " |          A copy of the input array, flattened to one dimension.\n",
      " |      \n",
      " |      See Also\n",
      " |      --------\n",
      " |      ravel : Return a flattened array.\n",
      " |      flat : A 1-D flat iterator over the array.\n",
      " |      \n",
      " |      Examples\n",
      " |      --------\n",
      " |      >>> a = np.array([[1,2], [3,4]])\n",
      " |      >>> a.flatten()\n",
      " |      array([1, 2, 3, 4])\n",
      " |      >>> a.flatten('F')\n",
      " |      array([1, 3, 2, 4])\n",
      " |  \n",
      " |  getfield(...)\n",
      " |      a.getfield(dtype, offset=0)\n",
      " |      \n",
      " |      Returns a field of the given array as a certain type.\n",
      " |      \n",
      " |      A field is a view of the array data with a given data-type. The values in\n",
      " |      the view are determined by the given type and the offset into the current\n",
      " |      array in bytes. The offset needs to be such that the view dtype fits in the\n",
      " |      array dtype; for example an array of dtype complex128 has 16-byte elements.\n",
      " |      If taking a view with a 32-bit integer (4 bytes), the offset needs to be\n",
      " |      between 0 and 12 bytes.\n",
      " |      \n",
      " |      Parameters\n",
      " |      ----------\n",
      " |      dtype : str or dtype\n",
      " |          The data type of the view. The dtype size of the view can not be larger\n",
      " |          than that of the array itself.\n",
      " |      offset : int\n",
      " |          Number of bytes to skip before beginning the element view.\n",
      " |      \n",
      " |      Examples\n",
      " |      --------\n",
      " |      >>> x = np.diag([1.+1.j]*2)\n",
      " |      >>> x[1, 1] = 2 + 4.j\n",
      " |      >>> x\n",
      " |      array([[ 1.+1.j,  0.+0.j],\n",
      " |             [ 0.+0.j,  2.+4.j]])\n",
      " |      >>> x.getfield(np.float64)\n",
      " |      array([[ 1.,  0.],\n",
      " |             [ 0.,  2.]])\n",
      " |      \n",
      " |      By choosing an offset of 8 bytes we can select the complex part of the\n",
      " |      array for our view:\n",
      " |      \n",
      " |      >>> x.getfield(np.float64, offset=8)\n",
      " |      array([[ 1.,  0.],\n",
      " |         [ 0.,  4.]])\n",
      " |  \n",
      " |  item(...)\n",
      " |      a.item(*args)\n",
      " |      \n",
      " |      Copy an element of an array to a standard Python scalar and return it.\n",
      " |      \n",
      " |      Parameters\n",
      " |      ----------\n",
      " |      \\*args : Arguments (variable number and type)\n",
      " |      \n",
      " |          * none: in this case, the method only works for arrays\n",
      " |            with one element (`a.size == 1`), which element is\n",
      " |            copied into a standard Python scalar object and returned.\n",
      " |      \n",
      " |          * int_type: this argument is interpreted as a flat index into\n",
      " |            the array, specifying which element to copy and return.\n",
      " |      \n",
      " |          * tuple of int_types: functions as does a single int_type argument,\n",
      " |            except that the argument is interpreted as an nd-index into the\n",
      " |            array.\n",
      " |      \n",
      " |      Returns\n",
      " |      -------\n",
      " |      z : Standard Python scalar object\n",
      " |          A copy of the specified element of the array as a suitable\n",
      " |          Python scalar\n",
      " |      \n",
      " |      Notes\n",
      " |      -----\n",
      " |      When the data type of `a` is longdouble or clongdouble, item() returns\n",
      " |      a scalar array object because there is no available Python scalar that\n",
      " |      would not lose information. Void arrays return a buffer object for item(),\n",
      " |      unless fields are defined, in which case a tuple is returned.\n",
      " |      \n",
      " |      `item` is very similar to a[args], except, instead of an array scalar,\n",
      " |      a standard Python scalar is returned. This can be useful for speeding up\n",
      " |      access to elements of the array and doing arithmetic on elements of the\n",
      " |      array using Python's optimized math.\n",
      " |      \n",
      " |      Examples\n",
      " |      --------\n",
      " |      >>> x = np.random.randint(9, size=(3, 3))\n",
      " |      >>> x\n",
      " |      array([[3, 1, 7],\n",
      " |             [2, 8, 3],\n",
      " |             [8, 5, 3]])\n",
      " |      >>> x.item(3)\n",
      " |      2\n",
      " |      >>> x.item(7)\n",
      " |      5\n",
      " |      >>> x.item((0, 1))\n",
      " |      1\n",
      " |      >>> x.item((2, 2))\n",
      " |      3\n",
      " |  \n",
      " |  itemset(...)\n",
      " |      a.itemset(*args)\n",
      " |      \n",
      " |      Insert scalar into an array (scalar is cast to array's dtype, if possible)\n",
      " |      \n",
      " |      There must be at least 1 argument, and define the last argument\n",
      " |      as *item*.  Then, ``a.itemset(*args)`` is equivalent to but faster\n",
      " |      than ``a[args] = item``.  The item should be a scalar value and `args`\n",
      " |      must select a single item in the array `a`.\n",
      " |      \n",
      " |      Parameters\n",
      " |      ----------\n",
      " |      \\*args : Arguments\n",
      " |          If one argument: a scalar, only used in case `a` is of size 1.\n",
      " |          If two arguments: the last argument is the value to be set\n",
      " |          and must be a scalar, the first argument specifies a single array\n",
      " |          element location. It is either an int or a tuple.\n",
      " |      \n",
      " |      Notes\n",
      " |      -----\n",
      " |      Compared to indexing syntax, `itemset` provides some speed increase\n",
      " |      for placing a scalar into a particular location in an `ndarray`,\n",
      " |      if you must do this.  However, generally this is discouraged:\n",
      " |      among other problems, it complicates the appearance of the code.\n",
      " |      Also, when using `itemset` (and `item`) inside a loop, be sure\n",
      " |      to assign the methods to a local variable to avoid the attribute\n",
      " |      look-up at each loop iteration.\n",
      " |      \n",
      " |      Examples\n",
      " |      --------\n",
      " |      >>> x = np.random.randint(9, size=(3, 3))\n",
      " |      >>> x\n",
      " |      array([[3, 1, 7],\n",
      " |             [2, 8, 3],\n",
      " |             [8, 5, 3]])\n",
      " |      >>> x.itemset(4, 0)\n",
      " |      >>> x.itemset((2, 2), 9)\n",
      " |      >>> x\n",
      " |      array([[3, 1, 7],\n",
      " |             [2, 0, 3],\n",
      " |             [8, 5, 9]])\n",
      " |  \n",
      " |  max(...)\n",
      " |      a.max(axis=None, out=None)\n",
      " |      \n",
      " |      Return the maximum along a given axis.\n",
      " |      \n",
      " |      Refer to `numpy.amax` for full documentation.\n",
      " |      \n",
      " |      See Also\n",
      " |      --------\n",
      " |      numpy.amax : equivalent function\n",
      " |  \n",
      " |  mean(...)\n",
      " |      a.mean(axis=None, dtype=None, out=None, keepdims=False)\n",
      " |      \n",
      " |      Returns the average of the array elements along given axis.\n",
      " |      \n",
      " |      Refer to `numpy.mean` for full documentation.\n",
      " |      \n",
      " |      See Also\n",
      " |      --------\n",
      " |      numpy.mean : equivalent function\n",
      " |  \n",
      " |  min(...)\n",
      " |      a.min(axis=None, out=None, keepdims=False)\n",
      " |      \n",
      " |      Return the minimum along a given axis.\n",
      " |      \n",
      " |      Refer to `numpy.amin` for full documentation.\n",
      " |      \n",
      " |      See Also\n",
      " |      --------\n",
      " |      numpy.amin : equivalent function\n",
      " |  \n",
      " |  newbyteorder(...)\n",
      " |      arr.newbyteorder(new_order='S')\n",
      " |      \n",
      " |      Return the array with the same data viewed with a different byte order.\n",
      " |      \n",
      " |      Equivalent to::\n",
      " |      \n",
      " |          arr.view(arr.dtype.newbytorder(new_order))\n",
      " |      \n",
      " |      Changes are also made in all fields and sub-arrays of the array data\n",
      " |      type.\n",
      " |      \n",
      " |      \n",
      " |      \n",
      " |      Parameters\n",
      " |      ----------\n",
      " |      new_order : string, optional\n",
      " |          Byte order to force; a value from the byte order specifications\n",
      " |          below. `new_order` codes can be any of:\n",
      " |      \n",
      " |          * 'S' - swap dtype from current to opposite endian\n",
      " |          * {'<', 'L'} - little endian\n",
      " |          * {'>', 'B'} - big endian\n",
      " |          * {'=', 'N'} - native order\n",
      " |          * {'|', 'I'} - ignore (no change to byte order)\n",
      " |      \n",
      " |          The default value ('S') results in swapping the current\n",
      " |          byte order. The code does a case-insensitive check on the first\n",
      " |          letter of `new_order` for the alternatives above.  For example,\n",
      " |          any of 'B' or 'b' or 'biggish' are valid to specify big-endian.\n",
      " |      \n",
      " |      \n",
      " |      Returns\n",
      " |      -------\n",
      " |      new_arr : array\n",
      " |          New array object with the dtype reflecting given change to the\n",
      " |          byte order.\n",
      " |  \n",
      " |  nonzero(...)\n",
      " |      a.nonzero()\n",
      " |      \n",
      " |      Return the indices of the elements that are non-zero.\n",
      " |      \n",
      " |      Refer to `numpy.nonzero` for full documentation.\n",
      " |      \n",
      " |      See Also\n",
      " |      --------\n",
      " |      numpy.nonzero : equivalent function\n",
      " |  \n",
      " |  partition(...)\n",
      " |      a.partition(kth, axis=-1, kind='introselect', order=None)\n",
      " |      \n",
      " |      Rearranges the elements in the array in such a way that value of the\n",
      " |      element in kth position is in the position it would be in a sorted array.\n",
      " |      All elements smaller than the kth element are moved before this element and\n",
      " |      all equal or greater are moved behind it. The ordering of the elements in\n",
      " |      the two partitions is undefined.\n",
      " |      \n",
      " |      .. versionadded:: 1.8.0\n",
      " |      \n",
      " |      Parameters\n",
      " |      ----------\n",
      " |      kth : int or sequence of ints\n",
      " |          Element index to partition by. The kth element value will be in its\n",
      " |          final sorted position and all smaller elements will be moved before it\n",
      " |          and all equal or greater elements behind it.\n",
      " |          The order all elements in the partitions is undefined.\n",
      " |          If provided with a sequence of kth it will partition all elements\n",
      " |          indexed by kth of them into their sorted position at once.\n",
      " |      axis : int, optional\n",
      " |          Axis along which to sort. Default is -1, which means sort along the\n",
      " |          last axis.\n",
      " |      kind : {'introselect'}, optional\n",
      " |          Selection algorithm. Default is 'introselect'.\n",
      " |      order : str or list of str, optional\n",
      " |          When `a` is an array with fields defined, this argument specifies\n",
      " |          which fields to compare first, second, etc.  A single field can\n",
      " |          be specified as a string, and not all fields need be specified,\n",
      " |          but unspecified fields will still be used, in the order in which\n",
      " |          they come up in the dtype, to break ties.\n",
      " |      \n",
      " |      See Also\n",
      " |      --------\n",
      " |      numpy.partition : Return a parititioned copy of an array.\n",
      " |      argpartition : Indirect partition.\n",
      " |      sort : Full sort.\n",
      " |      \n",
      " |      Notes\n",
      " |      -----\n",
      " |      See ``np.partition`` for notes on the different algorithms.\n",
      " |      \n",
      " |      Examples\n",
      " |      --------\n",
      " |      >>> a = np.array([3, 4, 2, 1])\n",
      " |      >>> a.partition(a, 3)\n",
      " |      >>> a\n",
      " |      array([2, 1, 3, 4])\n",
      " |      \n",
      " |      >>> a.partition((1, 3))\n",
      " |      array([1, 2, 3, 4])\n",
      " |  \n",
      " |  prod(...)\n",
      " |      a.prod(axis=None, dtype=None, out=None, keepdims=False)\n",
      " |      \n",
      " |      Return the product of the array elements over the given axis\n",
      " |      \n",
      " |      Refer to `numpy.prod` for full documentation.\n",
      " |      \n",
      " |      See Also\n",
      " |      --------\n",
      " |      numpy.prod : equivalent function\n",
      " |  \n",
      " |  ptp(...)\n",
      " |      a.ptp(axis=None, out=None)\n",
      " |      \n",
      " |      Peak to peak (maximum - minimum) value along a given axis.\n",
      " |      \n",
      " |      Refer to `numpy.ptp` for full documentation.\n",
      " |      \n",
      " |      See Also\n",
      " |      --------\n",
      " |      numpy.ptp : equivalent function\n",
      " |  \n",
      " |  put(...)\n",
      " |      a.put(indices, values, mode='raise')\n",
      " |      \n",
      " |      Set ``a.flat[n] = values[n]`` for all `n` in indices.\n",
      " |      \n",
      " |      Refer to `numpy.put` for full documentation.\n",
      " |      \n",
      " |      See Also\n",
      " |      --------\n",
      " |      numpy.put : equivalent function\n",
      " |  \n",
      " |  ravel(...)\n",
      " |      a.ravel([order])\n",
      " |      \n",
      " |      Return a flattened array.\n",
      " |      \n",
      " |      Refer to `numpy.ravel` for full documentation.\n",
      " |      \n",
      " |      See Also\n",
      " |      --------\n",
      " |      numpy.ravel : equivalent function\n",
      " |      \n",
      " |      ndarray.flat : a flat iterator on the array.\n",
      " |  \n",
      " |  repeat(...)\n",
      " |      a.repeat(repeats, axis=None)\n",
      " |      \n",
      " |      Repeat elements of an array.\n",
      " |      \n",
      " |      Refer to `numpy.repeat` for full documentation.\n",
      " |      \n",
      " |      See Also\n",
      " |      --------\n",
      " |      numpy.repeat : equivalent function\n",
      " |  \n",
      " |  reshape(...)\n",
      " |      a.reshape(shape, order='C')\n",
      " |      \n",
      " |      Returns an array containing the same data with a new shape.\n",
      " |      \n",
      " |      Refer to `numpy.reshape` for full documentation.\n",
      " |      \n",
      " |      See Also\n",
      " |      --------\n",
      " |      numpy.reshape : equivalent function\n",
      " |  \n",
      " |  resize(...)\n",
      " |      a.resize(new_shape, refcheck=True)\n",
      " |      \n",
      " |      Change shape and size of array in-place.\n",
      " |      \n",
      " |      Parameters\n",
      " |      ----------\n",
      " |      new_shape : tuple of ints, or `n` ints\n",
      " |          Shape of resized array.\n",
      " |      refcheck : bool, optional\n",
      " |          If False, reference count will not be checked. Default is True.\n",
      " |      \n",
      " |      Returns\n",
      " |      -------\n",
      " |      None\n",
      " |      \n",
      " |      Raises\n",
      " |      ------\n",
      " |      ValueError\n",
      " |          If `a` does not own its own data or references or views to it exist,\n",
      " |          and the data memory must be changed.\n",
      " |      \n",
      " |      SystemError\n",
      " |          If the `order` keyword argument is specified. This behaviour is a\n",
      " |          bug in NumPy.\n",
      " |      \n",
      " |      See Also\n",
      " |      --------\n",
      " |      resize : Return a new array with the specified shape.\n",
      " |      \n",
      " |      Notes\n",
      " |      -----\n",
      " |      This reallocates space for the data area if necessary.\n",
      " |      \n",
      " |      Only contiguous arrays (data elements consecutive in memory) can be\n",
      " |      resized.\n",
      " |      \n",
      " |      The purpose of the reference count check is to make sure you\n",
      " |      do not use this array as a buffer for another Python object and then\n",
      " |      reallocate the memory. However, reference counts can increase in\n",
      " |      other ways so if you are sure that you have not shared the memory\n",
      " |      for this array with another Python object, then you may safely set\n",
      " |      `refcheck` to False.\n",
      " |      \n",
      " |      Examples\n",
      " |      --------\n",
      " |      Shrinking an array: array is flattened (in the order that the data are\n",
      " |      stored in memory), resized, and reshaped:\n",
      " |      \n",
      " |      >>> a = np.array([[0, 1], [2, 3]], order='C')\n",
      " |      >>> a.resize((2, 1))\n",
      " |      >>> a\n",
      " |      array([[0],\n",
      " |             [1]])\n",
      " |      \n",
      " |      >>> a = np.array([[0, 1], [2, 3]], order='F')\n",
      " |      >>> a.resize((2, 1))\n",
      " |      >>> a\n",
      " |      array([[0],\n",
      " |             [2]])\n",
      " |      \n",
      " |      Enlarging an array: as above, but missing entries are filled with zeros:\n",
      " |      \n",
      " |      >>> b = np.array([[0, 1], [2, 3]])\n",
      " |      >>> b.resize(2, 3) # new_shape parameter doesn't have to be a tuple\n",
      " |      >>> b\n",
      " |      array([[0, 1, 2],\n",
      " |             [3, 0, 0]])\n",
      " |      \n",
      " |      Referencing an array prevents resizing...\n",
      " |      \n",
      " |      >>> c = a\n",
      " |      >>> a.resize((1, 1))\n",
      " |      Traceback (most recent call last):\n",
      " |      ...\n",
      " |      ValueError: cannot resize an array that has been referenced ...\n",
      " |      \n",
      " |      Unless `refcheck` is False:\n",
      " |      \n",
      " |      >>> a.resize((1, 1), refcheck=False)\n",
      " |      >>> a\n",
      " |      array([[0]])\n",
      " |      >>> c\n",
      " |      array([[0]])\n",
      " |  \n",
      " |  round(...)\n",
      " |      a.round(decimals=0, out=None)\n",
      " |      \n",
      " |      Return `a` with each element rounded to the given number of decimals.\n",
      " |      \n",
      " |      Refer to `numpy.around` for full documentation.\n",
      " |      \n",
      " |      See Also\n",
      " |      --------\n",
      " |      numpy.around : equivalent function\n",
      " |  \n",
      " |  searchsorted(...)\n",
      " |      a.searchsorted(v, side='left', sorter=None)\n",
      " |      \n",
      " |      Find indices where elements of v should be inserted in a to maintain order.\n",
      " |      \n",
      " |      For full documentation, see `numpy.searchsorted`\n",
      " |      \n",
      " |      See Also\n",
      " |      --------\n",
      " |      numpy.searchsorted : equivalent function\n",
      " |  \n",
      " |  setfield(...)\n",
      " |      a.setfield(val, dtype, offset=0)\n",
      " |      \n",
      " |      Put a value into a specified place in a field defined by a data-type.\n",
      " |      \n",
      " |      Place `val` into `a`'s field defined by `dtype` and beginning `offset`\n",
      " |      bytes into the field.\n",
      " |      \n",
      " |      Parameters\n",
      " |      ----------\n",
      " |      val : object\n",
      " |          Value to be placed in field.\n",
      " |      dtype : dtype object\n",
      " |          Data-type of the field in which to place `val`.\n",
      " |      offset : int, optional\n",
      " |          The number of bytes into the field at which to place `val`.\n",
      " |      \n",
      " |      Returns\n",
      " |      -------\n",
      " |      None\n",
      " |      \n",
      " |      See Also\n",
      " |      --------\n",
      " |      getfield\n",
      " |      \n",
      " |      Examples\n",
      " |      --------\n",
      " |      >>> x = np.eye(3)\n",
      " |      >>> x.getfield(np.float64)\n",
      " |      array([[ 1.,  0.,  0.],\n",
      " |             [ 0.,  1.,  0.],\n",
      " |             [ 0.,  0.,  1.]])\n",
      " |      >>> x.setfield(3, np.int32)\n",
      " |      >>> x.getfield(np.int32)\n",
      " |      array([[3, 3, 3],\n",
      " |             [3, 3, 3],\n",
      " |             [3, 3, 3]])\n",
      " |      >>> x\n",
      " |      array([[  1.00000000e+000,   1.48219694e-323,   1.48219694e-323],\n",
      " |             [  1.48219694e-323,   1.00000000e+000,   1.48219694e-323],\n",
      " |             [  1.48219694e-323,   1.48219694e-323,   1.00000000e+000]])\n",
      " |      >>> x.setfield(np.eye(3), np.int32)\n",
      " |      >>> x\n",
      " |      array([[ 1.,  0.,  0.],\n",
      " |             [ 0.,  1.,  0.],\n",
      " |             [ 0.,  0.,  1.]])\n",
      " |  \n",
      " |  setflags(...)\n",
      " |      a.setflags(write=None, align=None, uic=None)\n",
      " |      \n",
      " |      Set array flags WRITEABLE, ALIGNED, and UPDATEIFCOPY, respectively.\n",
      " |      \n",
      " |      These Boolean-valued flags affect how numpy interprets the memory\n",
      " |      area used by `a` (see Notes below). The ALIGNED flag can only\n",
      " |      be set to True if the data is actually aligned according to the type.\n",
      " |      The UPDATEIFCOPY flag can never be set to True. The flag WRITEABLE\n",
      " |      can only be set to True if the array owns its own memory, or the\n",
      " |      ultimate owner of the memory exposes a writeable buffer interface,\n",
      " |      or is a string. (The exception for string is made so that unpickling\n",
      " |      can be done without copying memory.)\n",
      " |      \n",
      " |      Parameters\n",
      " |      ----------\n",
      " |      write : bool, optional\n",
      " |          Describes whether or not `a` can be written to.\n",
      " |      align : bool, optional\n",
      " |          Describes whether or not `a` is aligned properly for its type.\n",
      " |      uic : bool, optional\n",
      " |          Describes whether or not `a` is a copy of another \"base\" array.\n",
      " |      \n",
      " |      Notes\n",
      " |      -----\n",
      " |      Array flags provide information about how the memory area used\n",
      " |      for the array is to be interpreted. There are 6 Boolean flags\n",
      " |      in use, only three of which can be changed by the user:\n",
      " |      UPDATEIFCOPY, WRITEABLE, and ALIGNED.\n",
      " |      \n",
      " |      WRITEABLE (W) the data area can be written to;\n",
      " |      \n",
      " |      ALIGNED (A) the data and strides are aligned appropriately for the hardware\n",
      " |      (as determined by the compiler);\n",
      " |      \n",
      " |      UPDATEIFCOPY (U) this array is a copy of some other array (referenced\n",
      " |      by .base). When this array is deallocated, the base array will be\n",
      " |      updated with the contents of this array.\n",
      " |      \n",
      " |      All flags can be accessed using their first (upper case) letter as well\n",
      " |      as the full name.\n",
      " |      \n",
      " |      Examples\n",
      " |      --------\n",
      " |      >>> y\n",
      " |      array([[3, 1, 7],\n",
      " |             [2, 0, 0],\n",
      " |             [8, 5, 9]])\n",
      " |      >>> y.flags\n",
      " |        C_CONTIGUOUS : True\n",
      " |        F_CONTIGUOUS : False\n",
      " |        OWNDATA : True\n",
      " |        WRITEABLE : True\n",
      " |        ALIGNED : True\n",
      " |        UPDATEIFCOPY : False\n",
      " |      >>> y.setflags(write=0, align=0)\n",
      " |      >>> y.flags\n",
      " |        C_CONTIGUOUS : True\n",
      " |        F_CONTIGUOUS : False\n",
      " |        OWNDATA : True\n",
      " |        WRITEABLE : False\n",
      " |        ALIGNED : False\n",
      " |        UPDATEIFCOPY : False\n",
      " |      >>> y.setflags(uic=1)\n",
      " |      Traceback (most recent call last):\n",
      " |        File \"<stdin>\", line 1, in <module>\n",
      " |      ValueError: cannot set UPDATEIFCOPY flag to True\n",
      " |  \n",
      " |  sort(...)\n",
      " |      a.sort(axis=-1, kind='quicksort', order=None)\n",
      " |      \n",
      " |      Sort an array, in-place.\n",
      " |      \n",
      " |      Parameters\n",
      " |      ----------\n",
      " |      axis : int, optional\n",
      " |          Axis along which to sort. Default is -1, which means sort along the\n",
      " |          last axis.\n",
      " |      kind : {'quicksort', 'mergesort', 'heapsort'}, optional\n",
      " |          Sorting algorithm. Default is 'quicksort'.\n",
      " |      order : str or list of str, optional\n",
      " |          When `a` is an array with fields defined, this argument specifies\n",
      " |          which fields to compare first, second, etc.  A single field can\n",
      " |          be specified as a string, and not all fields need be specified,\n",
      " |          but unspecified fields will still be used, in the order in which\n",
      " |          they come up in the dtype, to break ties.\n",
      " |      \n",
      " |      See Also\n",
      " |      --------\n",
      " |      numpy.sort : Return a sorted copy of an array.\n",
      " |      argsort : Indirect sort.\n",
      " |      lexsort : Indirect stable sort on multiple keys.\n",
      " |      searchsorted : Find elements in sorted array.\n",
      " |      partition: Partial sort.\n",
      " |      \n",
      " |      Notes\n",
      " |      -----\n",
      " |      See ``sort`` for notes on the different sorting algorithms.\n",
      " |      \n",
      " |      Examples\n",
      " |      --------\n",
      " |      >>> a = np.array([[1,4], [3,1]])\n",
      " |      >>> a.sort(axis=1)\n",
      " |      >>> a\n",
      " |      array([[1, 4],\n",
      " |             [1, 3]])\n",
      " |      >>> a.sort(axis=0)\n",
      " |      >>> a\n",
      " |      array([[1, 3],\n",
      " |             [1, 4]])\n",
      " |      \n",
      " |      Use the `order` keyword to specify a field to use when sorting a\n",
      " |      structured array:\n",
      " |      \n",
      " |      >>> a = np.array([('a', 2), ('c', 1)], dtype=[('x', 'S1'), ('y', int)])\n",
      " |      >>> a.sort(order='y')\n",
      " |      >>> a\n",
      " |      array([('c', 1), ('a', 2)],\n",
      " |            dtype=[('x', '|S1'), ('y', '<i4')])\n",
      " |  \n",
      " |  squeeze(...)\n",
      " |      a.squeeze(axis=None)\n",
      " |      \n",
      " |      Remove single-dimensional entries from the shape of `a`.\n",
      " |      \n",
      " |      Refer to `numpy.squeeze` for full documentation.\n",
      " |      \n",
      " |      See Also\n",
      " |      --------\n",
      " |      numpy.squeeze : equivalent function\n",
      " |  \n",
      " |  std(...)\n",
      " |      a.std(axis=None, dtype=None, out=None, ddof=0, keepdims=False)\n",
      " |      \n",
      " |      Returns the standard deviation of the array elements along given axis.\n",
      " |      \n",
      " |      Refer to `numpy.std` for full documentation.\n",
      " |      \n",
      " |      See Also\n",
      " |      --------\n",
      " |      numpy.std : equivalent function\n",
      " |  \n",
      " |  sum(...)\n",
      " |      a.sum(axis=None, dtype=None, out=None, keepdims=False)\n",
      " |      \n",
      " |      Return the sum of the array elements over the given axis.\n",
      " |      \n",
      " |      Refer to `numpy.sum` for full documentation.\n",
      " |      \n",
      " |      See Also\n",
      " |      --------\n",
      " |      numpy.sum : equivalent function\n",
      " |  \n",
      " |  swapaxes(...)\n",
      " |      a.swapaxes(axis1, axis2)\n",
      " |      \n",
      " |      Return a view of the array with `axis1` and `axis2` interchanged.\n",
      " |      \n",
      " |      Refer to `numpy.swapaxes` for full documentation.\n",
      " |      \n",
      " |      See Also\n",
      " |      --------\n",
      " |      numpy.swapaxes : equivalent function\n",
      " |  \n",
      " |  take(...)\n",
      " |      a.take(indices, axis=None, out=None, mode='raise')\n",
      " |      \n",
      " |      Return an array formed from the elements of `a` at the given indices.\n",
      " |      \n",
      " |      Refer to `numpy.take` for full documentation.\n",
      " |      \n",
      " |      See Also\n",
      " |      --------\n",
      " |      numpy.take : equivalent function\n",
      " |  \n",
      " |  tobytes(...)\n",
      " |      a.tobytes(order='C')\n",
      " |      \n",
      " |      Construct Python bytes containing the raw data bytes in the array.\n",
      " |      \n",
      " |      Constructs Python bytes showing a copy of the raw contents of\n",
      " |      data memory. The bytes object can be produced in either 'C' or 'Fortran',\n",
      " |      or 'Any' order (the default is 'C'-order). 'Any' order means C-order\n",
      " |      unless the F_CONTIGUOUS flag in the array is set, in which case it\n",
      " |      means 'Fortran' order.\n",
      " |      \n",
      " |      .. versionadded:: 1.9.0\n",
      " |      \n",
      " |      Parameters\n",
      " |      ----------\n",
      " |      order : {'C', 'F', None}, optional\n",
      " |          Order of the data for multidimensional arrays:\n",
      " |          C, Fortran, or the same as for the original array.\n",
      " |      \n",
      " |      Returns\n",
      " |      -------\n",
      " |      s : bytes\n",
      " |          Python bytes exhibiting a copy of `a`'s raw data.\n",
      " |      \n",
      " |      Examples\n",
      " |      --------\n",
      " |      >>> x = np.array([[0, 1], [2, 3]])\n",
      " |      >>> x.tobytes()\n",
      " |      b'\\x00\\x00\\x00\\x00\\x01\\x00\\x00\\x00\\x02\\x00\\x00\\x00\\x03\\x00\\x00\\x00'\n",
      " |      >>> x.tobytes('C') == x.tobytes()\n",
      " |      True\n",
      " |      >>> x.tobytes('F')\n",
      " |      b'\\x00\\x00\\x00\\x00\\x02\\x00\\x00\\x00\\x01\\x00\\x00\\x00\\x03\\x00\\x00\\x00'\n",
      " |  \n",
      " |  tofile(...)\n",
      " |      a.tofile(fid, sep=\"\", format=\"%s\")\n",
      " |      \n",
      " |      Write array to a file as text or binary (default).\n",
      " |      \n",
      " |      Data is always written in 'C' order, independent of the order of `a`.\n",
      " |      The data produced by this method can be recovered using the function\n",
      " |      fromfile().\n",
      " |      \n",
      " |      Parameters\n",
      " |      ----------\n",
      " |      fid : file or str\n",
      " |          An open file object, or a string containing a filename.\n",
      " |      sep : str\n",
      " |          Separator between array items for text output.\n",
      " |          If \"\" (empty), a binary file is written, equivalent to\n",
      " |          ``file.write(a.tobytes())``.\n",
      " |      format : str\n",
      " |          Format string for text file output.\n",
      " |          Each entry in the array is formatted to text by first converting\n",
      " |          it to the closest Python type, and then using \"format\" % item.\n",
      " |      \n",
      " |      Notes\n",
      " |      -----\n",
      " |      This is a convenience function for quick storage of array data.\n",
      " |      Information on endianness and precision is lost, so this method is not a\n",
      " |      good choice for files intended to archive data or transport data between\n",
      " |      machines with different endianness. Some of these problems can be overcome\n",
      " |      by outputting the data as text files, at the expense of speed and file\n",
      " |      size.\n",
      " |  \n",
      " |  tolist(...)\n",
      " |      a.tolist()\n",
      " |      \n",
      " |      Return the array as a (possibly nested) list.\n",
      " |      \n",
      " |      Return a copy of the array data as a (nested) Python list.\n",
      " |      Data items are converted to the nearest compatible Python type.\n",
      " |      \n",
      " |      Parameters\n",
      " |      ----------\n",
      " |      none\n",
      " |      \n",
      " |      Returns\n",
      " |      -------\n",
      " |      y : list\n",
      " |          The possibly nested list of array elements.\n",
      " |      \n",
      " |      Notes\n",
      " |      -----\n",
      " |      The array may be recreated, ``a = np.array(a.tolist())``.\n",
      " |      \n",
      " |      Examples\n",
      " |      --------\n",
      " |      >>> a = np.array([1, 2])\n",
      " |      >>> a.tolist()\n",
      " |      [1, 2]\n",
      " |      >>> a = np.array([[1, 2], [3, 4]])\n",
      " |      >>> list(a)\n",
      " |      [array([1, 2]), array([3, 4])]\n",
      " |      >>> a.tolist()\n",
      " |      [[1, 2], [3, 4]]\n",
      " |  \n",
      " |  tostring(...)\n",
      " |      a.tostring(order='C')\n",
      " |      \n",
      " |      Construct Python bytes containing the raw data bytes in the array.\n",
      " |      \n",
      " |      Constructs Python bytes showing a copy of the raw contents of\n",
      " |      data memory. The bytes object can be produced in either 'C' or 'Fortran',\n",
      " |      or 'Any' order (the default is 'C'-order). 'Any' order means C-order\n",
      " |      unless the F_CONTIGUOUS flag in the array is set, in which case it\n",
      " |      means 'Fortran' order.\n",
      " |      \n",
      " |      This function is a compatibility alias for tobytes. Despite its name it returns bytes not strings.\n",
      " |      \n",
      " |      Parameters\n",
      " |      ----------\n",
      " |      order : {'C', 'F', None}, optional\n",
      " |          Order of the data for multidimensional arrays:\n",
      " |          C, Fortran, or the same as for the original array.\n",
      " |      \n",
      " |      Returns\n",
      " |      -------\n",
      " |      s : bytes\n",
      " |          Python bytes exhibiting a copy of `a`'s raw data.\n",
      " |      \n",
      " |      Examples\n",
      " |      --------\n",
      " |      >>> x = np.array([[0, 1], [2, 3]])\n",
      " |      >>> x.tobytes()\n",
      " |      b'\\x00\\x00\\x00\\x00\\x01\\x00\\x00\\x00\\x02\\x00\\x00\\x00\\x03\\x00\\x00\\x00'\n",
      " |      >>> x.tobytes('C') == x.tobytes()\n",
      " |      True\n",
      " |      >>> x.tobytes('F')\n",
      " |      b'\\x00\\x00\\x00\\x00\\x02\\x00\\x00\\x00\\x01\\x00\\x00\\x00\\x03\\x00\\x00\\x00'\n",
      " |  \n",
      " |  trace(...)\n",
      " |      a.trace(offset=0, axis1=0, axis2=1, dtype=None, out=None)\n",
      " |      \n",
      " |      Return the sum along diagonals of the array.\n",
      " |      \n",
      " |      Refer to `numpy.trace` for full documentation.\n",
      " |      \n",
      " |      See Also\n",
      " |      --------\n",
      " |      numpy.trace : equivalent function\n",
      " |  \n",
      " |  transpose(...)\n",
      " |      a.transpose(*axes)\n",
      " |      \n",
      " |      Returns a view of the array with axes transposed.\n",
      " |      \n",
      " |      For a 1-D array, this has no effect. (To change between column and\n",
      " |      row vectors, first cast the 1-D array into a matrix object.)\n",
      " |      For a 2-D array, this is the usual matrix transpose.\n",
      " |      For an n-D array, if axes are given, their order indicates how the\n",
      " |      axes are permuted (see Examples). If axes are not provided and\n",
      " |      ``a.shape = (i[0], i[1], ... i[n-2], i[n-1])``, then\n",
      " |      ``a.transpose().shape = (i[n-1], i[n-2], ... i[1], i[0])``.\n",
      " |      \n",
      " |      Parameters\n",
      " |      ----------\n",
      " |      axes : None, tuple of ints, or `n` ints\n",
      " |      \n",
      " |       * None or no argument: reverses the order of the axes.\n",
      " |      \n",
      " |       * tuple of ints: `i` in the `j`-th place in the tuple means `a`'s\n",
      " |         `i`-th axis becomes `a.transpose()`'s `j`-th axis.\n",
      " |      \n",
      " |       * `n` ints: same as an n-tuple of the same ints (this form is\n",
      " |         intended simply as a \"convenience\" alternative to the tuple form)\n",
      " |      \n",
      " |      Returns\n",
      " |      -------\n",
      " |      out : ndarray\n",
      " |          View of `a`, with axes suitably permuted.\n",
      " |      \n",
      " |      See Also\n",
      " |      --------\n",
      " |      ndarray.T : Array property returning the array transposed.\n",
      " |      \n",
      " |      Examples\n",
      " |      --------\n",
      " |      >>> a = np.array([[1, 2], [3, 4]])\n",
      " |      >>> a\n",
      " |      array([[1, 2],\n",
      " |             [3, 4]])\n",
      " |      >>> a.transpose()\n",
      " |      array([[1, 3],\n",
      " |             [2, 4]])\n",
      " |      >>> a.transpose((1, 0))\n",
      " |      array([[1, 3],\n",
      " |             [2, 4]])\n",
      " |      >>> a.transpose(1, 0)\n",
      " |      array([[1, 3],\n",
      " |             [2, 4]])\n",
      " |  \n",
      " |  var(...)\n",
      " |      a.var(axis=None, dtype=None, out=None, ddof=0, keepdims=False)\n",
      " |      \n",
      " |      Returns the variance of the array elements, along given axis.\n",
      " |      \n",
      " |      Refer to `numpy.var` for full documentation.\n",
      " |      \n",
      " |      See Also\n",
      " |      --------\n",
      " |      numpy.var : equivalent function\n",
      " |  \n",
      " |  view(...)\n",
      " |      a.view(dtype=None, type=None)\n",
      " |      \n",
      " |      New view of array with the same data.\n",
      " |      \n",
      " |      Parameters\n",
      " |      ----------\n",
      " |      dtype : data-type or ndarray sub-class, optional\n",
      " |          Data-type descriptor of the returned view, e.g., float32 or int16. The\n",
      " |          default, None, results in the view having the same data-type as `a`.\n",
      " |          This argument can also be specified as an ndarray sub-class, which\n",
      " |          then specifies the type of the returned object (this is equivalent to\n",
      " |          setting the ``type`` parameter).\n",
      " |      type : Python type, optional\n",
      " |          Type of the returned view, e.g., ndarray or matrix.  Again, the\n",
      " |          default None results in type preservation.\n",
      " |      \n",
      " |      Notes\n",
      " |      -----\n",
      " |      ``a.view()`` is used two different ways:\n",
      " |      \n",
      " |      ``a.view(some_dtype)`` or ``a.view(dtype=some_dtype)`` constructs a view\n",
      " |      of the array's memory with a different data-type.  This can cause a\n",
      " |      reinterpretation of the bytes of memory.\n",
      " |      \n",
      " |      ``a.view(ndarray_subclass)`` or ``a.view(type=ndarray_subclass)`` just\n",
      " |      returns an instance of `ndarray_subclass` that looks at the same array\n",
      " |      (same shape, dtype, etc.)  This does not cause a reinterpretation of the\n",
      " |      memory.\n",
      " |      \n",
      " |      For ``a.view(some_dtype)``, if ``some_dtype`` has a different number of\n",
      " |      bytes per entry than the previous dtype (for example, converting a\n",
      " |      regular array to a structured array), then the behavior of the view\n",
      " |      cannot be predicted just from the superficial appearance of ``a`` (shown\n",
      " |      by ``print(a)``). It also depends on exactly how ``a`` is stored in\n",
      " |      memory. Therefore if ``a`` is C-ordered versus fortran-ordered, versus\n",
      " |      defined as a slice or transpose, etc., the view may give different\n",
      " |      results.\n",
      " |      \n",
      " |      \n",
      " |      Examples\n",
      " |      --------\n",
      " |      >>> x = np.array([(1, 2)], dtype=[('a', np.int8), ('b', np.int8)])\n",
      " |      \n",
      " |      Viewing array data using a different type and dtype:\n",
      " |      \n",
      " |      >>> y = x.view(dtype=np.int16, type=np.matrix)\n",
      " |      >>> y\n",
      " |      matrix([[513]], dtype=int16)\n",
      " |      >>> print type(y)\n",
      " |      <class 'numpy.matrixlib.defmatrix.matrix'>\n",
      " |      \n",
      " |      Creating a view on a structured array so it can be used in calculations\n",
      " |      \n",
      " |      >>> x = np.array([(1, 2),(3,4)], dtype=[('a', np.int8), ('b', np.int8)])\n",
      " |      >>> xv = x.view(dtype=np.int8).reshape(-1,2)\n",
      " |      >>> xv\n",
      " |      array([[1, 2],\n",
      " |             [3, 4]], dtype=int8)\n",
      " |      >>> xv.mean(0)\n",
      " |      array([ 2.,  3.])\n",
      " |      \n",
      " |      Making changes to the view changes the underlying array\n",
      " |      \n",
      " |      >>> xv[0,1] = 20\n",
      " |      >>> print x\n",
      " |      [(1, 20) (3, 4)]\n",
      " |      \n",
      " |      Using a view to convert an array to a recarray:\n",
      " |      \n",
      " |      >>> z = x.view(np.recarray)\n",
      " |      >>> z.a\n",
      " |      array([1], dtype=int8)\n",
      " |      \n",
      " |      Views share data:\n",
      " |      \n",
      " |      >>> x[0] = (9, 10)\n",
      " |      >>> z[0]\n",
      " |      (9, 10)\n",
      " |      \n",
      " |      Views that change the dtype size (bytes per entry) should normally be\n",
      " |      avoided on arrays defined by slices, transposes, fortran-ordering, etc.:\n",
      " |      \n",
      " |      >>> x = np.array([[1,2,3],[4,5,6]], dtype=np.int16)\n",
      " |      >>> y = x[:, 0:2]\n",
      " |      >>> y\n",
      " |      array([[1, 2],\n",
      " |             [4, 5]], dtype=int16)\n",
      " |      >>> y.view(dtype=[('width', np.int16), ('length', np.int16)])\n",
      " |      Traceback (most recent call last):\n",
      " |        File \"<stdin>\", line 1, in <module>\n",
      " |      ValueError: new type not compatible with array.\n",
      " |      >>> z = y.copy()\n",
      " |      >>> z.view(dtype=[('width', np.int16), ('length', np.int16)])\n",
      " |      array([[(1, 2)],\n",
      " |             [(4, 5)]], dtype=[('width', '<i2'), ('length', '<i2')])\n",
      " |  \n",
      " |  ----------------------------------------------------------------------\n",
      " |  Data descriptors defined here:\n",
      " |  \n",
      " |  T\n",
      " |      Same as self.transpose(), except that self is returned if\n",
      " |      self.ndim < 2.\n",
      " |      \n",
      " |      Examples\n",
      " |      --------\n",
      " |      >>> x = np.array([[1.,2.],[3.,4.]])\n",
      " |      >>> x\n",
      " |      array([[ 1.,  2.],\n",
      " |             [ 3.,  4.]])\n",
      " |      >>> x.T\n",
      " |      array([[ 1.,  3.],\n",
      " |             [ 2.,  4.]])\n",
      " |      >>> x = np.array([1.,2.,3.,4.])\n",
      " |      >>> x\n",
      " |      array([ 1.,  2.,  3.,  4.])\n",
      " |      >>> x.T\n",
      " |      array([ 1.,  2.,  3.,  4.])\n",
      " |  \n",
      " |  __array_finalize__\n",
      " |      None.\n",
      " |  \n",
      " |  __array_interface__\n",
      " |      Array protocol: Python side.\n",
      " |  \n",
      " |  __array_priority__\n",
      " |      Array priority.\n",
      " |  \n",
      " |  __array_struct__\n",
      " |      Array protocol: C-struct side.\n",
      " |  \n",
      " |  base\n",
      " |      Base object if memory is from some other object.\n",
      " |      \n",
      " |      Examples\n",
      " |      --------\n",
      " |      The base of an array that owns its memory is None:\n",
      " |      \n",
      " |      >>> x = np.array([1,2,3,4])\n",
      " |      >>> x.base is None\n",
      " |      True\n",
      " |      \n",
      " |      Slicing creates a view, whose memory is shared with x:\n",
      " |      \n",
      " |      >>> y = x[2:]\n",
      " |      >>> y.base is x\n",
      " |      True\n",
      " |  \n",
      " |  ctypes\n",
      " |      An object to simplify the interaction of the array with the ctypes\n",
      " |      module.\n",
      " |      \n",
      " |      This attribute creates an object that makes it easier to use arrays\n",
      " |      when calling shared libraries with the ctypes module. The returned\n",
      " |      object has, among others, data, shape, and strides attributes (see\n",
      " |      Notes below) which themselves return ctypes objects that can be used\n",
      " |      as arguments to a shared library.\n",
      " |      \n",
      " |      Parameters\n",
      " |      ----------\n",
      " |      None\n",
      " |      \n",
      " |      Returns\n",
      " |      -------\n",
      " |      c : Python object\n",
      " |          Possessing attributes data, shape, strides, etc.\n",
      " |      \n",
      " |      See Also\n",
      " |      --------\n",
      " |      numpy.ctypeslib\n",
      " |      \n",
      " |      Notes\n",
      " |      -----\n",
      " |      Below are the public attributes of this object which were documented\n",
      " |      in \"Guide to NumPy\" (we have omitted undocumented public attributes,\n",
      " |      as well as documented private attributes):\n",
      " |      \n",
      " |      * data: A pointer to the memory area of the array as a Python integer.\n",
      " |        This memory area may contain data that is not aligned, or not in correct\n",
      " |        byte-order. The memory area may not even be writeable. The array\n",
      " |        flags and data-type of this array should be respected when passing this\n",
      " |        attribute to arbitrary C-code to avoid trouble that can include Python\n",
      " |        crashing. User Beware! The value of this attribute is exactly the same\n",
      " |        as self._array_interface_['data'][0].\n",
      " |      \n",
      " |      * shape (c_intp*self.ndim): A ctypes array of length self.ndim where\n",
      " |        the basetype is the C-integer corresponding to dtype('p') on this\n",
      " |        platform. This base-type could be c_int, c_long, or c_longlong\n",
      " |        depending on the platform. The c_intp type is defined accordingly in\n",
      " |        numpy.ctypeslib. The ctypes array contains the shape of the underlying\n",
      " |        array.\n",
      " |      \n",
      " |      * strides (c_intp*self.ndim): A ctypes array of length self.ndim where\n",
      " |        the basetype is the same as for the shape attribute. This ctypes array\n",
      " |        contains the strides information from the underlying array. This strides\n",
      " |        information is important for showing how many bytes must be jumped to\n",
      " |        get to the next element in the array.\n",
      " |      \n",
      " |      * data_as(obj): Return the data pointer cast to a particular c-types object.\n",
      " |        For example, calling self._as_parameter_ is equivalent to\n",
      " |        self.data_as(ctypes.c_void_p). Perhaps you want to use the data as a\n",
      " |        pointer to a ctypes array of floating-point data:\n",
      " |        self.data_as(ctypes.POINTER(ctypes.c_double)).\n",
      " |      \n",
      " |      * shape_as(obj): Return the shape tuple as an array of some other c-types\n",
      " |        type. For example: self.shape_as(ctypes.c_short).\n",
      " |      \n",
      " |      * strides_as(obj): Return the strides tuple as an array of some other\n",
      " |        c-types type. For example: self.strides_as(ctypes.c_longlong).\n",
      " |      \n",
      " |      Be careful using the ctypes attribute - especially on temporary\n",
      " |      arrays or arrays constructed on the fly. For example, calling\n",
      " |      ``(a+b).ctypes.data_as(ctypes.c_void_p)`` returns a pointer to memory\n",
      " |      that is invalid because the array created as (a+b) is deallocated\n",
      " |      before the next Python statement. You can avoid this problem using\n",
      " |      either ``c=a+b`` or ``ct=(a+b).ctypes``. In the latter case, ct will\n",
      " |      hold a reference to the array until ct is deleted or re-assigned.\n",
      " |      \n",
      " |      If the ctypes module is not available, then the ctypes attribute\n",
      " |      of array objects still returns something useful, but ctypes objects\n",
      " |      are not returned and errors may be raised instead. In particular,\n",
      " |      the object will still have the as parameter attribute which will\n",
      " |      return an integer equal to the data attribute.\n",
      " |      \n",
      " |      Examples\n",
      " |      --------\n",
      " |      >>> import ctypes\n",
      " |      >>> x\n",
      " |      array([[0, 1],\n",
      " |             [2, 3]])\n",
      " |      >>> x.ctypes.data\n",
      " |      30439712\n",
      " |      >>> x.ctypes.data_as(ctypes.POINTER(ctypes.c_long))\n",
      " |      <ctypes.LP_c_long object at 0x01F01300>\n",
      " |      >>> x.ctypes.data_as(ctypes.POINTER(ctypes.c_long)).contents\n",
      " |      c_long(0)\n",
      " |      >>> x.ctypes.data_as(ctypes.POINTER(ctypes.c_longlong)).contents\n",
      " |      c_longlong(4294967296L)\n",
      " |      >>> x.ctypes.shape\n",
      " |      <numpy.core._internal.c_long_Array_2 object at 0x01FFD580>\n",
      " |      >>> x.ctypes.shape_as(ctypes.c_long)\n",
      " |      <numpy.core._internal.c_long_Array_2 object at 0x01FCE620>\n",
      " |      >>> x.ctypes.strides\n",
      " |      <numpy.core._internal.c_long_Array_2 object at 0x01FCE620>\n",
      " |      >>> x.ctypes.strides_as(ctypes.c_longlong)\n",
      " |      <numpy.core._internal.c_longlong_Array_2 object at 0x01F01300>\n",
      " |  \n",
      " |  data\n",
      " |      Python buffer object pointing to the start of the array's data.\n",
      " |  \n",
      " |  dtype\n",
      " |      Data-type of the array's elements.\n",
      " |      \n",
      " |      Parameters\n",
      " |      ----------\n",
      " |      None\n",
      " |      \n",
      " |      Returns\n",
      " |      -------\n",
      " |      d : numpy dtype object\n",
      " |      \n",
      " |      See Also\n",
      " |      --------\n",
      " |      numpy.dtype\n",
      " |      \n",
      " |      Examples\n",
      " |      --------\n",
      " |      >>> x\n",
      " |      array([[0, 1],\n",
      " |             [2, 3]])\n",
      " |      >>> x.dtype\n",
      " |      dtype('int32')\n",
      " |      >>> type(x.dtype)\n",
      " |      <type 'numpy.dtype'>\n",
      " |  \n",
      " |  flags\n",
      " |      Information about the memory layout of the array.\n",
      " |      \n",
      " |      Attributes\n",
      " |      ----------\n",
      " |      C_CONTIGUOUS (C)\n",
      " |          The data is in a single, C-style contiguous segment.\n",
      " |      F_CONTIGUOUS (F)\n",
      " |          The data is in a single, Fortran-style contiguous segment.\n",
      " |      OWNDATA (O)\n",
      " |          The array owns the memory it uses or borrows it from another object.\n",
      " |      WRITEABLE (W)\n",
      " |          The data area can be written to.  Setting this to False locks\n",
      " |          the data, making it read-only.  A view (slice, etc.) inherits WRITEABLE\n",
      " |          from its base array at creation time, but a view of a writeable\n",
      " |          array may be subsequently locked while the base array remains writeable.\n",
      " |          (The opposite is not true, in that a view of a locked array may not\n",
      " |          be made writeable.  However, currently, locking a base object does not\n",
      " |          lock any views that already reference it, so under that circumstance it\n",
      " |          is possible to alter the contents of a locked array via a previously\n",
      " |          created writeable view onto it.)  Attempting to change a non-writeable\n",
      " |          array raises a RuntimeError exception.\n",
      " |      ALIGNED (A)\n",
      " |          The data and all elements are aligned appropriately for the hardware.\n",
      " |      UPDATEIFCOPY (U)\n",
      " |          This array is a copy of some other array. When this array is\n",
      " |          deallocated, the base array will be updated with the contents of\n",
      " |          this array.\n",
      " |      FNC\n",
      " |          F_CONTIGUOUS and not C_CONTIGUOUS.\n",
      " |      FORC\n",
      " |          F_CONTIGUOUS or C_CONTIGUOUS (one-segment test).\n",
      " |      BEHAVED (B)\n",
      " |          ALIGNED and WRITEABLE.\n",
      " |      CARRAY (CA)\n",
      " |          BEHAVED and C_CONTIGUOUS.\n",
      " |      FARRAY (FA)\n",
      " |          BEHAVED and F_CONTIGUOUS and not C_CONTIGUOUS.\n",
      " |      \n",
      " |      Notes\n",
      " |      -----\n",
      " |      The `flags` object can be accessed dictionary-like (as in ``a.flags['WRITEABLE']``),\n",
      " |      or by using lowercased attribute names (as in ``a.flags.writeable``). Short flag\n",
      " |      names are only supported in dictionary access.\n",
      " |      \n",
      " |      Only the UPDATEIFCOPY, WRITEABLE, and ALIGNED flags can be changed by\n",
      " |      the user, via direct assignment to the attribute or dictionary entry,\n",
      " |      or by calling `ndarray.setflags`.\n",
      " |      \n",
      " |      The array flags cannot be set arbitrarily:\n",
      " |      \n",
      " |      - UPDATEIFCOPY can only be set ``False``.\n",
      " |      - ALIGNED can only be set ``True`` if the data is truly aligned.\n",
      " |      - WRITEABLE can only be set ``True`` if the array owns its own memory\n",
      " |        or the ultimate owner of the memory exposes a writeable buffer\n",
      " |        interface or is a string.\n",
      " |      \n",
      " |      Arrays can be both C-style and Fortran-style contiguous simultaneously.\n",
      " |      This is clear for 1-dimensional arrays, but can also be true for higher\n",
      " |      dimensional arrays.\n",
      " |      \n",
      " |      Even for contiguous arrays a stride for a given dimension\n",
      " |      ``arr.strides[dim]`` may be *arbitrary* if ``arr.shape[dim] == 1``\n",
      " |      or the array has no elements.\n",
      " |      It does *not* generally hold that ``self.strides[-1] == self.itemsize``\n",
      " |      for C-style contiguous arrays or ``self.strides[0] == self.itemsize`` for\n",
      " |      Fortran-style contiguous arrays is true.\n",
      " |  \n",
      " |  flat\n",
      " |      A 1-D iterator over the array.\n",
      " |      \n",
      " |      This is a `numpy.flatiter` instance, which acts similarly to, but is not\n",
      " |      a subclass of, Python's built-in iterator object.\n",
      " |      \n",
      " |      See Also\n",
      " |      --------\n",
      " |      flatten : Return a copy of the array collapsed into one dimension.\n",
      " |      \n",
      " |      flatiter\n",
      " |      \n",
      " |      Examples\n",
      " |      --------\n",
      " |      >>> x = np.arange(1, 7).reshape(2, 3)\n",
      " |      >>> x\n",
      " |      array([[1, 2, 3],\n",
      " |             [4, 5, 6]])\n",
      " |      >>> x.flat[3]\n",
      " |      4\n",
      " |      >>> x.T\n",
      " |      array([[1, 4],\n",
      " |             [2, 5],\n",
      " |             [3, 6]])\n",
      " |      >>> x.T.flat[3]\n",
      " |      5\n",
      " |      >>> type(x.flat)\n",
      " |      <type 'numpy.flatiter'>\n",
      " |      \n",
      " |      An assignment example:\n",
      " |      \n",
      " |      >>> x.flat = 3; x\n",
      " |      array([[3, 3, 3],\n",
      " |             [3, 3, 3]])\n",
      " |      >>> x.flat[[1,4]] = 1; x\n",
      " |      array([[3, 1, 3],\n",
      " |             [3, 1, 3]])\n",
      " |  \n",
      " |  imag\n",
      " |      The imaginary part of the array.\n",
      " |      \n",
      " |      Examples\n",
      " |      --------\n",
      " |      >>> x = np.sqrt([1+0j, 0+1j])\n",
      " |      >>> x.imag\n",
      " |      array([ 0.        ,  0.70710678])\n",
      " |      >>> x.imag.dtype\n",
      " |      dtype('float64')\n",
      " |  \n",
      " |  itemsize\n",
      " |      Length of one array element in bytes.\n",
      " |      \n",
      " |      Examples\n",
      " |      --------\n",
      " |      >>> x = np.array([1,2,3], dtype=np.float64)\n",
      " |      >>> x.itemsize\n",
      " |      8\n",
      " |      >>> x = np.array([1,2,3], dtype=np.complex128)\n",
      " |      >>> x.itemsize\n",
      " |      16\n",
      " |  \n",
      " |  nbytes\n",
      " |      Total bytes consumed by the elements of the array.\n",
      " |      \n",
      " |      Notes\n",
      " |      -----\n",
      " |      Does not include memory consumed by non-element attributes of the\n",
      " |      array object.\n",
      " |      \n",
      " |      Examples\n",
      " |      --------\n",
      " |      >>> x = np.zeros((3,5,2), dtype=np.complex128)\n",
      " |      >>> x.nbytes\n",
      " |      480\n",
      " |      >>> np.prod(x.shape) * x.itemsize\n",
      " |      480\n",
      " |  \n",
      " |  ndim\n",
      " |      Number of array dimensions.\n",
      " |      \n",
      " |      Examples\n",
      " |      --------\n",
      " |      >>> x = np.array([1, 2, 3])\n",
      " |      >>> x.ndim\n",
      " |      1\n",
      " |      >>> y = np.zeros((2, 3, 4))\n",
      " |      >>> y.ndim\n",
      " |      3\n",
      " |  \n",
      " |  real\n",
      " |      The real part of the array.\n",
      " |      \n",
      " |      Examples\n",
      " |      --------\n",
      " |      >>> x = np.sqrt([1+0j, 0+1j])\n",
      " |      >>> x.real\n",
      " |      array([ 1.        ,  0.70710678])\n",
      " |      >>> x.real.dtype\n",
      " |      dtype('float64')\n",
      " |      \n",
      " |      See Also\n",
      " |      --------\n",
      " |      numpy.real : equivalent function\n",
      " |  \n",
      " |  shape\n",
      " |      Tuple of array dimensions.\n",
      " |      \n",
      " |      Notes\n",
      " |      -----\n",
      " |      May be used to \"reshape\" the array, as long as this would not\n",
      " |      require a change in the total number of elements\n",
      " |      \n",
      " |      Examples\n",
      " |      --------\n",
      " |      >>> x = np.array([1, 2, 3, 4])\n",
      " |      >>> x.shape\n",
      " |      (4,)\n",
      " |      >>> y = np.zeros((2, 3, 4))\n",
      " |      >>> y.shape\n",
      " |      (2, 3, 4)\n",
      " |      >>> y.shape = (3, 8)\n",
      " |      >>> y\n",
      " |      array([[ 0.,  0.,  0.,  0.,  0.,  0.,  0.,  0.],\n",
      " |             [ 0.,  0.,  0.,  0.,  0.,  0.,  0.,  0.],\n",
      " |             [ 0.,  0.,  0.,  0.,  0.,  0.,  0.,  0.]])\n",
      " |      >>> y.shape = (3, 6)\n",
      " |      Traceback (most recent call last):\n",
      " |        File \"<stdin>\", line 1, in <module>\n",
      " |      ValueError: total size of new array must be unchanged\n",
      " |  \n",
      " |  size\n",
      " |      Number of elements in the array.\n",
      " |      \n",
      " |      Equivalent to ``np.prod(a.shape)``, i.e., the product of the array's\n",
      " |      dimensions.\n",
      " |      \n",
      " |      Examples\n",
      " |      --------\n",
      " |      >>> x = np.zeros((3, 5, 2), dtype=np.complex128)\n",
      " |      >>> x.size\n",
      " |      30\n",
      " |      >>> np.prod(x.shape)\n",
      " |      30\n",
      " |  \n",
      " |  strides\n",
      " |      Tuple of bytes to step in each dimension when traversing an array.\n",
      " |      \n",
      " |      The byte offset of element ``(i[0], i[1], ..., i[n])`` in an array `a`\n",
      " |      is::\n",
      " |      \n",
      " |          offset = sum(np.array(i) * a.strides)\n",
      " |      \n",
      " |      A more detailed explanation of strides can be found in the\n",
      " |      \"ndarray.rst\" file in the NumPy reference guide.\n",
      " |      \n",
      " |      Notes\n",
      " |      -----\n",
      " |      Imagine an array of 32-bit integers (each 4 bytes)::\n",
      " |      \n",
      " |        x = np.array([[0, 1, 2, 3, 4],\n",
      " |                      [5, 6, 7, 8, 9]], dtype=np.int32)\n",
      " |      \n",
      " |      This array is stored in memory as 40 bytes, one after the other\n",
      " |      (known as a contiguous block of memory).  The strides of an array tell\n",
      " |      us how many bytes we have to skip in memory to move to the next position\n",
      " |      along a certain axis.  For example, we have to skip 4 bytes (1 value) to\n",
      " |      move to the next column, but 20 bytes (5 values) to get to the same\n",
      " |      position in the next row.  As such, the strides for the array `x` will be\n",
      " |      ``(20, 4)``.\n",
      " |      \n",
      " |      See Also\n",
      " |      --------\n",
      " |      numpy.lib.stride_tricks.as_strided\n",
      " |      \n",
      " |      Examples\n",
      " |      --------\n",
      " |      >>> y = np.reshape(np.arange(2*3*4), (2,3,4))\n",
      " |      >>> y\n",
      " |      array([[[ 0,  1,  2,  3],\n",
      " |              [ 4,  5,  6,  7],\n",
      " |              [ 8,  9, 10, 11]],\n",
      " |             [[12, 13, 14, 15],\n",
      " |              [16, 17, 18, 19],\n",
      " |              [20, 21, 22, 23]]])\n",
      " |      >>> y.strides\n",
      " |      (48, 16, 4)\n",
      " |      >>> y[1,1,1]\n",
      " |      17\n",
      " |      >>> offset=sum(y.strides * np.array((1,1,1)))\n",
      " |      >>> offset/y.itemsize\n",
      " |      17\n",
      " |      \n",
      " |      >>> x = np.reshape(np.arange(5*6*7*8), (5,6,7,8)).transpose(2,3,1,0)\n",
      " |      >>> x.strides\n",
      " |      (32, 4, 224, 1344)\n",
      " |      >>> i = np.array([3,5,2,2])\n",
      " |      >>> offset = sum(i * x.strides)\n",
      " |      >>> x[3,5,2,2]\n",
      " |      813\n",
      " |      >>> offset / x.itemsize\n",
      " |      813\n",
      " |  \n",
      " |  ----------------------------------------------------------------------\n",
      " |  Data and other attributes defined here:\n",
      " |  \n",
      " |  __hash__ = None\n",
      "\n"
     ]
    }
   ],
   "source": [
    "r_copy = r.copy()\n",
    "# r_copy= copy(r)  说明了一个问题，r并不是copy一个参数\n",
    "r_copy\n",
    "help(r)"
   ]
  },
  {
   "cell_type": "markdown",
   "metadata": {},
   "source": [
    "<br>\n",
    "Now when r_copy is modified, r will not be changed."
   ]
  },
  {
   "cell_type": "code",
   "execution_count": 123,
   "metadata": {
    "collapsed": false
   },
   "outputs": [
    {
     "name": "stdout",
     "output_type": "stream",
     "text": [
      "[[10 10 10 10 10 10]\n",
      " [10 10 10 10 10 10]\n",
      " [10 10 10 10 10 10]\n",
      " [10 10 10 10 10 10]\n",
      " [10 10 10 10 10 10]\n",
      " [10 10 10 10 10 10]] \n",
      "\n",
      "[[ 0  0  0  3  4  5]\n",
      " [ 0  0  0  9 10 11]\n",
      " [ 0  0  0 15 16 17]\n",
      " [18 19 20 21 22 23]\n",
      " [24 25 26 27 28 29]\n",
      " [30 30 30 30 30 30]]\n"
     ]
    }
   ],
   "source": [
    "r_copy[:] = 10\n",
    "print(r_copy, '\\n')\n",
    "print(r)"
   ]
  },
  {
   "cell_type": "markdown",
   "metadata": {},
   "source": [
    "<br>\n",
    "### Iterating Over Arrays"
   ]
  },
  {
   "cell_type": "markdown",
   "metadata": {},
   "source": [
    "Let's create a new 4 by 3 array of random numbers 0-9."
   ]
  },
  {
   "cell_type": "code",
   "execution_count": 124,
   "metadata": {
    "collapsed": false
   },
   "outputs": [
    {
     "data": {
      "text/plain": [
       "array([[6, 7, 3],\n",
       "       [8, 5, 4],\n",
       "       [8, 4, 3],\n",
       "       [1, 4, 8]])"
      ]
     },
     "execution_count": 124,
     "metadata": {},
     "output_type": "execute_result"
    }
   ],
   "source": [
    "test = np.random.randint(0, 10, (4,3))\n",
    "test"
   ]
  },
  {
   "cell_type": "markdown",
   "metadata": {},
   "source": [
    "<br>\n",
    "Iterate by row:"
   ]
  },
  {
   "cell_type": "code",
   "execution_count": 128,
   "metadata": {
    "collapsed": false
   },
   "outputs": [
    {
     "name": "stdout",
     "output_type": "stream",
     "text": [
      "[6 7 3]\n",
      "[8 5 4]\n",
      "[8 4 3]\n",
      "[1 4 8]\n"
     ]
    }
   ],
   "source": [
    "for row in test:\n",
    "    print(row)"
   ]
  },
  {
   "cell_type": "markdown",
   "metadata": {},
   "source": [
    "<br>\n",
    "Iterate by index:"
   ]
  },
  {
   "cell_type": "code",
   "execution_count": 129,
   "metadata": {
    "collapsed": false
   },
   "outputs": [
    {
     "name": "stdout",
     "output_type": "stream",
     "text": [
      "[6 7 3]\n",
      "[8 5 4]\n",
      "[8 4 3]\n",
      "[1 4 8]\n"
     ]
    }
   ],
   "source": [
    "for i in range(len(test)):\n",
    "    print(test[i])"
   ]
  },
  {
   "cell_type": "markdown",
   "metadata": {},
   "source": [
    "<br>\n",
    "Iterate by row and index:"
   ]
  },
  {
   "cell_type": "code",
   "execution_count": 130,
   "metadata": {
    "collapsed": false
   },
   "outputs": [
    {
     "name": "stdout",
     "output_type": "stream",
     "text": [
      "row 0 is [6 7 3]\n",
      "row 1 is [8 5 4]\n",
      "row 2 is [8 4 3]\n",
      "row 3 is [1 4 8]\n"
     ]
    }
   ],
   "source": [
    "for i, row in enumerate(test):\n",
    "    print('row', i, 'is', row)"
   ]
  },
  {
   "cell_type": "markdown",
   "metadata": {},
   "source": [
    "<br>\n",
    "Use `zip` to iterate over multiple iterables."
   ]
  },
  {
   "cell_type": "code",
   "execution_count": 131,
   "metadata": {
    "collapsed": false
   },
   "outputs": [
    {
     "data": {
      "text/plain": [
       "array([[36, 49,  9],\n",
       "       [64, 25, 16],\n",
       "       [64, 16,  9],\n",
       "       [ 1, 16, 64]])"
      ]
     },
     "execution_count": 131,
     "metadata": {},
     "output_type": "execute_result"
    }
   ],
   "source": [
    "test2 = test**2\n",
    "test2"
   ]
  },
  {
   "cell_type": "code",
   "execution_count": 132,
   "metadata": {
    "collapsed": false
   },
   "outputs": [
    {
     "name": "stdout",
     "output_type": "stream",
     "text": [
      "[6 7 3] + [36 49  9] = [42 56 12]\n",
      "[8 5 4] + [64 25 16] = [72 30 20]\n",
      "[8 4 3] + [64 16  9] = [72 20 12]\n",
      "[1 4 8] + [ 1 16 64] = [ 2 20 72]\n"
     ]
    }
   ],
   "source": [
    "for i, j in zip(test, test2):\n",
    "    print(i,'+',j,'=',i+j)"
   ]
  }
 ],
 "metadata": {
  "kernelspec": {
   "display_name": "Python 3",
   "language": "python",
   "name": "python3"
  },
  "language_info": {
   "codemirror_mode": {
    "name": "ipython",
    "version": 3
   },
   "file_extension": ".py",
   "mimetype": "text/x-python",
   "name": "python",
   "nbconvert_exporter": "python",
   "pygments_lexer": "ipython3",
   "version": "3.5.2"
  }
 },
 "nbformat": 4,
 "nbformat_minor": 0
}
